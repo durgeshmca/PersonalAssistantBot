{
 "cells": [
  {
   "cell_type": "markdown",
   "metadata": {},
   "source": [
    "# Agentic RAG\n"
   ]
  },
  {
   "cell_type": "code",
   "execution_count": 2,
   "metadata": {},
   "outputs": [
    {
     "data": {
      "text/plain": [
       "True"
      ]
     },
     "execution_count": 2,
     "metadata": {},
     "output_type": "execute_result"
    }
   ],
   "source": [
    "from dotenv import load_dotenv\n",
    "load_dotenv()"
   ]
  },
  {
   "cell_type": "markdown",
   "metadata": {},
   "source": [
    "## Configuring Tools\n",
    "#### We will be using Tavily Search API to search the web and \n",
    "#### a PDF document retrieval tool to get information from a PDF file "
   ]
  },
  {
   "cell_type": "code",
   "execution_count": 3,
   "metadata": {},
   "outputs": [
    {
     "data": {
      "text/plain": [
       "[{'url': 'https://www.filmibeat.com/bollywood/movies/chhaava.html',\n",
       "  'content': \"Chhaava (Chava) Movie (2025): Release Date, Cast, Ott, Review, Trailer, Story, Box Office Collection – Filmibeat Home » Hindi » Movies » Chhaava Chhaava Chhaava Story Chhaava is an upcoming Bollywood Historical action film directed by Laxman Utekar, featuring Vicky Kaushal, Rashmika Mandanna and Akshaye Khanna in lead roles. Chhaava Videos Chhaava News Mrs. Family Drama To Chhaava's Valor: List Of Movies Releasing In February In the movie Chhaava, Vicky Kaushal, Rashmika Mandanna played the primary roles. When is Chhaava releasing? Chhaava is all set to hit theaters on 14 Feb 2025. Who directed Chhaava? What are some similar movies to Chhaava? The soundtracks and background music were composed by A R Rahman for the movie Chhaava. The movie Chhaava belonged to the Action, genre. Chhaava\"},\n",
       " {'url': 'https://www.imdb.com/title/tt32117939/releaseinfo/',\n",
       "  'content': 'Release Date ... India ... May 1, 2024(Mumbai, premiere) ... Also Known As (AKA) ... original title ... Chhava ... Australia ... Chhava ... Canada ... Chhava(English) ... Germany.'},\n",
       " {'url': 'https://www.livemint.com/entertainment/chhaava-ott-release-when-will-vicky-kaushal-s-movie-start-streaming-online-heres-what-we-know-so-far-11739597177017.html',\n",
       "  'content': 'Chhaava, released on February 14, stars Vicky Kaushal, Rashmika Mandanna and Akshaye Khanna. Vicky Kaushal portrays Maratha King Sambhaji'},\n",
       " {'url': 'https://www.ndtv.com/entertainment/vicky-kaushal-s-chhaava-to-release-on-chhatrapati-shivaji-maharaj-jayanti-7123379',\n",
       "  'content': 'Chhaava was originally scheduled to be released on December 6. With the new premier date, the movie will now avoid the blockbuster box office'},\n",
       " {'url': 'https://en.wikipedia.org/wiki/Chhaava',\n",
       "  'content': 'Lion\\'s cub) is an upcoming Indian Hindi-language historical action film based on the life of Maratha king Chhatrapati Sambhaji Maharaj, played by Vicky Kaushal. Directed by Laxman Utekar and produced by Dinesh Vijan under Maddock Films, the film also stars Rashmika Mandanna and Akshaye Khanna. Rashmika Mandanna wrapped up her portion in January 2024.[12] Vicky Kaushal resumed filming in Wai on 9 March and continued till 6 April.[13] Earlier, the team had approached Anil Kapoor for the role of Aurangzeb. ^ \"Chhaava: Vicky Kaushal, Akshaye Khanna join star-studded historical epic on Chhatrapati Sambhaji Maharaj\". ^ \"Chhaava Teaser: Vicky Kaushal Goes on a Bloodbath as Chhatrapati Sambhaji Maharaj, Release Date Out\".'}]"
      ]
     },
     "execution_count": 3,
     "metadata": {},
     "output_type": "execute_result"
    }
   ],
   "source": [
    "from langchain_community.tools import TavilySearchResults\n",
    "# search tool which will return upto 6 search result\n",
    "search_tool = TavilySearchResults(k=6)\n",
    "search_tool.invoke(\"When was the movie Chhava released?\")"
   ]
  },
  {
   "cell_type": "code",
   "execution_count": 4,
   "metadata": {},
   "outputs": [
    {
     "name": "stderr",
     "output_type": "stream",
     "text": [
      "/official/official_docs/PythonLearning/GenerativeAIWithLangchainByKrish/projects/env/lib/python3.11/site-packages/tqdm/auto.py:21: TqdmWarning: IProgress not found. Please update jupyter and ipywidgets. See https://ipywidgets.readthedocs.io/en/stable/user_install.html\n",
      "  from .autonotebook import tqdm as notebook_tqdm\n"
     ]
    }
   ],
   "source": [
    "# Implementing PDF Search\n",
    "from langchain_text_splitters import RecursiveCharacterTextSplitter\n",
    "from langchain_community.vectorstores import FAISS\n",
    "from langchain_huggingface.embeddings import HuggingFaceEmbeddings\n",
    "from langchain_community.document_loaders import PyPDFLoader\n",
    "from langchain.tools.retriever import create_retriever_tool\n",
    "\n",
    "# load pdf file\n",
    "pdf_loader = PyPDFLoader(\"data/What_Is_AI.pdf\")\n",
    "\n",
    "# text splitter\n",
    "text_splitter = RecursiveCharacterTextSplitter(chunk_size=1000, chunk_overlap=100)\n",
    "# split the document\n",
    "split_docs = pdf_loader.load_and_split(text_splitter=text_splitter)\n",
    "\n",
    "# create vectore store\n",
    "embeddings = HuggingFaceEmbeddings(model_name='all-MiniLM-L6-v2')\n",
    "vectore_store = FAISS.from_documents(split_docs,embeddings)\n",
    "\n",
    "# create retriver\n",
    "retriver = vectore_store.as_retriever()\n",
    "# create retriver tool\n",
    "retriver_tool = create_retriever_tool(\n",
    "    retriever=retriver,\n",
    "    name=\"pdf_search\",\n",
    "    description=\"Use this tool to search information from the pdf document\"\n",
    ")\n"
   ]
  },
  {
   "cell_type": "code",
   "execution_count": null,
   "metadata": {},
   "outputs": [
    {
     "data": {
      "text/plain": [
       "'8 2 What Is AI?\\nthat developing intelligent computers and robots means creating something that does\\nnot exist today. Artiﬁcial intelligence is a moving target.\\nIndeed, even the deﬁnition of AI itself is volatile and has changed over time.\\nKaplan and Haenlein deﬁne AI as “a system’s ability to correctly interpret external\\ndata, to learn from such data, and to use those learnings to achieve speciﬁc goals and\\ntasks through ﬂexible adaptation” (Kaplan and Haenlein 2019). Poole and Mackworth\\n(2010) deﬁne AI as “the ﬁeld that studies the synthesis and analysis of computational\\nagents that act intelligently.” An agent is something (or someone) that acts. An agent\\nis intelligent when:\\n1. its actions are appropriate for its circumstances and its goals\\n2. it is ﬂexible to changing environments and changing goals\\n3. it learns from experience, and\\n4. it makes appropriate choices given its perceptual and computational limitations.\\n\\nintelligent and an agent.\\n2.1 Introduction to AI\\nThe ﬁeld of artiﬁcial intelligence (AI) has evolved from humble beginnings to a\\nﬁeld with global impact. The deﬁnition of AI and of what should and should not be\\nincluded has changed over time. Experts in the ﬁeld joke that AI is everything that\\ncomputers cannot currently do. Although facetious on the surface, there is a sense\\n\\nas sense, plan and act on the basis of its initial conﬁguration, it might be said to\\nbe more intelligent than an AI that just has a set of rules that guides a ﬁxed set of\\nactions. However, there are some contexts in which you might not want the AI to\\nlearn new rules and behaviours, during the performance of a medical procedure, for\\nexample. Proponents of the various approaches tend to stress some of these elements\\nmore than others. For example, developers of expert systems see AI as a repository of\\nexpert knowledge that humans can consult, whereas developers of machine learning\\nsystems see AI as something that might discover new knowledge. As we shall see,\\neach approach has strengths and weaknesses.\\n\\n10 2 What Is AI?\\nhuman would have to talk to the machine before making a decision. Still, the Turing\\nTest marked an important attempt to avoid ill-deﬁned vague terms such as “thinking”\\nand instead deﬁne AI with respect to a testable task or activity.\\n2.1.2 Strong and W eak AI\\nJohn Searle later divided AI into two distinct camps. Weak AI is limited to a single,\\nnarrowly deﬁned task. Most modern AI systems would be classiﬁed in this category.\\nThese systems are developed to handle a single problem, task or issue and are gen-\\nerally not capable of solving other problems, even related ones. In contrast to weak\\nAI, Searle deﬁnes strong AI in the following way: “The appropriately programmed\\ncomputer with the right inputs and outputs would thereby have a mind in exactly the\\nsame sense human beings have minds” (Searle 1980). In strong AI, Searle chooses to\\nconnect the achievement of AI with the representation of information in the human'"
      ]
     },
     "execution_count": 5,
     "metadata": {},
     "output_type": "execute_result"
    }
   ],
   "source": [
    "retriver_tool.invoke(\"What is AI\")"
   ]
  },
  {
   "cell_type": "code",
   "execution_count": 7,
   "metadata": {},
   "outputs": [
    {
     "data": {
      "text/plain": [
       "[Document(id='c98da403-75a1-4db4-a2ff-5bf360f97e4c', metadata={'producer': 'PyPDF', 'creator': 'Springer', 'creationdate': '2020-08-06T14:51:32+05:30', 'author': 'Christoph Bartneck', 'crossmarkdomains[1]': 'springer.com', 'crossmarkdomains[2]': 'springerlink.com', 'crossmarkdomainexclusive': 'true', 'crossmarkmajorversiondate': '2010-04-23', 'moddate': '2020-08-06T14:53:38+05:30', 'subject': 'An Introduction to Ethics in Robotics and AI, doi:10.1007/978-3-030-51110-4_2', 'title': 'What Is AI?', 'doi': '10.1007/978-3-030-51110-4_2', 'robots': 'noindex', 'source': 'data/What_Is_AI.pdf', 'total_pages': 12, 'page': 9, 'page_label': '14'}, page_content='Poker). Even if an AI agent is agreed to have passed the Turing test, it is not clear\\nwhether the passing of the test is a necessary and sufﬁcient condition for intelligence.\\nAI has been subject to many hype cycles. Often even minor advancements have\\nbeen hailed as major breakthroughs with predictions of soon to come autonomous\\nintelligent products. These advancements should be considered with respect to the\\nnarrowness of the problem attempted. For example, early types of autonomous cars\\ncapable of driving thousands of miles at a time (under certain conditions) were already\\nbeing developed in the 1980s in the US and Germany. It took, however, another 30+\\nyears for these systems to just begin to be introduced in non-research environments.\\nHence, predicting the speed of progression of AI is very difﬁcult—and in this regard,\\nmost prophets have simply failed.\\n2.5 Science and Fiction of AI\\nArtiﬁcial Intelligence and robotics are frequent topics in popular culture. In 1968, the'),\n",
       " Document(id='37637808-aa41-48c2-be49-6422f0133ed3', metadata={'producer': 'PyPDF', 'creator': 'Springer', 'creationdate': '2020-08-06T14:51:32+05:30', 'author': 'Christoph Bartneck', 'crossmarkdomains[1]': 'springer.com', 'crossmarkdomains[2]': 'springerlink.com', 'crossmarkdomainexclusive': 'true', 'crossmarkmajorversiondate': '2010-04-23', 'moddate': '2020-08-06T14:53:38+05:30', 'subject': 'An Introduction to Ethics in Robotics and AI, doi:10.1007/978-3-030-51110-4_2', 'title': 'What Is AI?', 'doi': '10.1007/978-3-030-51110-4_2', 'robots': 'noindex', 'source': 'data/What_Is_AI.pdf', 'total_pages': 12, 'page': 11, 'page_label': '16'}, page_content='16 2 What Is AI?\\nDiscussion Questions:\\n\\x81 Explain the difference between weak and strong AI. Give examples from\\nscience ﬁction describing machines that could be categorised as displaying\\nstrong and weak AI.\\n\\x81 Given the description of supervised machine learning above, how might\\na classiﬁer come to include societal biases? How might the removal of\\nsuch biases impact classiﬁer performance? Describe a situation in which\\nstakeholders must balance the tradeoff between bias and performance.\\n\\x81 Consider the sense-plan-act paradigm described above. How might errors\\nat one step of this process impact the other steps? Draw an informal graph\\nof robot performance versus time.\\nFurther Reading:\\n\\x81 Stuart J. Russell and Peter Norvig. Artiﬁcial intelligence: a modern\\napproach. Prentice Hall, Upper Saddle River, N.J, 3rd edition, 2010. ISBN\\n9780132071482. URL http://www.worldcat.org/oclc/688385283\\n\\x81 Ryszard S Michalski, Jaime G Carbonell, and Tom M Mitchell. Machine'),\n",
       " Document(id='a2bb320d-9481-46ba-910b-c69b4a945398', metadata={'producer': 'PyPDF', 'creator': 'Springer', 'creationdate': '2020-08-06T14:51:32+05:30', 'author': 'Christoph Bartneck', 'crossmarkdomains[1]': 'springer.com', 'crossmarkdomains[2]': 'springerlink.com', 'crossmarkdomainexclusive': 'true', 'crossmarkmajorversiondate': '2010-04-23', 'moddate': '2020-08-06T14:53:38+05:30', 'subject': 'An Introduction to Ethics in Robotics and AI, doi:10.1007/978-3-030-51110-4_2', 'title': 'What Is AI?', 'doi': '10.1007/978-3-030-51110-4_2', 'robots': 'noindex', 'source': 'data/What_Is_AI.pdf', 'total_pages': 12, 'page': 9, 'page_label': '14'}, page_content='with a changing, dynamic, and unpredictable world. As mentioned, AI systems lack\\ncommon sense. Put another way, AI systems lack the enormous amount of experi-\\nence and interactions with the world that constitute the knowledge that is typically\\ncalled common sense. Not having this large body of experience makes even the most\\nmundane task difﬁcult for a robot to achieve. Moreover, lack of experience in the\\nworld makes communicating with a human and understanding a human’s directions\\ndifﬁcult. This idea is typically described as common ground.\\nAlthough a number of software systems have claimed to have passed the Turing\\ntest, these claims have been disputed. No AI system has yet achieved strong AI, but\\nsome may have achieved weak AI based on their performance on a narrow, well-\\ndeﬁned task (like beating a grandmaster in chess or Go, or experienced players in\\nPoker). Even if an AI agent is agreed to have passed the Turing test, it is not clear'),\n",
       " Document(id='7c3b8f3a-7dfe-473e-a989-6a5c6300bf17', metadata={'producer': 'PyPDF', 'creator': 'Springer', 'creationdate': '2020-08-06T14:51:32+05:30', 'author': 'Christoph Bartneck', 'crossmarkdomains[1]': 'springer.com', 'crossmarkdomains[2]': 'springerlink.com', 'crossmarkdomainexclusive': 'true', 'crossmarkmajorversiondate': '2010-04-23', 'moddate': '2020-08-06T14:53:38+05:30', 'subject': 'An Introduction to Ethics in Robotics and AI, doi:10.1007/978-3-030-51110-4_2', 'title': 'What Is AI?', 'doi': '10.1007/978-3-030-51110-4_2', 'robots': 'noindex', 'source': 'data/What_Is_AI.pdf', 'total_pages': 12, 'page': 3, 'page_label': '8'}, page_content='8 2 What Is AI?\\nthat developing intelligent computers and robots means creating something that does\\nnot exist today. Artiﬁcial intelligence is a moving target.\\nIndeed, even the deﬁnition of AI itself is volatile and has changed over time.\\nKaplan and Haenlein deﬁne AI as “a system’s ability to correctly interpret external\\ndata, to learn from such data, and to use those learnings to achieve speciﬁc goals and\\ntasks through ﬂexible adaptation” (Kaplan and Haenlein 2019). Poole and Mackworth\\n(2010) deﬁne AI as “the ﬁeld that studies the synthesis and analysis of computational\\nagents that act intelligently.” An agent is something (or someone) that acts. An agent\\nis intelligent when:\\n1. its actions are appropriate for its circumstances and its goals\\n2. it is ﬂexible to changing environments and changing goals\\n3. it learns from experience, and\\n4. it makes appropriate choices given its perceptual and computational limitations.')]"
      ]
     },
     "execution_count": 7,
     "metadata": {},
     "output_type": "execute_result"
    }
   ],
   "source": [
    "retriver.invoke(\"What are the main limitations of AI discussed in the text?\")"
   ]
  },
  {
   "cell_type": "markdown",
   "metadata": {},
   "source": [
    "### Combine tools"
   ]
  },
  {
   "cell_type": "code",
   "execution_count": 8,
   "metadata": {},
   "outputs": [],
   "source": [
    "# Combine tools into a single list for the agent to use\n",
    "tools = [search_tool, retriver_tool]"
   ]
  },
  {
   "cell_type": "markdown",
   "metadata": {},
   "source": [
    "## Building the Agent"
   ]
  },
  {
   "cell_type": "code",
   "execution_count": 14,
   "metadata": {},
   "outputs": [],
   "source": [
    "from langchain_groq import ChatGroq\n",
    "from langchain_core.prompts import ChatPromptTemplate\n",
    "from langchain.agents import create_tool_calling_agent,AgentExecutor\n",
    "\n",
    "# initialize the LLM\n",
    "llm = ChatGroq(model=\"llama-3.3-70b-versatile\")\n",
    "# prompt \n",
    "prompt = ChatPromptTemplate.from_messages([\n",
    "    (\"system\",\n",
    "     \"You are a helpfull assistant.\"\n",
    "     \"Make sure to use `pdf_search` tool for searching information from PDF document.\"\n",
    "     \"If you can not find information from `pdf_search` tool then use `search_tool` to get the information from web.\"),\n",
    "     (\"placeholder\",\"{chat_history}\"),\n",
    "     (\"human\",\"{input}\"),\n",
    "     (\"placeholder\",\"{agent_scratchpad}\")\n",
    "])\n",
    "\n",
    "# create agent\n",
    "agent = create_tool_calling_agent(llm=llm,tools=tools,prompt=prompt)\n",
    "\n",
    "\n"
   ]
  },
  {
   "cell_type": "code",
   "execution_count": 24,
   "metadata": {},
   "outputs": [],
   "source": [
    "# create agent executor\n",
    "agent_executor = AgentExecutor(\n",
    "    agent=agent,\n",
    "    tools=tools,\n",
    "    verbose=False\n",
    ")"
   ]
  },
  {
   "cell_type": "code",
   "execution_count": 25,
   "metadata": {},
   "outputs": [
    {
     "data": {
      "text/plain": [
       "{'input': 'search about What is AI? from PDF',\n",
       " 'output': \"Artificial intelligence (AI) is a system's ability to correctly interpret external data, learn from such data, and use those learnings to achieve specific goals and tasks through flexible adaptation. It is a field that studies the synthesis and analysis of computational agents that act intelligently. An agent is considered intelligent when its actions are appropriate for its circumstances and goals, it is flexible to changing environments and goals, it learns from experience, and it makes appropriate choices given its perceptual and computational limitations. AI can be divided into two categories: weak AI, which is limited to a single, narrowly defined task, and strong AI, which has a mind in the same sense as human beings.\"}"
      ]
     },
     "execution_count": 25,
     "metadata": {},
     "output_type": "execute_result"
    }
   ],
   "source": [
    "agent_executor.invoke({\"input\":\"search about What is AI? from PDF\"})"
   ]
  },
  {
   "cell_type": "markdown",
   "metadata": {},
   "source": [
    "### Implementing Chat History"
   ]
  },
  {
   "cell_type": "code",
   "execution_count": 26,
   "metadata": {},
   "outputs": [],
   "source": [
    "from langchain_community.chat_message_histories import ChatMessageHistory\n",
    "from langchain_core.runnables.history import RunnableWithMessageHistory\n",
    "\n",
    "# create a store for session histories\n",
    "store = {}\n",
    "\n",
    "# get session histories\n",
    "def get_session_history(session_id):\n",
    "    if store.get(session_id) is None:\n",
    "        store[session_id] = ChatMessageHistory()\n",
    "    return store[session_id]\n",
    "\n",
    "# create agent with chat history\n",
    "agent_with_history = RunnableWithMessageHistory(\n",
    "    agent_executor,\n",
    "    get_session_history=get_session_history,\n",
    "    input_messages_key=\"input\",\n",
    "    history_messages_key=\"chat_history\"\n",
    ")"
   ]
  },
  {
   "cell_type": "code",
   "execution_count": 27,
   "metadata": {},
   "outputs": [],
   "source": [
    "def process_response(response):\n",
    "    \"\"\"\n",
    "    Process and display streaming response from the agent.\n",
    "\n",
    "    Args:\n",
    "        response: Agent's streaming response iterator\n",
    "    \"\"\"\n",
    "    for chunk in response:\n",
    "        if chunk.get(\"output\"):\n",
    "            print(chunk[\"output\"])\n",
    "        elif chunk.get(\"actions\"):\n",
    "            for action in chunk[\"actions\"]:\n",
    "                print(f\"\\nTool Used: {action.tool}\")\n",
    "                print(f\"Tool Input: {action.tool_input}\")\n",
    "                if action.log:\n",
    "                    print(f\"Tool Log: {action.log}\")"
   ]
  },
  {
   "cell_type": "code",
   "execution_count": 30,
   "metadata": {},
   "outputs": [
    {
     "name": "stdout",
     "output_type": "stream",
     "text": [
      "\n",
      "Tool Used: pdf_search\n",
      "Tool Input: {'query': 'Samsung AI model'}\n",
      "Tool Log: \n",
      "Invoking: `pdf_search` with `{'query': 'Samsung AI model'}`\n",
      "\n",
      "\n",
      "\n",
      "\n",
      "Tool Used: pdf_search\n",
      "Tool Input: {'query': 'Samsung AI model'}\n",
      "Tool Log: \n",
      "Invoking: `pdf_search` with `{'query': 'Samsung AI model'}`\n",
      "\n",
      "\n",
      "\n",
      "The provided PDF document does not contain any information about Samsung's AI model. The document appears to be a general introduction to the field of Artificial Intelligence, covering topics such as the definition of AI, its history, and its various applications. It does not mention Samsung or any specific AI models developed by the company. If you would like to know more about Samsung's AI model, I can try searching the web for more information.\n"
     ]
    }
   ],
   "source": [
    "#  example 1 search in pdf\n",
    "response = agent_with_history.stream(\n",
    "    {\"input\":\"What information can you find about Samsung's AI model in the PDF document only? Ask first before searching from web\"},\n",
    "    config={\"configurable\":{\"session_id\":\"durgesh2\"}}\n",
    "    \n",
    ")\n",
    "process_response(response)"
   ]
  },
  {
   "cell_type": "code",
   "execution_count": 31,
   "metadata": {},
   "outputs": [
    {
     "name": "stdout",
     "output_type": "stream",
     "text": [
      "\n",
      "Tool Used: tavily_search_results_json\n",
      "Tool Input: {'query': 'Samsung latest AI model'}\n",
      "Tool Log: \n",
      "Invoking: `tavily_search_results_json` with `{'query': 'Samsung latest AI model'}`\n",
      "\n",
      "\n",
      "\n",
      "Samsung's latest AI model is called Samsung Vision AI, which is integrated across its most comprehensive lineup of devices, including Neo QLED, OLED, QLED, and The Frame models. The Galaxy S25 series also features advanced AI image processing with ProScaler11 and custom technology with Samsung's mobile Digital Natural Image engine (mDNIe) embedded within the processor using Galaxy IP to enable greater display power efficiency. The Galaxy S25 series introduces a new AI-integrated OS offering more helpful and intuitive interactions and personalized experiences powered by enhanced hardware, including the most powerful processor ever used in a Galaxy device. Additionally, the Galaxy S25 uses Gemini offered by Alphabet's Google as its default AI engine, and features Samsung's upgraded AI-powered functions.\n"
     ]
    }
   ],
   "source": [
    "# Example 2: Following up with web search (same session)\n",
    "response = agent_with_history.stream(\n",
    "    {\n",
    "        \"input\": \"Yes, please search the web for information about Samsung's latest AI model\"\n",
    "    },\n",
    "    config={\"configurable\": {\"session_id\": \"durgesh2\"}},\n",
    ")\n",
    "process_response(response)"
   ]
  },
  {
   "cell_type": "code",
   "execution_count": 32,
   "metadata": {},
   "outputs": [
    {
     "name": "stdout",
     "output_type": "stream",
     "text": [
      "\n",
      "Tool Used: pdf_search\n",
      "Tool Input: {'query': 'Strong and Weak AI'}\n",
      "Tool Log: \n",
      "Invoking: `pdf_search` with `{'query': 'Strong and Weak AI'}`\n",
      "\n",
      "\n",
      "\n",
      "According to the PDF document, Strong AI is defined by John Searle as \"The appropriately programmed computer with the right inputs and outputs would thereby have a mind in exactly the same sense human beings have minds.\" This means that Strong AI would have a mind similar to that of a human being. On the other hand, Weak AI is limited to a single, narrowly defined task and is not capable of solving other problems, even related ones. Most modern AI systems would be classified as Weak AI. The document also mentions that the achievement of AI is connected to the representation of information in the human mind, and that creating artificially intelligent agents and robots is extremely challenging and fraught with difficulties.\n"
     ]
    }
   ],
   "source": [
    "# Example 3: New session with different topic (Session 2)\n",
    "response = agent_with_history.stream(\n",
    "    {\"input\": \"What can you tell me about Strong and Weak AI from the PDF document?\"},\n",
    "    config={\"configurable\": {\"session_id\": \"durgesh3\"}},\n",
    ")\n",
    "process_response(response)"
   ]
  },
  {
   "cell_type": "code",
   "execution_count": 34,
   "metadata": {},
   "outputs": [
    {
     "data": {
      "text/plain": [
       "{'input': 'Can you organize your previous response into a table format?',\n",
       " 'chat_history': [HumanMessage(content='What can you tell me about Strong and Weak AI from the PDF document?', additional_kwargs={}, response_metadata={}),\n",
       "  AIMessage(content='According to the PDF document, Strong AI is defined by John Searle as \"The appropriately programmed computer with the right inputs and outputs would thereby have a mind in exactly the same sense human beings have minds.\" This means that Strong AI would have a mind similar to that of a human being. On the other hand, Weak AI is limited to a single, narrowly defined task and is not capable of solving other problems, even related ones. Most modern AI systems would be classified as Weak AI. The document also mentions that the achievement of AI is connected to the representation of information in the human mind, and that creating artificially intelligent agents and robots is extremely challenging and fraught with difficulties.', additional_kwargs={}, response_metadata={})],\n",
       " 'output': 'Here is the information about Strong and Weak AI from the PDF document in a table format:\\n\\n| **Characteristics** | **Strong AI** | **Weak AI** |\\n| --- | --- | --- |\\n| **Definition** | A computer with a mind similar to a human being | A computer limited to a single, narrowly defined task |\\n| **Capabilities** | Can solve any problem, similar to a human being | Can only solve a specific problem it was designed for |\\n| **Examples** | Hypothetical AI systems that can learn, reason, and apply knowledge like humans | Most modern AI systems, such as chatbots, virtual assistants, and image recognition software |\\n| **Limitations** | Currently, no strong AI systems exist | Limited to a specific task, may not be able to generalize to other tasks |\\n\\nI hope this helps! Let me know if you have any further questions.'}"
      ]
     },
     "execution_count": 34,
     "metadata": {},
     "output_type": "execute_result"
    }
   ],
   "source": [
    "# Example 4: Request to summarize previous response in a table (Session 2)\n",
    "response = agent_with_history.invoke(\n",
    "    {\"input\": \"Can you organize your previous response into a table format?\"},\n",
    "    config={\"configurable\": {\"session_id\": \"durgesh3\"}},\n",
    ")\n",
    "# process_response(response)\n",
    "response"
   ]
  },
  {
   "cell_type": "code",
   "execution_count": null,
   "metadata": {},
   "outputs": [],
   "source": []
  }
 ],
 "metadata": {
  "kernelspec": {
   "display_name": "env",
   "language": "python",
   "name": "python3"
  },
  "language_info": {
   "codemirror_mode": {
    "name": "ipython",
    "version": 3
   },
   "file_extension": ".py",
   "mimetype": "text/x-python",
   "name": "python",
   "nbconvert_exporter": "python",
   "pygments_lexer": "ipython3",
   "version": "3.11.10"
  }
 },
 "nbformat": 4,
 "nbformat_minor": 2
}
