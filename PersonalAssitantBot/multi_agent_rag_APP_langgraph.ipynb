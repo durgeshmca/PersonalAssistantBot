{
 "cells": [
  {
   "cell_type": "code",
   "execution_count": null,
   "metadata": {},
   "outputs": [],
   "source": []
  },
  {
   "cell_type": "code",
   "execution_count": null,
   "metadata": {},
   "outputs": [],
   "source": []
  },
  {
   "cell_type": "code",
   "execution_count": null,
   "metadata": {},
   "outputs": [],
   "source": []
  },
  {
   "cell_type": "code",
   "execution_count": null,
   "metadata": {},
   "outputs": [],
   "source": []
  },
  {
   "cell_type": "code",
   "execution_count": null,
   "metadata": {},
   "outputs": [],
   "source": []
  },
  {
   "cell_type": "code",
   "execution_count": 4,
   "metadata": {},
   "outputs": [
    {
     "name": "stderr",
     "output_type": "stream",
     "text": [
      "/official/official_docs/PythonLearning/GenerativeAIWithLangchainByKrish/projects/env/lib/python3.11/site-packages/langchain_huggingface/chat_models/__init__.py:1: LangChainDeprecationWarning: As of langchain-core 0.3.0, LangChain uses pydantic v2 internally. The langchain_core.pydantic_v1 module was a compatibility shim for pydantic v1, and should no longer be used. Please update the code to import from Pydantic directly.\n",
      "\n",
      "For example, replace imports like: `from langchain_core.pydantic_v1 import BaseModel`\n",
      "with: `from pydantic import BaseModel`\n",
      "or the v1 compatibility namespace if you are working in a code base that has not been fully upgraded to pydantic 2 yet. \tfrom pydantic.v1 import BaseModel\n",
      "\n",
      "  from langchain_huggingface.chat_models.huggingface import (\n",
      "/official/official_docs/PythonLearning/GenerativeAIWithLangchainByKrish/projects/env/lib/python3.11/site-packages/tqdm/auto.py:21: TqdmWarning: IProgress not found. Please update jupyter and ipywidgets. See https://ipywidgets.readthedocs.io/en/stable/user_install.html\n",
      "  from .autonotebook import tqdm as notebook_tqdm\n"
     ]
    },
    {
     "data": {
      "text/plain": [
       "HuggingFaceEmbeddings(client=SentenceTransformer(\n",
       "  (0): Transformer({'max_seq_length': 256, 'do_lower_case': False}) with Transformer model: BertModel \n",
       "  (1): Pooling({'word_embedding_dimension': 384, 'pooling_mode_cls_token': False, 'pooling_mode_mean_tokens': True, 'pooling_mode_max_tokens': False, 'pooling_mode_mean_sqrt_len_tokens': False, 'pooling_mode_weightedmean_tokens': False, 'pooling_mode_lasttoken': False, 'include_prompt': True})\n",
       "  (2): Normalize()\n",
       "), model_name='all-MiniLM-L6-v2', cache_folder=None, model_kwargs={}, encode_kwargs={}, multi_process=False, show_progress=False)"
      ]
     },
     "execution_count": 4,
     "metadata": {},
     "output_type": "execute_result"
    }
   ],
   "source": [
    "from langchain_huggingface import HuggingFaceEmbeddings\n",
    "embedings = HuggingFaceEmbeddings(model_name=\"all-MiniLM-L6-v2\")\n",
    "embedings"
   ]
  },
  {
   "cell_type": "code",
   "execution_count": 165,
   "metadata": {},
   "outputs": [],
   "source": [
    "from langchain.vectorstores.cassandra import Cassandra\n",
    "astra_vector_store =Cassandra(embedding=embedings,table_name=\"qna_demo\",session=None,keyspace=None)"
   ]
  },
  {
   "cell_type": "code",
   "execution_count": null,
   "metadata": {},
   "outputs": [],
   "source": [
    "from langchain_huggingface.embeddings import HuggingFaceEmbeddings\n",
    "from langchain.indexes.vectorstore import VectorStoreIndexWrapper\n",
    "from app.config import Config\n",
    "from app.lib.vectorestore import VectorStore\n",
    "\n",
    "# create vectore store        \n",
    "vectore_store = VectorStore(\n",
    "    connection=Config.PG_CONNECTION,\n",
    "    collection_name=Config.PG_COLLECTION_NAME,\n",
    "    embeddings=HuggingFaceEmbeddings(model_name='all-MiniLM-L6-v2')\n",
    ")\n",
    "\n",
    "# document_retriver_tool = vectore_store.get_retriver_tool()\n",
    "\n",
    "\n",
    "pg_vector_index = VectorStoreIndexWrapper(vectorstore=vectore_store.vectorestore)"
   ]
  },
  {
   "cell_type": "code",
   "execution_count": 13,
   "metadata": {},
   "outputs": [
    {
     "data": {
      "text/plain": [
       "[Document(id='545c9960-5e81-4112-b2d4-7eb8832d16dc', metadata={'page': 14, 'title': '', 'author': '', 'source': '/official/official_docs/PythonLearning/GenerativeAIWithLangchainByKrish/projects/PersonalAssitantBot/data/w27392.pdf', 'creator': 'LaTeX with hyperref', 'moddate': '2020-06-18T14:23:52-04:00', 'subject': '', 'trapped': '/False', 'keywords': '', 'producer': 'pdfTeX-1.40.20', 'page_label': '15', 'total_pages': 26, 'creationdate': '2020-06-18T07:30:06+00:00', 'ptex.fullbanner': 'This is pdfTeX, Version 3.14159265-2.6-1.40.20 (TeX Live 2019) kpathsea version 6.3.1'}, page_content='and health impacts of COVID-19 have been signiﬁcantly more pronounced for less advantaged groups, and\\nthat these are partially responsible for the underlying heterogeneity in the impacts that we document. Our\\nresults suggest that by focusing on addressing the economic and health burden imposed by COVID-19, as\\nmeasured by a relatively narrow set of mitigating factors, policy makers may be able to prevent COVID-19\\nfrom widening existing achievement gaps in higher education.\\n14'),\n",
       " Document(id='bad4901c-5678-438a-95e1-bf785a360348', metadata={'page': 1, 'title': '', 'author': '', 'source': '/official/official_docs/PythonLearning/GenerativeAIWithLangchainByKrish/projects/PersonalAssitantBot/data/w27392.pdf', 'creator': 'LaTeX with hyperref', 'moddate': '2020-06-18T14:23:52-04:00', 'subject': '', 'trapped': '/False', 'keywords': '', 'producer': 'pdfTeX-1.40.20', 'page_label': '2', 'total_pages': 26, 'creationdate': '2020-06-18T07:30:06+00:00', 'ptex.fullbanner': 'This is pdfTeX, Version 3.14159265-2.6-1.40.20 (TeX Live 2019) kpathsea version 6.3.1'}, page_content=\"The Impact of COVID-19 on Student Experiences and Expectations: Evidence from a Survey\\nEsteban M. Aucejo, Jacob F. French, Maria Paola Ugalde Araya, and Basit Zafar\\nNBER Working Paper No. 27392\\nJune 2020\\nJEL No. I2,I23,I24\\nABSTRACT\\nIn order to understand the impact of the COVID-19 pandemic on higher education, we surveyed \\napproximately 1,500 students at one of the largest public institutions in the United States using an \\ninstrument designed to recover the causal impact of the pandemic on students' current and \\nexpected outcomes. Results show large negative effects across many dimensions. Due to \\nCOVID-19: 13% of students have delayed graduation,  40% lost a job, internship, or a job offer, \\nand 29% expect to earn less at age 35. Moreover, these effects have been highly heterogeneous. \\nOne quarter of students increased their study time by more than 4\\n hours per week due to \\nCOVID-19, while another quarter decreased their study time by more than 5 hours per week. This\"),\n",
       " Document(id='0a37e4d7-1609-4bfc-a500-a1b7e8be30a6', metadata={'page': 1, 'title': '', 'author': '', 'source': '/official/official_docs/PythonLearning/GenerativeAIWithLangchainByKrish/projects/PersonalAssitantBot/data/w27392.pdf', 'creator': 'LaTeX with hyperref', 'moddate': '2020-06-18T14:23:52-04:00', 'subject': '', 'trapped': '/False', 'keywords': '', 'producer': 'pdfTeX-1.40.20', 'page_label': '2', 'total_pages': 26, 'creationdate': '2020-06-18T07:30:06+00:00', 'ptex.fullbanner': 'This is pdfTeX, Version 3.14159265-2.6-1.40.20 (TeX Live 2019) kpathsea version 6.3.1'}, page_content='COVID-19, while another quarter decreased their study time by more than 5 hours per week. This \\nheterogeneity often followed existing socioeconomic divides; lower-income  students are 55% \\nmore likely to have delayed graduation due to COVID-19 than their higher-income peers. Finally, \\nwe show that the economic and health related shocks induced by COVID-19 vary systematically  \\nby socioeconomic factors and constitute key mediators in explaining the large (and \\nheterogeneous) \\neffects of the pandemic.\\nEsteban M. Aucejo \\nDepartment of Economics \\nArizona State University \\nP.O. Box 879801 \\nTempe, AZ 85287\\nand NBER\\nEsteban.Aucejo@asu.edu\\nJacob F. French\\nArizona State University \\njfrench5@asu.edu\\nMaria Paola Ugalde Araya \\nArizona State University \\nmugaldea@asu.edu\\nBasit Zafar\\nDepartment of Economics \\nArizona State University \\nP.O. Box 879801 Tempe, \\nAZ 85287\\nand NBER\\nbasitak@gmail.com'),\n",
       " Document(id='e6f2daa8-2507-4543-8cda-6a54449d1d55', metadata={'page': 4, 'title': '', 'author': '', 'source': '/official/official_docs/PythonLearning/GenerativeAIWithLangchainByKrish/projects/PersonalAssitantBot/data/w27392.pdf', 'creator': 'LaTeX with hyperref', 'moddate': '2020-06-18T14:23:52-04:00', 'subject': '', 'trapped': '/False', 'keywords': '', 'producer': 'pdfTeX-1.40.20', 'page_label': '5', 'total_pages': 26, 'creationdate': '2020-06-18T07:30:06+00:00', 'ptex.fullbanner': 'This is pdfTeX, Version 3.14159265-2.6-1.40.20 (TeX Live 2019) kpathsea version 6.3.1'}, page_content='likely to make gains. Likewise, Chetty et al., 2020 ﬁnd that, post-COVID, student progress on an online\\nmath program decreased signiﬁcantly more in poorer ZIP codes. Our analysis reveals that the heterogeneous\\neconomic and health burden imposed by COVID-19 is partially responsible for these varying impacts. This\\nsuggests that by addressing the economic and health impacts imposed by COVID-19, policy makers may be\\nable to prevent COVID-19 from widening existing gaps in higher education.\\n4')]"
      ]
     },
     "execution_count": 13,
     "metadata": {},
     "output_type": "execute_result"
    }
   ],
   "source": [
    "# retriever = astra_vector_store.as_retriever()\n",
    "retriever = vectore_store.vectorestore.as_retriever()\n",
    "res = retriever.invoke(\"What is Impact of Covid19\")\n",
    "res\n",
    "# res = document_retriver_tool.invoke(\"What is impact of COVID19 on college students?\")\n",
    "# res"
   ]
  },
  {
   "cell_type": "code",
   "execution_count": 14,
   "metadata": {},
   "outputs": [
    {
     "data": {
      "text/plain": [
       "\"The Impact of COVID-19 on Student Experiences and Expectations: Evidence from a Survey\\nEsteban M. Aucejo, Jacob F. French, Maria Paola Ugalde Araya, and Basit Zafar\\nNBER Working Paper No. 27392\\nJune 2020\\nJEL No. I2,I23,I24\\nABSTRACT\\nIn order to understand the impact of the COVID-19 pandemic on higher education, we surveyed \\napproximately 1,500 students at one of the largest public institutions in the United States using an \\ninstrument designed to recover the causal impact of the pandemic on students' current and \\nexpected outcomes. Results show large negative effects across many dimensions. Due to \\nCOVID-19: 13% of students have delayed graduation,  40% lost a job, internship, or a job offer, \\nand 29% expect to earn less at age 35. Moreover, these effects have been highly heterogeneous. \\nOne quarter of students increased their study time by more than 4\\n hours per week due to \\nCOVID-19, while another quarter decreased their study time by more than 5 hours per week. This\""
      ]
     },
     "execution_count": 14,
     "metadata": {},
     "output_type": "execute_result"
    }
   ],
   "source": [
    "res[1].page_content"
   ]
  },
  {
   "cell_type": "markdown",
   "metadata": {},
   "source": [
    "## Langgraph Application\n"
   ]
  },
  {
   "cell_type": "markdown",
   "metadata": {},
   "source": []
  },
  {
   "cell_type": "code",
   "execution_count": 27,
   "metadata": {},
   "outputs": [],
   "source": [
    "from typing import Literal\n",
    "from langchain_core.prompts import ChatPromptTemplate\n",
    "from langchain_core.pydantic_v1 import BaseModel,Field\n",
    "\n",
    "# Data model\n",
    "class RouteQuery(BaseModel):\n",
    "    \"\"\"Route a user query to the most relevant datasource.\"\"\"\n",
    "\n",
    "    datasource: Literal[\"vectorstore\", \"web_search\",\"chat_history\"] = Field(\n",
    "        ...,\n",
    "        description=\"Given a user question choose to route it to vectorstore ,internet or chat_history.\",\n",
    "    )\n"
   ]
  },
  {
   "cell_type": "code",
   "execution_count": 29,
   "metadata": {},
   "outputs": [
    {
     "name": "stdout",
     "output_type": "stream",
     "text": [
      "datasource='vectorstore'\n",
      "datasource='web_search'\n",
      "datasource='chat_history'\n"
     ]
    }
   ],
   "source": [
    "from langchain_groq import ChatGroq\n",
    "llm = ChatGroq(model=\"Gemma2-9b-it\")\n",
    "structured_llm_router = llm.with_structured_output(RouteQuery)\n",
    "\n",
    "# Prompt\n",
    "system = \"\"\"You are an expert at routing a user question to a vectorstore or wikipedia.\n",
    "The vectorstore contains documents related to agents, prompt engineering, and adversarial attacks.\n",
    "Use the vectorstore for questions on these topics. Otherwise, use wiki-search.\"\"\"\n",
    "route_prompt = ChatPromptTemplate.from_messages(\n",
    "    [\n",
    "        (\"system\", system),\n",
    "        (\"human\", \"{question}\"),\n",
    "    ]\n",
    ")\n",
    "\n",
    "question_router = route_prompt | structured_llm_router\n",
    "print(\n",
    "    question_router.invoke(\n",
    "        {\"question\": \"What is an Agent?\"}\n",
    "    )\n",
    ")\n",
    "print(question_router.invoke({\"question\": \"who is Rahul Gandhi?\"}))\n",
    "print(question_router.invoke({\"question\": \"What was my last chat?\"}))"
   ]
  },
  {
   "cell_type": "code",
   "execution_count": 30,
   "metadata": {},
   "outputs": [],
   "source": [
    "# ### Working With Tools\n",
    "# from langchain_community.utilities import ArxivAPIWrapper,WikipediaAPIWrapper\n",
    "# from langchain_community.tools import ArxivQueryRun,WikipediaQueryRun\n",
    "\n",
    "# ## Arxiv and wikipedia Tools\n",
    "# arxiv_wrapper=ArxivAPIWrapper(top_k_results=1, doc_content_chars_max=200)\n",
    "# arxiv=ArxivQueryRun(api_wrapper=arxiv_wrapper)\n",
    "\n",
    "# api_wrapper=WikipediaAPIWrapper(top_k_results=1,doc_content_chars_max=200)\n",
    "# wiki=WikipediaQueryRun(api_wrapper=api_wrapper)\n",
    "# wiki.run(\"Who is Narendra Modi?\")"
   ]
  },
  {
   "cell_type": "code",
   "execution_count": 37,
   "metadata": {},
   "outputs": [],
   "source": [
    "## Graph\n",
    "\n",
    "from typing import List\n",
    "\n",
    "from typing_extensions import TypedDict\n",
    "\n",
    "\n",
    "class GraphState(TypedDict):\n",
    "    \"\"\"\n",
    "    Represents the state of our graph.\n",
    "\n",
    "    Attributes:\n",
    "        question: question\n",
    "        generation: LLM generation\n",
    "        documents: list of documents\n",
    "    \"\"\"\n",
    "\n",
    "    question: str\n",
    "    generation: str\n",
    "    documents: List[str]"
   ]
  },
  {
   "cell_type": "code",
   "execution_count": 32,
   "metadata": {},
   "outputs": [],
   "source": [
    "from langchain.schema import Document\n",
    "\n",
    "\n",
    "def retrieve(state):\n",
    "    \"\"\"\n",
    "    Retrieve documents\n",
    "\n",
    "    Args:\n",
    "        state (dict): The current graph state\n",
    "\n",
    "    Returns:\n",
    "        state (dict): New key added to state, documents, that contains retrieved documents\n",
    "    \"\"\"\n",
    "    print(\"---RETRIEVE---\")\n",
    "    question = state[\"question\"]\n",
    "    print(question)\n",
    "\n",
    "    # Retrieval\n",
    "    documents = retriever.invoke(question)\n",
    "    return {\"documents\": documents, \"question\": question}"
   ]
  },
  {
   "cell_type": "code",
   "execution_count": 33,
   "metadata": {},
   "outputs": [],
   "source": [
    "from langchain.schema import Document\n",
    "from langchain_community.tools import TavilySearchResults\n",
    "\n",
    "search_tool = TavilySearchResults(k=6)\n",
    "\n",
    "def web_search(state):\n",
    "    \"\"\"\n",
    "    web search based on the re-phrased question.\n",
    "\n",
    "    Args:\n",
    "        state (dict): The current graph state\n",
    "\n",
    "    Returns:\n",
    "        state (dict): Updates documents key with appended web results\n",
    "    \"\"\"\n",
    "\n",
    "    print(\"---wikipedia---\")\n",
    "    print(\"---HELLO--\")\n",
    "    question = state[\"question\"]\n",
    "    print(question)\n",
    "\n",
    "    # web search\n",
    "    docs = search_tool.invoke({\"query\": question})\n",
    "    #print(docs[\"summary\"])\n",
    "    search_results = docs\n",
    "    web_results = Document(page_content=search_results)\n",
    "\n",
    "    return {\"documents\": web_results, \"question\": question}"
   ]
  },
  {
   "cell_type": "code",
   "execution_count": 34,
   "metadata": {},
   "outputs": [],
   "source": [
    "### Edges ###\n",
    "\n",
    "\n",
    "def route_question(state):\n",
    "    \"\"\"\n",
    "    Route question to web search or RAG.\n",
    "\n",
    "    Args:\n",
    "        state (dict): The current graph state\n",
    "\n",
    "    Returns:\n",
    "        str: Next node to call\n",
    "    \"\"\"\n",
    "\n",
    "    print(\"---ROUTE QUESTION---\")\n",
    "    question = state[\"question\"]\n",
    "    source = question_router.invoke({\"question\": question})\n",
    "    print('----'+source.datasource+\"--------------------\")\n",
    "    if source.datasource == \"web_search\":\n",
    "        print(\"---ROUTE QUESTION TO Web SEARCH---\")\n",
    "        return \"web_search\"\n",
    "    elif source.datasource == \"vectorstore\":\n",
    "        print(\"---ROUTE QUESTION TO RAG---\")\n",
    "        return \"vectorstore\""
   ]
  },
  {
   "cell_type": "code",
   "execution_count": 35,
   "metadata": {},
   "outputs": [],
   "source": [
    "### Edges ###\n",
    "\n",
    "\n",
    "def route_question(state):\n",
    "    \"\"\"\n",
    "    Route question to wiki search or RAG.\n",
    "\n",
    "    Args:\n",
    "        state (dict): The current graph state\n",
    "\n",
    "    Returns:\n",
    "        str: Next node to call\n",
    "    \"\"\"\n",
    "\n",
    "    print(\"---ROUTE QUESTION---\")\n",
    "    question = state[\"question\"]\n",
    "    source = question_router.invoke({\"question\": question})\n",
    "    print(f\"--------------------------------{source.datasource}++++++++++++++++\")\n",
    "    if source.datasource == \"web_search\":\n",
    "        print(\"---ROUTE QUESTION TO Wiki SEARCH---\")\n",
    "        return \"web_search\"\n",
    "    elif source.datasource == \"vectorstore\":\n",
    "        print(\"---ROUTE QUESTION TO RAG---\")\n",
    "        return \"vectorstore\""
   ]
  },
  {
   "cell_type": "code",
   "execution_count": 38,
   "metadata": {},
   "outputs": [],
   "source": [
    "from langgraph.graph import END, StateGraph, START\n",
    "\n",
    "workflow = StateGraph(GraphState)\n",
    "# Define the nodes\n",
    "workflow.add_node(\"web_search\", web_search)  # web search\n",
    "workflow.add_node(\"retrieve\", retrieve)  # retrieve\n",
    "\n",
    "# Build graph\n",
    "workflow.add_conditional_edges(\n",
    "    START,\n",
    "    route_question,\n",
    "    {\n",
    "        \"web_search\": \"web_search\",\n",
    "        \"vectorstore\": \"retrieve\",\n",
    "    },\n",
    ")\n",
    "workflow.add_edge( \"retrieve\", END)\n",
    "workflow.add_edge( \"web_search\", END)\n",
    "# Compile\n",
    "app = workflow.compile()"
   ]
  },
  {
   "cell_type": "code",
   "execution_count": 39,
   "metadata": {},
   "outputs": [
    {
     "data": {
      "image/png": "[encoded data removed]",
      "text/plain": [
       "<IPython.core.display.Image object>"
      ]
     },
     "metadata": {},
     "output_type": "display_data"
    }
   ],
   "source": [
    "from IPython.display import Image, display\n",
    "\n",
    "try:\n",
    "    display(Image(app.get_graph().draw_mermaid_png()))\n",
    "except Exception:\n",
    "    # This requires some extra dependencies and is optional\n",
    "    pass"
   ]
  },
  {
   "cell_type": "code",
   "execution_count": 41,
   "metadata": {},
   "outputs": [
    {
     "name": "stdout",
     "output_type": "stream",
     "text": [
      "---ROUTE QUESTION---\n",
      "--------------------------------vectorstore++++++++++++++++\n",
      "---ROUTE QUESTION TO RAG---\n",
      "---RETRIEVE---\n",
      "What is Impact of COVID19 to college students search from Documents?\n",
      "\"Node 'retrieve':\"\n",
      "'\\n---\\n'\n"
     ]
    },
    {
     "name": "stderr",
     "output_type": "stream",
     "text": [
      "/tmp/ipykernel_67970/171099121.py:16: PydanticDeprecatedSince20: The `dict` method is deprecated; use `model_dump` instead. Deprecated in Pydantic V2.0 to be removed in V3.0. See Pydantic V2 Migration Guide at https://errors.pydantic.dev/2.10/migration/\n",
      "  pprint(value['documents'][0].dict()['metadata']['description'])\n"
     ]
    },
    {
     "ename": "KeyError",
     "evalue": "'description'",
     "output_type": "error",
     "traceback": [
      "\u001b[0;31m---------------------------------------------------------------------------\u001b[0m",
      "\u001b[0;31mKeyError\u001b[0m                                  Traceback (most recent call last)",
      "Cell \u001b[0;32mIn[41], line 16\u001b[0m\n\u001b[1;32m     13\u001b[0m     pprint(\u001b[38;5;124m\"\u001b[39m\u001b[38;5;130;01m\\n\u001b[39;00m\u001b[38;5;124m---\u001b[39m\u001b[38;5;130;01m\\n\u001b[39;00m\u001b[38;5;124m\"\u001b[39m)\n\u001b[1;32m     15\u001b[0m \u001b[38;5;66;03m# Final generation\u001b[39;00m\n\u001b[0;32m---> 16\u001b[0m pprint(\u001b[43mvalue\u001b[49m\u001b[43m[\u001b[49m\u001b[38;5;124;43m'\u001b[39;49m\u001b[38;5;124;43mdocuments\u001b[39;49m\u001b[38;5;124;43m'\u001b[39;49m\u001b[43m]\u001b[49m\u001b[43m[\u001b[49m\u001b[38;5;241;43m0\u001b[39;49m\u001b[43m]\u001b[49m\u001b[38;5;241;43m.\u001b[39;49m\u001b[43mdict\u001b[49m\u001b[43m(\u001b[49m\u001b[43m)\u001b[49m\u001b[43m[\u001b[49m\u001b[38;5;124;43m'\u001b[39;49m\u001b[38;5;124;43mmetadata\u001b[39;49m\u001b[38;5;124;43m'\u001b[39;49m\u001b[43m]\u001b[49m\u001b[43m[\u001b[49m\u001b[38;5;124;43m'\u001b[39;49m\u001b[38;5;124;43mdescription\u001b[39;49m\u001b[38;5;124;43m'\u001b[39;49m\u001b[43m]\u001b[49m)\n",
      "\u001b[0;31mKeyError\u001b[0m: 'description'"
     ]
    }
   ],
   "source": [
    "from pprint import pprint\n",
    "\n",
    "# Run\n",
    "inputs = {\n",
    "    \"question\": \"What is Impact of COVID19 to college students search from Documents?\"\n",
    "}\n",
    "for output in app.stream(inputs):\n",
    "    for key, value in output.items():\n",
    "        # Node\n",
    "        pprint(f\"Node '{key}':\")\n",
    "        # Optional: print full state at each node\n",
    "        # pprint.pprint(value[\"keys\"], indent=2, width=80, depth=None)\n",
    "    pprint(\"\\n---\\n\")\n",
    "\n",
    "# Final generation\n",
    "pprint(value['documents'][0].dict()['metadata']['description'])"
   ]
  },
  {
   "cell_type": "code",
   "execution_count": 200,
   "metadata": {},
   "outputs": [
    {
     "name": "stdout",
     "output_type": "stream",
     "text": [
      "---ROUTE QUESTION---\n",
      "--------------------------------wiki_search++++++++++++++++\n",
      "---ROUTE QUESTION TO Wiki SEARCH---\n",
      "---wikipedia---\n",
      "---HELLO--\n",
      "What is Python\n",
      "\"Node 'wiki_search':\"\n",
      "'\\n---\\n'\n",
      "Document(page_content='Page: Python (programming language)\\nSummary: Python is a high-level, general-purpose programming language. Its design philosophy emphasizes code readability with the use of significant indentation.\\nPy')\n"
     ]
    }
   ],
   "source": [
    "from pprint import pprint\n",
    "\n",
    "# Run\n",
    "inputs = {\n",
    "    \"question\": \"What is Python\"\n",
    "}\n",
    "for output in app.stream(inputs):\n",
    "    for key, value in output.items():\n",
    "        # Node\n",
    "        pprint(f\"Node '{key}':\")\n",
    "        # Optional: print full state at each node\n",
    "        # pprint.pprint(value[\"keys\"], indent=2, width=80, depth=None)\n",
    "    pprint(\"\\n---\\n\")\n",
    "\n",
    "# Final generation\n",
    "pprint(value['documents'])"
   ]
  },
  {
   "cell_type": "code",
   "execution_count": null,
   "metadata": {},
   "outputs": [],
   "source": []
  }
 ],
 "metadata": {
  "kernelspec": {
   "display_name": "Python 3",
   "language": "python",
   "name": "python3"
  },
  "language_info": {
   "codemirror_mode": {
    "name": "ipython",
    "version": 3
   },
   "file_extension": ".py",
   "mimetype": "text/x-python",
   "name": "python",
   "nbconvert_exporter": "python",
   "pygments_lexer": "ipython3",
   "version": "3.11.10"
  }
 },
 "nbformat": 4,
 "nbformat_minor": 2
}
