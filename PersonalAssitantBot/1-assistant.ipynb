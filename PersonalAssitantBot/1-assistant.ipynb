{
 "cells": [
  {
   "cell_type": "code",
   "execution_count": 1,
   "metadata": {},
   "outputs": [],
   "source": [
    "from langchain_chroma import Chroma\n",
    "from langchain.tools import tool"
   ]
  },
  {
   "cell_type": "code",
   "execution_count": 2,
   "metadata": {},
   "outputs": [],
   "source": [
    "@tool\n",
    "def add_numbers(a:int, b: int):\n",
    "    \"\"\" Adds two numbers\"\"\"\n",
    "    return a+b\n",
    "\n",
    "@tool\n",
    "def multiply_numbers(a:float, b:float):\n",
    "    \"\"\"Multiply two numbers\"\"\"\n",
    "    return a*b"
   ]
  },
  {
   "cell_type": "code",
   "execution_count": 3,
   "metadata": {},
   "outputs": [
    {
     "data": {
      "text/plain": [
       "5"
      ]
     },
     "execution_count": 3,
     "metadata": {},
     "output_type": "execute_result"
    }
   ],
   "source": [
    "add_numbers.invoke({'a':2,'b':3})"
   ]
  },
  {
   "cell_type": "code",
   "execution_count": 4,
   "metadata": {},
   "outputs": [
    {
     "data": {
      "text/plain": [
       "6.0"
      ]
     },
     "execution_count": 4,
     "metadata": {},
     "output_type": "execute_result"
    }
   ],
   "source": [
    "multiply_numbers.invoke({'a':2,'b':3})"
   ]
  },
  {
   "cell_type": "code",
   "execution_count": 5,
   "metadata": {},
   "outputs": [],
   "source": [
    "from bs4 import BeautifulSoup\n",
    "from langchain.tools import tool\n",
    "import requests\n",
    "\n",
    "#define the tools\n",
    "@tool\n",
    "def get_word_length(word:str)-> int:\n",
    "    \"\"\"Returns the length of givent text\"\"\"\n",
    "    return len(word)\n",
    "\n",
    "@tool\n",
    "def add_numbers(a:float, b:float)-> float:\n",
    "    \"\"\"Returns the sum of two numbers\"\"\"\n",
    "    return a + b\n",
    "\n",
    "@tool\n",
    "def wikipedia_article_crawl(url:str)-> str:\n",
    "    \"\"\"Crawls article from Wikipedia\"\"\"\n",
    "\n",
    "    response = requests.get(url)\n",
    "    if response.status_code == 200:\n",
    "        soup = BeautifulSoup(response.text,'html.parser')\n",
    "        # Extrat the desired information from the article\n",
    "        article = soup.find(\"title mt-0\")\n",
    "        if article:\n",
    "            title = article.find(\"h1\").get_text()  # Extract the title\n",
    "            content_list = [\n",
    "                tag.get_text()\n",
    "                for tag in article.find_all([\"h2\", \"p\"])\n",
    "                if (tag.name == \"h2\" and \"sc-518485e5-0\" in tag.get(\"class\", []))\n",
    "                or (tag.name == \"p\" and \"sc-eb7bd5f6-0\" in tag.get(\"class\", []))\n",
    "            ]  # Extract the content\n",
    "            content = \"\\n\\n\".join(content_list)\n",
    "    else:\n",
    "        print(f\"HTTP request failed. Response code: {response.status_code}\")\n",
    "\n",
    "    return f\"{title}\\n\\n----------\\n\\n{content}\"\n"
   ]
  },
  {
   "cell_type": "code",
   "execution_count": 6,
   "metadata": {},
   "outputs": [],
   "source": [
    "tools = [get_word_length, add_numbers, wikipedia_article_crawl]"
   ]
  },
  {
   "cell_type": "code",
   "execution_count": 104,
   "metadata": {},
   "outputs": [],
   "source": [
    "## Tools binding\n",
    "#The tools binding is a collection of functions that can be used to perform various tasks, such as creating  \n",
    "#and managing tools, as well as interacting with the tools themselves.\n",
    "from langchain_groq import ChatGroq\n",
    "from dotenv import load_dotenv\n",
    "import os\n",
    "load_dotenv()\n",
    "# create a model\n",
    "llm = ChatGroq(model=\"llama-3.3-70b-versatile\",temperature=0)\n",
    "# tools binding\n",
    "llm_with_tools = llm.bind_tools(tools)"
   ]
  },
  {
   "cell_type": "code",
   "execution_count": 8,
   "metadata": {},
   "outputs": [
    {
     "data": {
      "text/plain": [
       "[{'name': 'add_numbers',\n",
       "  'args': {'a': 20, 'b': 5},\n",
       "  'id': 'call_p5jz',\n",
       "  'type': 'tool_call'}]"
      ]
     },
     "execution_count": 8,
     "metadata": {},
     "output_type": "execute_result"
    }
   ],
   "source": [
    "llm_with_tools.invoke(\"What is the sum of 20 and 5\").tool_calls"
   ]
  },
  {
   "cell_type": "code",
   "execution_count": 9,
   "metadata": {},
   "outputs": [
    {
     "data": {
      "text/plain": [
       "[{'name': 'wikipedia_article_crawl',\n",
       "  'args': {'url': 'https://en.wikipedia.org/wiki/Aviation_accidents_and_incidents'},\n",
       "  'id': 'call_e2gg',\n",
       "  'type': 'tool_call'}]"
      ]
     },
     "execution_count": 9,
     "metadata": {},
     "output_type": "execute_result"
    }
   ],
   "source": [
    "llm_with_tools.invoke(\"Where is plan crashed today\").tool_calls"
   ]
  },
  {
   "cell_type": "code",
   "execution_count": 10,
   "metadata": {},
   "outputs": [],
   "source": [
    "# parse tool_calls\n",
    "from langchain_core.output_parsers import JsonOutputToolsParser\n",
    "# tool binding + tool parser\n",
    "chain = llm_with_tools | JsonOutputToolsParser(tools=tools)\n",
    "\n",
    "tool_call_res = chain.invoke(\"what is sum of 20.5 and 44.678\")"
   ]
  },
  {
   "cell_type": "code",
   "execution_count": 11,
   "metadata": {},
   "outputs": [
    {
     "data": {
      "text/plain": [
       "[{'args': {'a': 20.5, 'b': 44.678}, 'type': 'add_numbers'}]"
      ]
     },
     "execution_count": 11,
     "metadata": {},
     "output_type": "execute_result"
    }
   ],
   "source": [
    "tool_call_res"
   ]
  },
  {
   "cell_type": "code",
   "execution_count": 12,
   "metadata": {},
   "outputs": [],
   "source": [
    "# execute tool calls\n",
    "def execute_tool_call(tool_call_results):\n",
    "    \"\"\"\n",
    "    Function to execute the tool call results.\n",
    "\n",
    "    :param tool_call_results: List of the tool call results\n",
    "    :param tools: List of available tools\n",
    "\n",
    "    \"\"\"\n",
    "    for tool_call_res in tool_call_results:\n",
    "        tool_name = tool_call_res['type']\n",
    "        tool_args = tool_call_res['args']\n",
    "        matching_tool = next((tool for tool in tools if tool.name == tool_name), None)\n",
    "        if matching_tool:\n",
    "            # Execute the tool\n",
    "            result = matching_tool.invoke(tool_args)\n",
    "            print(\n",
    "                f\"[Executed Tool] {tool_name} [Args] {tool_args}\\n[Execution Result] {result}\"\n",
    "            )\n",
    "        else:\n",
    "            print(f\"Warning: Unable to find the tool corresponding to {tool_name}.\")"
   ]
  },
  {
   "cell_type": "code",
   "execution_count": 13,
   "metadata": {},
   "outputs": [
    {
     "name": "stdout",
     "output_type": "stream",
     "text": [
      "[Executed Tool] add_numbers [Args] {'a': 20.5, 'b': 44.678}\n",
      "[Execution Result] 65.178\n"
     ]
    }
   ],
   "source": [
    "execute_tool_call(tool_call_res)"
   ]
  },
  {
   "cell_type": "code",
   "execution_count": 14,
   "metadata": {},
   "outputs": [],
   "source": [
    "tool_res = chain.invoke(\"find the length of text 'India is a great country\")"
   ]
  },
  {
   "cell_type": "code",
   "execution_count": 15,
   "metadata": {},
   "outputs": [
    {
     "name": "stdout",
     "output_type": "stream",
     "text": [
      "[Executed Tool] get_word_length [Args] {'word': 'India is a great country'}\n",
      "[Execution Result] 24\n"
     ]
    }
   ],
   "source": [
    "execute_tool_call(tool_res)"
   ]
  },
  {
   "cell_type": "markdown",
   "metadata": {},
   "source": [
    "### entire process of binding tools, parsing the results, and executing the tool calls into a single step.\n",
    "- Bind tools to the model.\n",
    "- Parse the results of tool calls.\n",
    "- Execute the results of tool calls."
   ]
  },
  {
   "cell_type": "code",
   "execution_count": 16,
   "metadata": {},
   "outputs": [],
   "source": [
    "# tools + parser + Execution\n",
    "chain = llm_with_tools | JsonOutputToolsParser(tools=tools) | execute_tool_call"
   ]
  },
  {
   "cell_type": "markdown",
   "metadata": {},
   "source": []
  },
  {
   "cell_type": "code",
   "execution_count": 17,
   "metadata": {},
   "outputs": [
    {
     "name": "stdout",
     "output_type": "stream",
     "text": [
      "[Executed Tool] get_word_length [Args] {'word': 'Yousnafnafnamnfmna ndjnjdfn'}\n",
      "[Execution Result] 27\n"
     ]
    }
   ],
   "source": [
    "chain.invoke(\"Find the lenght of word 'Yousnafnafnamnfmna ndjnjdfn'\")"
   ]
  },
  {
   "cell_type": "markdown",
   "metadata": {},
   "source": [
    "### Binding tools with Agent and AgentExecutor\n",
    "#### bind_tools provides schemas (tools) that can be used by the model.\n",
    "#### AgentExecutor creates an execution loop for tasks such as invoking the LLM, routing to the appropriate tool, executing it, and re-invoking the model."
   ]
  },
  {
   "cell_type": "code",
   "execution_count": 18,
   "metadata": {},
   "outputs": [],
   "source": [
    "@tool\n",
    "def thehindubusinessline_article_crawl(url:str)-> str:\n",
    "    \"\"\"Crawls article from the hindu business line website and returns the article content\"\"\"\n",
    "    response = requests.get(url)\n",
    "    if response.status_code == 200:\n",
    "        soup = BeautifulSoup(response.text,'html.parser')\n",
    "        # Extrat the desired information from the article\n",
    "        article = soup.find(\"div\",{'class': 'title mt-0'})\n",
    "        if article:\n",
    "            title = article.find(\"h1\").get_text().strip()  # Extract the title\n",
    "            content = soup.find(\"h2\",{'class':'bl-sub-text'}).get_text().strip()\n",
    "    else:\n",
    "        print(f\"HTTP request failed. Response code: {response.status_code}\")\n",
    "\n",
    "    return f\"{title}\\n\\n----------\\n\\n{content}\"\n",
    "    "
   ]
  },
  {
   "cell_type": "code",
   "execution_count": 19,
   "metadata": {},
   "outputs": [
    {
     "name": "stderr",
     "output_type": "stream",
     "text": [
      "/tmp/ipykernel_545159/1775622735.py:1: LangChainDeprecationWarning: The method `BaseTool.__call__` was deprecated in langchain-core 0.1.47 and will be removed in 1.0. Use :meth:`~invoke` instead.\n",
      "  thehindubusinessline_article_crawl('https://www.thehindubusinessline.com/markets/stock-market-live-updates-february-18-2025/article69229908.ece')\n"
     ]
    },
    {
     "data": {
      "text/plain": [
       "'Stock Market Highlights 18 Feb 2025: Sensex, Nifty close marginally weaker as IT gains offset broader weakness\\n\\n----------\\n\\nSensex, Nifty updates on 18 February 2025: Equity benchmarks ended marginally lower on Tuesday after a volatile session, with the Sensex slipping 29.47 points or 0.04 per cent to 75,968, while the Nifty 50 declined 14.20 points or 0.06 per cent to 22,945.30, as gains in IT stocks were offset by weakness in auto and consumer goods sectors. \\nThe market was resilient, recovering from early lows, though persistent foreign fund outflows and a weakening rupee continued to weigh on sentiment. The broader markets underperformed significantly, with the Nifty Smallcap falling 1.6 per cent and Midcap declining 0.2 per cent. \\n“The domestic market has experienced both profit-booking and bottom-fishing amid persistent concerns over FII outflows and pressure on the INR. Small and mid-cap stocks continue to lag due to apprehensions about premium valuations. Meanwhile, India’s trade deficit has widened beyond expectation,” said Vinod Nair, Head of Research at Geojit Financial Services.'"
      ]
     },
     "execution_count": 19,
     "metadata": {},
     "output_type": "execute_result"
    }
   ],
   "source": [
    "thehindubusinessline_article_crawl('https://www.thehindubusinessline.com/markets/stock-market-live-updates-february-18-2025/article69229908.ece')"
   ]
  },
  {
   "cell_type": "code",
   "execution_count": 105,
   "metadata": {},
   "outputs": [],
   "source": [
    "from langchain_core.prompts import ChatPromptTemplate,MessagesPlaceholder\n",
    "\n",
    "# Create an Agent prompt\n",
    "prompt = ChatPromptTemplate.from_messages(\n",
    "    [\n",
    "        (\n",
    "            \"system\",\n",
    "            \"You are very powerful assistant, but don't know current events\",\n",
    "        ),\n",
    "        (\"user\", \"{input}\"),\n",
    "        MessagesPlaceholder(variable_name=\"agent_scratchpad\"),\n",
    "    ]\n",
    ")\n",
    "\n",
    "llm = ChatGroq(model=\"llama-3.3-70b-versatile\",temperature=0)\n",
    "tools = [add_numbers, get_word_length, thehindubusinessline_article_crawl]\n",
    "# create tool calling agent and agent executor\n",
    "from langchain.agents import create_tool_calling_agent, AgentExecutor\n",
    "#  create agent\n",
    "agent = create_tool_calling_agent(llm,tools,prompt)\n",
    "# create agent executor\n",
    "agent_executor = AgentExecutor(\n",
    "    agent=agent,\n",
    "    tools=tools,\n",
    "    verbose=True,\n",
    "    handle_parsing_errors=True,\n",
    ")\n"
   ]
  },
  {
   "cell_type": "code",
   "execution_count": 21,
   "metadata": {},
   "outputs": [
    {
     "name": "stdout",
     "output_type": "stream",
     "text": [
      "\n",
      "\n",
      "\u001b[1m> Entering new AgentExecutor chain...\u001b[0m\n",
      "\u001b[32;1m\u001b[1;3m\n",
      "Invoking: `get_word_length` with `{'word': 'xsnajkahkjfnAFJ JWKBIBD'}`\n",
      "\n",
      "\n",
      "\u001b[0m\u001b[33;1m\u001b[1;3m23\u001b[0m\u001b[32;1m\u001b[1;3mThe length of the word 'xsnajkahkjfnAFJ JWKBIBD' is 23.\u001b[0m\n",
      "\n",
      "\u001b[1m> Finished chain.\u001b[0m\n"
     ]
    },
    {
     "data": {
      "text/plain": [
       "{'input': \"What is lenght of word 'xsnajkahkjfnAFJ JWKBIBD '\",\n",
       " 'output': \"The length of the word 'xsnajkahkjfnAFJ JWKBIBD' is 23.\"}"
      ]
     },
     "execution_count": 21,
     "metadata": {},
     "output_type": "execute_result"
    }
   ],
   "source": [
    "agent_executor.invoke({\"input\":\"What is lenght of word 'xsnajkahkjfnAFJ JWKBIBD '\"})"
   ]
  },
  {
   "cell_type": "code",
   "execution_count": null,
   "metadata": {},
   "outputs": [],
   "source": []
  },
  {
   "cell_type": "code",
   "execution_count": 22,
   "metadata": {},
   "outputs": [
    {
     "name": "stdout",
     "output_type": "stream",
     "text": [
      "\n",
      "\n",
      "\u001b[1m> Entering new AgentExecutor chain...\u001b[0m\n",
      "\u001b[32;1m\u001b[1;3m\n",
      "Invoking: `thehindubusinessline_article_crawl` with `{'url': 'https://www.thehindubusinessline.com/markets/stock-market-live-updates-february-18-2025/article69229908.ece'}`\n",
      "\n",
      "\n",
      "\u001b[0m\u001b[38;5;200m\u001b[1;3mStock Market Highlights 18 Feb 2025: Sensex, Nifty close marginally weaker as IT gains offset broader weakness\n",
      "\n",
      "----------\n",
      "\n",
      "Sensex, Nifty updates on 18 February 2025: Equity benchmarks ended marginally lower on Tuesday after a volatile session, with the Sensex slipping 29.47 points or 0.04 per cent to 75,968, while the Nifty 50 declined 14.20 points or 0.06 per cent to 22,945.30, as gains in IT stocks were offset by weakness in auto and consumer goods sectors. \n",
      "The market was resilient, recovering from early lows, though persistent foreign fund outflows and a weakening rupee continued to weigh on sentiment. The broader markets underperformed significantly, with the Nifty Smallcap falling 1.6 per cent and Midcap declining 0.2 per cent. \n",
      "“The domestic market has experienced both profit-booking and bottom-fishing amid persistent concerns over FII outflows and pressure on the INR. Small and mid-cap stocks continue to lag due to apprehensions about premium valuations. Meanwhile, India’s trade deficit has widened beyond expectation,” said Vinod Nair, Head of Research at Geojit Financial Services.\u001b[0m\u001b[32;1m\u001b[1;3m\n",
      "Invoking: `thehindubusinessline_article_crawl` with `{'url': 'https://www.thehindubusinessline.com/markets/stock-market-live-updates-february-18-2025/article69229908.ece'}`\n",
      "\n",
      "\n",
      "\u001b[0m\u001b[38;5;200m\u001b[1;3mStock Market Highlights 18 Feb 2025: Sensex, Nifty close marginally weaker as IT gains offset broader weakness\n",
      "\n",
      "----------\n",
      "\n",
      "Sensex, Nifty updates on 18 February 2025: Equity benchmarks ended marginally lower on Tuesday after a volatile session, with the Sensex slipping 29.47 points or 0.04 per cent to 75,968, while the Nifty 50 declined 14.20 points or 0.06 per cent to 22,945.30, as gains in IT stocks were offset by weakness in auto and consumer goods sectors. \n",
      "The market was resilient, recovering from early lows, though persistent foreign fund outflows and a weakening rupee continued to weigh on sentiment. The broader markets underperformed significantly, with the Nifty Smallcap falling 1.6 per cent and Midcap declining 0.2 per cent. \n",
      "“The domestic market has experienced both profit-booking and bottom-fishing amid persistent concerns over FII outflows and pressure on the INR. Small and mid-cap stocks continue to lag due to apprehensions about premium valuations. Meanwhile, India’s trade deficit has widened beyond expectation,” said Vinod Nair, Head of Research at Geojit Financial Services.\u001b[0m\u001b[32;1m\u001b[1;3mThe article was published on February 18, 2025.\u001b[0m\n",
      "\n",
      "\u001b[1m> Finished chain.\u001b[0m\n"
     ]
    },
    {
     "data": {
      "text/plain": [
       "{'input': \"When was this  article published by the hindu business line at https://www.thehindubusinessline.com/markets/stock-market-live-updates-february-18-2025/article69229908.ece'\",\n",
       " 'output': 'The article was published on February 18, 2025.'}"
      ]
     },
     "execution_count": 22,
     "metadata": {},
     "output_type": "execute_result"
    }
   ],
   "source": [
    "agent_executor.invoke({\"input\":\"When was this  article published by the hindu business line at https://www.thehindubusinessline.com/markets/stock-market-live-updates-february-18-2025/article69229908.ece'\"})"
   ]
  },
  {
   "cell_type": "code",
   "execution_count": 23,
   "metadata": {},
   "outputs": [
    {
     "name": "stdout",
     "output_type": "stream",
     "text": [
      "\n",
      "\n",
      "\u001b[1m> Entering new AgentExecutor chain...\u001b[0m\n",
      "\u001b[32;1m\u001b[1;3m\n",
      "Invoking: `thehindubusinessline_article_crawl` with `{'url': 'https://www.thehindubusinessline.com/markets/stock-market-live-updates-february-18-2025/article69229908.ece'}`\n",
      "\n",
      "\n",
      "\u001b[0m\u001b[38;5;200m\u001b[1;3mStock Market Highlights 18 Feb 2025: Sensex, Nifty close marginally weaker as IT gains offset broader weakness\n",
      "\n",
      "----------\n",
      "\n",
      "Sensex, Nifty updates on 18 February 2025: Equity benchmarks ended marginally lower on Tuesday after a volatile session, with the Sensex slipping 29.47 points or 0.04 per cent to 75,968, while the Nifty 50 declined 14.20 points or 0.06 per cent to 22,945.30, as gains in IT stocks were offset by weakness in auto and consumer goods sectors. \n",
      "The market was resilient, recovering from early lows, though persistent foreign fund outflows and a weakening rupee continued to weigh on sentiment. The broader markets underperformed significantly, with the Nifty Smallcap falling 1.6 per cent and Midcap declining 0.2 per cent. \n",
      "“The domestic market has experienced both profit-booking and bottom-fishing amid persistent concerns over FII outflows and pressure on the INR. Small and mid-cap stocks continue to lag due to apprehensions about premium valuations. Meanwhile, India’s trade deficit has widened beyond expectation,” said Vinod Nair, Head of Research at Geojit Financial Services.\u001b[0m\u001b[32;1m\u001b[1;3m\n",
      "Invoking: `get_word_length` with `{'word': 'fourteen point two'}`\n",
      "\n",
      "\n",
      "\u001b[0m\u001b[33;1m\u001b[1;3m18\u001b[0m\u001b[32;1m\u001b[1;3mThe Nifty went down by 14.2 points as per the article at https://www.thehindubusinessline.com/markets/stock-market-live-updates-february-18-2025/article69229908.ece.\u001b[0m\n",
      "\n",
      "\u001b[1m> Finished chain.\u001b[0m\n"
     ]
    },
    {
     "data": {
      "text/plain": [
       "{'input': \"How much nifty went down as per article at https://www.thehindubusinessline.com/markets/stock-market-live-updates-february-18-2025/article69229908.ece'\",\n",
       " 'output': 'The Nifty went down by 14.2 points as per the article at https://www.thehindubusinessline.com/markets/stock-market-live-updates-february-18-2025/article69229908.ece.'}"
      ]
     },
     "execution_count": 23,
     "metadata": {},
     "output_type": "execute_result"
    }
   ],
   "source": [
    "agent_executor.invoke({\"input\":\"How much nifty went down as per article at https://www.thehindubusinessline.com/markets/stock-market-live-updates-february-18-2025/article69229908.ece'\"})"
   ]
  },
  {
   "cell_type": "code",
   "execution_count": 24,
   "metadata": {},
   "outputs": [
    {
     "name": "stdout",
     "output_type": "stream",
     "text": [
      "\n",
      "\n",
      "\u001b[1m> Entering new AgentExecutor chain...\u001b[0m\n",
      "\u001b[32;1m\u001b[1;3m\n",
      "Invoking: `add_numbers` with `{'a': 10, 'b': 30}`\n",
      "\n",
      "\n",
      "\u001b[0m\u001b[36;1m\u001b[1;3m40.0\u001b[0m\u001b[32;1m\u001b[1;3m\n",
      "Invoking: `add_numbers` with `{'a': 40, 'b': 45}`\n",
      "\n",
      "\n",
      "\u001b[0m\u001b[36;1m\u001b[1;3m85.0\u001b[0m\u001b[32;1m\u001b[1;3m\n",
      "Invoking: `add_numbers` with `{'a': 40, 'b': 75}`\n",
      "\n",
      "\n",
      "\u001b[0m\u001b[36;1m\u001b[1;3m115.0\u001b[0m\u001b[32;1m\u001b[1;3mThe sum of 10, 30, 40, 45 is 125.\u001b[0m\n",
      "\n",
      "\u001b[1m> Finished chain.\u001b[0m\n"
     ]
    },
    {
     "data": {
      "text/plain": [
       "{'input': 'Find sum of 10, 30, 40, 45',\n",
       " 'output': 'The sum of 10, 30, 40, 45 is 125.'}"
      ]
     },
     "execution_count": 24,
     "metadata": {},
     "output_type": "execute_result"
    }
   ],
   "source": [
    "agent_executor.invoke({\"input\":\"Find sum of 10, 30, 40, 45\"})"
   ]
  },
  {
   "cell_type": "code",
   "execution_count": 25,
   "metadata": {},
   "outputs": [
    {
     "name": "stdout",
     "output_type": "stream",
     "text": [
      "\n",
      "\n",
      "\u001b[1m> Entering new AgentExecutor chain...\u001b[0m\n"
     ]
    },
    {
     "ename": "APIError",
     "evalue": "Failed to call a function. Please adjust your prompt. See 'failed_generation' for more details.",
     "output_type": "error",
     "traceback": [
      "\u001b[0;31m---------------------------------------------------------------------------\u001b[0m",
      "\u001b[0;31mAPIError\u001b[0m                                  Traceback (most recent call last)",
      "Cell \u001b[0;32mIn[25], line 1\u001b[0m\n\u001b[0;32m----> 1\u001b[0m \u001b[43magent_executor\u001b[49m\u001b[38;5;241;43m.\u001b[39;49m\u001b[43minvoke\u001b[49m\u001b[43m(\u001b[49m\u001b[43m{\u001b[49m\u001b[38;5;124;43m\"\u001b[39;49m\u001b[38;5;124;43minput\u001b[39;49m\u001b[38;5;124;43m\"\u001b[39;49m\u001b[43m:\u001b[49m\u001b[38;5;124;43m\"\u001b[39;49m\u001b[38;5;124;43mFind the sum of numbers of nifty and sensex down by. Article of the hindu business line at https://www.thehindubusinessline.com/markets/stock-market-live-updates-february-18-2025/article69229908.ece\u001b[39;49m\u001b[38;5;124;43m\"\u001b[39;49m\u001b[43m}\u001b[49m\u001b[43m)\u001b[49m\n",
      "File \u001b[0;32m/official/official_docs/PythonLearning/GenerativeAIWithLangchainByKrish/projects/env/lib/python3.11/site-packages/langchain/chains/base.py:170\u001b[0m, in \u001b[0;36mChain.invoke\u001b[0;34m(self, input, config, **kwargs)\u001b[0m\n\u001b[1;32m    168\u001b[0m \u001b[38;5;28;01mexcept\u001b[39;00m \u001b[38;5;167;01mBaseException\u001b[39;00m \u001b[38;5;28;01mas\u001b[39;00m e:\n\u001b[1;32m    169\u001b[0m     run_manager\u001b[38;5;241m.\u001b[39mon_chain_error(e)\n\u001b[0;32m--> 170\u001b[0m     \u001b[38;5;28;01mraise\u001b[39;00m e\n\u001b[1;32m    171\u001b[0m run_manager\u001b[38;5;241m.\u001b[39mon_chain_end(outputs)\n\u001b[1;32m    173\u001b[0m \u001b[38;5;28;01mif\u001b[39;00m include_run_info:\n",
      "File \u001b[0;32m/official/official_docs/PythonLearning/GenerativeAIWithLangchainByKrish/projects/env/lib/python3.11/site-packages/langchain/chains/base.py:160\u001b[0m, in \u001b[0;36mChain.invoke\u001b[0;34m(self, input, config, **kwargs)\u001b[0m\n\u001b[1;32m    157\u001b[0m \u001b[38;5;28;01mtry\u001b[39;00m:\n\u001b[1;32m    158\u001b[0m     \u001b[38;5;28mself\u001b[39m\u001b[38;5;241m.\u001b[39m_validate_inputs(inputs)\n\u001b[1;32m    159\u001b[0m     outputs \u001b[38;5;241m=\u001b[39m (\n\u001b[0;32m--> 160\u001b[0m         \u001b[38;5;28;43mself\u001b[39;49m\u001b[38;5;241;43m.\u001b[39;49m\u001b[43m_call\u001b[49m\u001b[43m(\u001b[49m\u001b[43minputs\u001b[49m\u001b[43m,\u001b[49m\u001b[43m \u001b[49m\u001b[43mrun_manager\u001b[49m\u001b[38;5;241;43m=\u001b[39;49m\u001b[43mrun_manager\u001b[49m\u001b[43m)\u001b[49m\n\u001b[1;32m    161\u001b[0m         \u001b[38;5;28;01mif\u001b[39;00m new_arg_supported\n\u001b[1;32m    162\u001b[0m         \u001b[38;5;28;01melse\u001b[39;00m \u001b[38;5;28mself\u001b[39m\u001b[38;5;241m.\u001b[39m_call(inputs)\n\u001b[1;32m    163\u001b[0m     )\n\u001b[1;32m    165\u001b[0m     final_outputs: Dict[\u001b[38;5;28mstr\u001b[39m, Any] \u001b[38;5;241m=\u001b[39m \u001b[38;5;28mself\u001b[39m\u001b[38;5;241m.\u001b[39mprep_outputs(\n\u001b[1;32m    166\u001b[0m         inputs, outputs, return_only_outputs\n\u001b[1;32m    167\u001b[0m     )\n\u001b[1;32m    168\u001b[0m \u001b[38;5;28;01mexcept\u001b[39;00m \u001b[38;5;167;01mBaseException\u001b[39;00m \u001b[38;5;28;01mas\u001b[39;00m e:\n",
      "File \u001b[0;32m/official/official_docs/PythonLearning/GenerativeAIWithLangchainByKrish/projects/env/lib/python3.11/site-packages/langchain/agents/agent.py:1624\u001b[0m, in \u001b[0;36mAgentExecutor._call\u001b[0;34m(self, inputs, run_manager)\u001b[0m\n\u001b[1;32m   1622\u001b[0m \u001b[38;5;66;03m# We now enter the agent loop (until it returns something).\u001b[39;00m\n\u001b[1;32m   1623\u001b[0m \u001b[38;5;28;01mwhile\u001b[39;00m \u001b[38;5;28mself\u001b[39m\u001b[38;5;241m.\u001b[39m_should_continue(iterations, time_elapsed):\n\u001b[0;32m-> 1624\u001b[0m     next_step_output \u001b[38;5;241m=\u001b[39m \u001b[38;5;28;43mself\u001b[39;49m\u001b[38;5;241;43m.\u001b[39;49m\u001b[43m_take_next_step\u001b[49m\u001b[43m(\u001b[49m\n\u001b[1;32m   1625\u001b[0m \u001b[43m        \u001b[49m\u001b[43mname_to_tool_map\u001b[49m\u001b[43m,\u001b[49m\n\u001b[1;32m   1626\u001b[0m \u001b[43m        \u001b[49m\u001b[43mcolor_mapping\u001b[49m\u001b[43m,\u001b[49m\n\u001b[1;32m   1627\u001b[0m \u001b[43m        \u001b[49m\u001b[43minputs\u001b[49m\u001b[43m,\u001b[49m\n\u001b[1;32m   1628\u001b[0m \u001b[43m        \u001b[49m\u001b[43mintermediate_steps\u001b[49m\u001b[43m,\u001b[49m\n\u001b[1;32m   1629\u001b[0m \u001b[43m        \u001b[49m\u001b[43mrun_manager\u001b[49m\u001b[38;5;241;43m=\u001b[39;49m\u001b[43mrun_manager\u001b[49m\u001b[43m,\u001b[49m\n\u001b[1;32m   1630\u001b[0m \u001b[43m    \u001b[49m\u001b[43m)\u001b[49m\n\u001b[1;32m   1631\u001b[0m     \u001b[38;5;28;01mif\u001b[39;00m \u001b[38;5;28misinstance\u001b[39m(next_step_output, AgentFinish):\n\u001b[1;32m   1632\u001b[0m         \u001b[38;5;28;01mreturn\u001b[39;00m \u001b[38;5;28mself\u001b[39m\u001b[38;5;241m.\u001b[39m_return(\n\u001b[1;32m   1633\u001b[0m             next_step_output, intermediate_steps, run_manager\u001b[38;5;241m=\u001b[39mrun_manager\n\u001b[1;32m   1634\u001b[0m         )\n",
      "File \u001b[0;32m/official/official_docs/PythonLearning/GenerativeAIWithLangchainByKrish/projects/env/lib/python3.11/site-packages/langchain/agents/agent.py:1330\u001b[0m, in \u001b[0;36mAgentExecutor._take_next_step\u001b[0;34m(self, name_to_tool_map, color_mapping, inputs, intermediate_steps, run_manager)\u001b[0m\n\u001b[1;32m   1321\u001b[0m \u001b[38;5;28;01mdef\u001b[39;00m \u001b[38;5;21m_take_next_step\u001b[39m(\n\u001b[1;32m   1322\u001b[0m     \u001b[38;5;28mself\u001b[39m,\n\u001b[1;32m   1323\u001b[0m     name_to_tool_map: Dict[\u001b[38;5;28mstr\u001b[39m, BaseTool],\n\u001b[0;32m   (...)\u001b[0m\n\u001b[1;32m   1327\u001b[0m     run_manager: Optional[CallbackManagerForChainRun] \u001b[38;5;241m=\u001b[39m \u001b[38;5;28;01mNone\u001b[39;00m,\n\u001b[1;32m   1328\u001b[0m ) \u001b[38;5;241m-\u001b[39m\u001b[38;5;241m>\u001b[39m Union[AgentFinish, List[Tuple[AgentAction, \u001b[38;5;28mstr\u001b[39m]]]:\n\u001b[1;32m   1329\u001b[0m     \u001b[38;5;28;01mreturn\u001b[39;00m \u001b[38;5;28mself\u001b[39m\u001b[38;5;241m.\u001b[39m_consume_next_step(\n\u001b[0;32m-> 1330\u001b[0m         \u001b[43m[\u001b[49m\n\u001b[1;32m   1331\u001b[0m \u001b[43m            \u001b[49m\u001b[43ma\u001b[49m\n\u001b[1;32m   1332\u001b[0m \u001b[43m            \u001b[49m\u001b[38;5;28;43;01mfor\u001b[39;49;00m\u001b[43m \u001b[49m\u001b[43ma\u001b[49m\u001b[43m \u001b[49m\u001b[38;5;129;43;01min\u001b[39;49;00m\u001b[43m \u001b[49m\u001b[38;5;28;43mself\u001b[39;49m\u001b[38;5;241;43m.\u001b[39;49m\u001b[43m_iter_next_step\u001b[49m\u001b[43m(\u001b[49m\n\u001b[1;32m   1333\u001b[0m \u001b[43m                \u001b[49m\u001b[43mname_to_tool_map\u001b[49m\u001b[43m,\u001b[49m\n\u001b[1;32m   1334\u001b[0m \u001b[43m                \u001b[49m\u001b[43mcolor_mapping\u001b[49m\u001b[43m,\u001b[49m\n\u001b[1;32m   1335\u001b[0m \u001b[43m                \u001b[49m\u001b[43minputs\u001b[49m\u001b[43m,\u001b[49m\n\u001b[1;32m   1336\u001b[0m \u001b[43m                \u001b[49m\u001b[43mintermediate_steps\u001b[49m\u001b[43m,\u001b[49m\n\u001b[1;32m   1337\u001b[0m \u001b[43m                \u001b[49m\u001b[43mrun_manager\u001b[49m\u001b[43m,\u001b[49m\n\u001b[1;32m   1338\u001b[0m \u001b[43m            \u001b[49m\u001b[43m)\u001b[49m\n\u001b[1;32m   1339\u001b[0m \u001b[43m        \u001b[49m\u001b[43m]\u001b[49m\n\u001b[1;32m   1340\u001b[0m     )\n",
      "File \u001b[0;32m/official/official_docs/PythonLearning/GenerativeAIWithLangchainByKrish/projects/env/lib/python3.11/site-packages/langchain/agents/agent.py:1330\u001b[0m, in \u001b[0;36m<listcomp>\u001b[0;34m(.0)\u001b[0m\n\u001b[1;32m   1321\u001b[0m \u001b[38;5;28;01mdef\u001b[39;00m \u001b[38;5;21m_take_next_step\u001b[39m(\n\u001b[1;32m   1322\u001b[0m     \u001b[38;5;28mself\u001b[39m,\n\u001b[1;32m   1323\u001b[0m     name_to_tool_map: Dict[\u001b[38;5;28mstr\u001b[39m, BaseTool],\n\u001b[0;32m   (...)\u001b[0m\n\u001b[1;32m   1327\u001b[0m     run_manager: Optional[CallbackManagerForChainRun] \u001b[38;5;241m=\u001b[39m \u001b[38;5;28;01mNone\u001b[39;00m,\n\u001b[1;32m   1328\u001b[0m ) \u001b[38;5;241m-\u001b[39m\u001b[38;5;241m>\u001b[39m Union[AgentFinish, List[Tuple[AgentAction, \u001b[38;5;28mstr\u001b[39m]]]:\n\u001b[1;32m   1329\u001b[0m     \u001b[38;5;28;01mreturn\u001b[39;00m \u001b[38;5;28mself\u001b[39m\u001b[38;5;241m.\u001b[39m_consume_next_step(\n\u001b[0;32m-> 1330\u001b[0m         \u001b[43m[\u001b[49m\n\u001b[1;32m   1331\u001b[0m \u001b[43m            \u001b[49m\u001b[43ma\u001b[49m\n\u001b[1;32m   1332\u001b[0m \u001b[43m            \u001b[49m\u001b[38;5;28;43;01mfor\u001b[39;49;00m\u001b[43m \u001b[49m\u001b[43ma\u001b[49m\u001b[43m \u001b[49m\u001b[38;5;129;43;01min\u001b[39;49;00m\u001b[43m \u001b[49m\u001b[38;5;28;43mself\u001b[39;49m\u001b[38;5;241;43m.\u001b[39;49m\u001b[43m_iter_next_step\u001b[49m\u001b[43m(\u001b[49m\n\u001b[1;32m   1333\u001b[0m \u001b[43m                \u001b[49m\u001b[43mname_to_tool_map\u001b[49m\u001b[43m,\u001b[49m\n\u001b[1;32m   1334\u001b[0m \u001b[43m                \u001b[49m\u001b[43mcolor_mapping\u001b[49m\u001b[43m,\u001b[49m\n\u001b[1;32m   1335\u001b[0m \u001b[43m                \u001b[49m\u001b[43minputs\u001b[49m\u001b[43m,\u001b[49m\n\u001b[1;32m   1336\u001b[0m \u001b[43m                \u001b[49m\u001b[43mintermediate_steps\u001b[49m\u001b[43m,\u001b[49m\n\u001b[1;32m   1337\u001b[0m \u001b[43m                \u001b[49m\u001b[43mrun_manager\u001b[49m\u001b[43m,\u001b[49m\n\u001b[1;32m   1338\u001b[0m \u001b[43m            \u001b[49m\u001b[43m)\u001b[49m\n\u001b[1;32m   1339\u001b[0m \u001b[43m        \u001b[49m\u001b[43m]\u001b[49m\n\u001b[1;32m   1340\u001b[0m     )\n",
      "File \u001b[0;32m/official/official_docs/PythonLearning/GenerativeAIWithLangchainByKrish/projects/env/lib/python3.11/site-packages/langchain/agents/agent.py:1358\u001b[0m, in \u001b[0;36mAgentExecutor._iter_next_step\u001b[0;34m(self, name_to_tool_map, color_mapping, inputs, intermediate_steps, run_manager)\u001b[0m\n\u001b[1;32m   1355\u001b[0m     intermediate_steps \u001b[38;5;241m=\u001b[39m \u001b[38;5;28mself\u001b[39m\u001b[38;5;241m.\u001b[39m_prepare_intermediate_steps(intermediate_steps)\n\u001b[1;32m   1357\u001b[0m     \u001b[38;5;66;03m# Call the LLM to see what to do.\u001b[39;00m\n\u001b[0;32m-> 1358\u001b[0m     output \u001b[38;5;241m=\u001b[39m \u001b[38;5;28;43mself\u001b[39;49m\u001b[38;5;241;43m.\u001b[39;49m\u001b[43m_action_agent\u001b[49m\u001b[38;5;241;43m.\u001b[39;49m\u001b[43mplan\u001b[49m\u001b[43m(\u001b[49m\n\u001b[1;32m   1359\u001b[0m \u001b[43m        \u001b[49m\u001b[43mintermediate_steps\u001b[49m\u001b[43m,\u001b[49m\n\u001b[1;32m   1360\u001b[0m \u001b[43m        \u001b[49m\u001b[43mcallbacks\u001b[49m\u001b[38;5;241;43m=\u001b[39;49m\u001b[43mrun_manager\u001b[49m\u001b[38;5;241;43m.\u001b[39;49m\u001b[43mget_child\u001b[49m\u001b[43m(\u001b[49m\u001b[43m)\u001b[49m\u001b[43m \u001b[49m\u001b[38;5;28;43;01mif\u001b[39;49;00m\u001b[43m \u001b[49m\u001b[43mrun_manager\u001b[49m\u001b[43m \u001b[49m\u001b[38;5;28;43;01melse\u001b[39;49;00m\u001b[43m \u001b[49m\u001b[38;5;28;43;01mNone\u001b[39;49;00m\u001b[43m,\u001b[49m\n\u001b[1;32m   1361\u001b[0m \u001b[43m        \u001b[49m\u001b[38;5;241;43m*\u001b[39;49m\u001b[38;5;241;43m*\u001b[39;49m\u001b[43minputs\u001b[49m\u001b[43m,\u001b[49m\n\u001b[1;32m   1362\u001b[0m \u001b[43m    \u001b[49m\u001b[43m)\u001b[49m\n\u001b[1;32m   1363\u001b[0m \u001b[38;5;28;01mexcept\u001b[39;00m OutputParserException \u001b[38;5;28;01mas\u001b[39;00m e:\n\u001b[1;32m   1364\u001b[0m     \u001b[38;5;28;01mif\u001b[39;00m \u001b[38;5;28misinstance\u001b[39m(\u001b[38;5;28mself\u001b[39m\u001b[38;5;241m.\u001b[39mhandle_parsing_errors, \u001b[38;5;28mbool\u001b[39m):\n",
      "File \u001b[0;32m/official/official_docs/PythonLearning/GenerativeAIWithLangchainByKrish/projects/env/lib/python3.11/site-packages/langchain/agents/agent.py:581\u001b[0m, in \u001b[0;36mRunnableMultiActionAgent.plan\u001b[0;34m(self, intermediate_steps, callbacks, **kwargs)\u001b[0m\n\u001b[1;32m    573\u001b[0m final_output: Any \u001b[38;5;241m=\u001b[39m \u001b[38;5;28;01mNone\u001b[39;00m\n\u001b[1;32m    574\u001b[0m \u001b[38;5;28;01mif\u001b[39;00m \u001b[38;5;28mself\u001b[39m\u001b[38;5;241m.\u001b[39mstream_runnable:\n\u001b[1;32m    575\u001b[0m     \u001b[38;5;66;03m# Use streaming to make sure that the underlying LLM is invoked in a\u001b[39;00m\n\u001b[1;32m    576\u001b[0m     \u001b[38;5;66;03m# streaming\u001b[39;00m\n\u001b[0;32m   (...)\u001b[0m\n\u001b[1;32m    579\u001b[0m     \u001b[38;5;66;03m# Because the response from the plan is not a generator, we need to\u001b[39;00m\n\u001b[1;32m    580\u001b[0m     \u001b[38;5;66;03m# accumulate the output into final output and return that.\u001b[39;00m\n\u001b[0;32m--> 581\u001b[0m \u001b[43m    \u001b[49m\u001b[38;5;28;43;01mfor\u001b[39;49;00m\u001b[43m \u001b[49m\u001b[43mchunk\u001b[49m\u001b[43m \u001b[49m\u001b[38;5;129;43;01min\u001b[39;49;00m\u001b[43m \u001b[49m\u001b[38;5;28;43mself\u001b[39;49m\u001b[38;5;241;43m.\u001b[39;49m\u001b[43mrunnable\u001b[49m\u001b[38;5;241;43m.\u001b[39;49m\u001b[43mstream\u001b[49m\u001b[43m(\u001b[49m\u001b[43minputs\u001b[49m\u001b[43m,\u001b[49m\u001b[43m \u001b[49m\u001b[43mconfig\u001b[49m\u001b[38;5;241;43m=\u001b[39;49m\u001b[43m{\u001b[49m\u001b[38;5;124;43m\"\u001b[39;49m\u001b[38;5;124;43mcallbacks\u001b[39;49m\u001b[38;5;124;43m\"\u001b[39;49m\u001b[43m:\u001b[49m\u001b[43m \u001b[49m\u001b[43mcallbacks\u001b[49m\u001b[43m}\u001b[49m\u001b[43m)\u001b[49m\u001b[43m:\u001b[49m\n\u001b[1;32m    582\u001b[0m \u001b[43m        \u001b[49m\u001b[38;5;28;43;01mif\u001b[39;49;00m\u001b[43m \u001b[49m\u001b[43mfinal_output\u001b[49m\u001b[43m \u001b[49m\u001b[38;5;129;43;01mis\u001b[39;49;00m\u001b[43m \u001b[49m\u001b[38;5;28;43;01mNone\u001b[39;49;00m\u001b[43m:\u001b[49m\n\u001b[1;32m    583\u001b[0m \u001b[43m            \u001b[49m\u001b[43mfinal_output\u001b[49m\u001b[43m \u001b[49m\u001b[38;5;241;43m=\u001b[39;49m\u001b[43m \u001b[49m\u001b[43mchunk\u001b[49m\n",
      "File \u001b[0;32m/official/official_docs/PythonLearning/GenerativeAIWithLangchainByKrish/projects/env/lib/python3.11/site-packages/langchain_core/runnables/base.py:3409\u001b[0m, in \u001b[0;36mRunnableSequence.stream\u001b[0;34m(self, input, config, **kwargs)\u001b[0m\n\u001b[1;32m   3403\u001b[0m \u001b[38;5;28;01mdef\u001b[39;00m \u001b[38;5;21mstream\u001b[39m(\n\u001b[1;32m   3404\u001b[0m     \u001b[38;5;28mself\u001b[39m,\n\u001b[1;32m   3405\u001b[0m     \u001b[38;5;28minput\u001b[39m: Input,\n\u001b[1;32m   3406\u001b[0m     config: Optional[RunnableConfig] \u001b[38;5;241m=\u001b[39m \u001b[38;5;28;01mNone\u001b[39;00m,\n\u001b[1;32m   3407\u001b[0m     \u001b[38;5;241m*\u001b[39m\u001b[38;5;241m*\u001b[39mkwargs: Optional[Any],\n\u001b[1;32m   3408\u001b[0m ) \u001b[38;5;241m-\u001b[39m\u001b[38;5;241m>\u001b[39m Iterator[Output]:\n\u001b[0;32m-> 3409\u001b[0m     \u001b[38;5;28;01myield from\u001b[39;00m \u001b[38;5;28mself\u001b[39m\u001b[38;5;241m.\u001b[39mtransform(\u001b[38;5;28miter\u001b[39m([\u001b[38;5;28minput\u001b[39m]), config, \u001b[38;5;241m*\u001b[39m\u001b[38;5;241m*\u001b[39mkwargs)\n",
      "File \u001b[0;32m/official/official_docs/PythonLearning/GenerativeAIWithLangchainByKrish/projects/env/lib/python3.11/site-packages/langchain_core/runnables/base.py:3396\u001b[0m, in \u001b[0;36mRunnableSequence.transform\u001b[0;34m(self, input, config, **kwargs)\u001b[0m\n\u001b[1;32m   3390\u001b[0m \u001b[38;5;28;01mdef\u001b[39;00m \u001b[38;5;21mtransform\u001b[39m(\n\u001b[1;32m   3391\u001b[0m     \u001b[38;5;28mself\u001b[39m,\n\u001b[1;32m   3392\u001b[0m     \u001b[38;5;28minput\u001b[39m: Iterator[Input],\n\u001b[1;32m   3393\u001b[0m     config: Optional[RunnableConfig] \u001b[38;5;241m=\u001b[39m \u001b[38;5;28;01mNone\u001b[39;00m,\n\u001b[1;32m   3394\u001b[0m     \u001b[38;5;241m*\u001b[39m\u001b[38;5;241m*\u001b[39mkwargs: Optional[Any],\n\u001b[1;32m   3395\u001b[0m ) \u001b[38;5;241m-\u001b[39m\u001b[38;5;241m>\u001b[39m Iterator[Output]:\n\u001b[0;32m-> 3396\u001b[0m     \u001b[38;5;28;01myield from\u001b[39;00m \u001b[38;5;28mself\u001b[39m\u001b[38;5;241m.\u001b[39m_transform_stream_with_config(\n\u001b[1;32m   3397\u001b[0m         \u001b[38;5;28minput\u001b[39m,\n\u001b[1;32m   3398\u001b[0m         \u001b[38;5;28mself\u001b[39m\u001b[38;5;241m.\u001b[39m_transform,\n\u001b[1;32m   3399\u001b[0m         patch_config(config, run_name\u001b[38;5;241m=\u001b[39m(config \u001b[38;5;129;01mor\u001b[39;00m {})\u001b[38;5;241m.\u001b[39mget(\u001b[38;5;124m\"\u001b[39m\u001b[38;5;124mrun_name\u001b[39m\u001b[38;5;124m\"\u001b[39m) \u001b[38;5;129;01mor\u001b[39;00m \u001b[38;5;28mself\u001b[39m\u001b[38;5;241m.\u001b[39mname),\n\u001b[1;32m   3400\u001b[0m         \u001b[38;5;241m*\u001b[39m\u001b[38;5;241m*\u001b[39mkwargs,\n\u001b[1;32m   3401\u001b[0m     )\n",
      "File \u001b[0;32m/official/official_docs/PythonLearning/GenerativeAIWithLangchainByKrish/projects/env/lib/python3.11/site-packages/langchain_core/runnables/base.py:2196\u001b[0m, in \u001b[0;36mRunnable._transform_stream_with_config\u001b[0;34m(self, input, transformer, config, run_type, **kwargs)\u001b[0m\n\u001b[1;32m   2194\u001b[0m \u001b[38;5;28;01mtry\u001b[39;00m:\n\u001b[1;32m   2195\u001b[0m     \u001b[38;5;28;01mwhile\u001b[39;00m \u001b[38;5;28;01mTrue\u001b[39;00m:\n\u001b[0;32m-> 2196\u001b[0m         chunk: Output \u001b[38;5;241m=\u001b[39m context\u001b[38;5;241m.\u001b[39mrun(\u001b[38;5;28mnext\u001b[39m, iterator)  \u001b[38;5;66;03m# type: ignore\u001b[39;00m\n\u001b[1;32m   2197\u001b[0m         \u001b[38;5;28;01myield\u001b[39;00m chunk\n\u001b[1;32m   2198\u001b[0m         \u001b[38;5;28;01mif\u001b[39;00m final_output_supported:\n",
      "File \u001b[0;32m/official/official_docs/PythonLearning/GenerativeAIWithLangchainByKrish/projects/env/lib/python3.11/site-packages/langchain_core/runnables/base.py:3359\u001b[0m, in \u001b[0;36mRunnableSequence._transform\u001b[0;34m(self, input, run_manager, config, **kwargs)\u001b[0m\n\u001b[1;32m   3356\u001b[0m     \u001b[38;5;28;01melse\u001b[39;00m:\n\u001b[1;32m   3357\u001b[0m         final_pipeline \u001b[38;5;241m=\u001b[39m step\u001b[38;5;241m.\u001b[39mtransform(final_pipeline, config)\n\u001b[0;32m-> 3359\u001b[0m \u001b[38;5;28;01myield from\u001b[39;00m final_pipeline\n",
      "File \u001b[0;32m/official/official_docs/PythonLearning/GenerativeAIWithLangchainByKrish/projects/env/lib/python3.11/site-packages/langchain_core/runnables/base.py:1414\u001b[0m, in \u001b[0;36mRunnable.transform\u001b[0;34m(self, input, config, **kwargs)\u001b[0m\n\u001b[1;32m   1411\u001b[0m final: Input\n\u001b[1;32m   1412\u001b[0m got_first_val \u001b[38;5;241m=\u001b[39m \u001b[38;5;28;01mFalse\u001b[39;00m\n\u001b[0;32m-> 1414\u001b[0m \u001b[43m\u001b[49m\u001b[38;5;28;43;01mfor\u001b[39;49;00m\u001b[43m \u001b[49m\u001b[43michunk\u001b[49m\u001b[43m \u001b[49m\u001b[38;5;129;43;01min\u001b[39;49;00m\u001b[43m \u001b[49m\u001b[38;5;28;43minput\u001b[39;49m\u001b[43m:\u001b[49m\n\u001b[1;32m   1415\u001b[0m \u001b[43m    \u001b[49m\u001b[38;5;66;43;03m# The default implementation of transform is to buffer input and\u001b[39;49;00m\n\u001b[1;32m   1416\u001b[0m \u001b[43m    \u001b[49m\u001b[38;5;66;43;03m# then call stream.\u001b[39;49;00m\n\u001b[1;32m   1417\u001b[0m \u001b[43m    \u001b[49m\u001b[38;5;66;43;03m# It'll attempt to gather all input into a single chunk using\u001b[39;49;00m\n\u001b[1;32m   1418\u001b[0m \u001b[43m    \u001b[49m\u001b[38;5;66;43;03m# the `+` operator.\u001b[39;49;00m\n\u001b[1;32m   1419\u001b[0m \u001b[43m    \u001b[49m\u001b[38;5;66;43;03m# If the input is not addable, then we'll assume that we can\u001b[39;49;00m\n\u001b[1;32m   1420\u001b[0m \u001b[43m    \u001b[49m\u001b[38;5;66;43;03m# only operate on the last chunk,\u001b[39;49;00m\n\u001b[1;32m   1421\u001b[0m \u001b[43m    \u001b[49m\u001b[38;5;66;43;03m# and we'll iterate until we get to the last chunk.\u001b[39;49;00m\n\u001b[1;32m   1422\u001b[0m \u001b[43m    \u001b[49m\u001b[38;5;28;43;01mif\u001b[39;49;00m\u001b[43m \u001b[49m\u001b[38;5;129;43;01mnot\u001b[39;49;00m\u001b[43m \u001b[49m\u001b[43mgot_first_val\u001b[49m\u001b[43m:\u001b[49m\n\u001b[1;32m   1423\u001b[0m \u001b[43m        \u001b[49m\u001b[43mfinal\u001b[49m\u001b[43m \u001b[49m\u001b[38;5;241;43m=\u001b[39;49m\u001b[43m \u001b[49m\u001b[43michunk\u001b[49m\n",
      "File \u001b[0;32m/official/official_docs/PythonLearning/GenerativeAIWithLangchainByKrish/projects/env/lib/python3.11/site-packages/langchain_core/runnables/base.py:5567\u001b[0m, in \u001b[0;36mRunnableBindingBase.transform\u001b[0;34m(self, input, config, **kwargs)\u001b[0m\n\u001b[1;32m   5561\u001b[0m \u001b[38;5;28;01mdef\u001b[39;00m \u001b[38;5;21mtransform\u001b[39m(\n\u001b[1;32m   5562\u001b[0m     \u001b[38;5;28mself\u001b[39m,\n\u001b[1;32m   5563\u001b[0m     \u001b[38;5;28minput\u001b[39m: Iterator[Input],\n\u001b[1;32m   5564\u001b[0m     config: Optional[RunnableConfig] \u001b[38;5;241m=\u001b[39m \u001b[38;5;28;01mNone\u001b[39;00m,\n\u001b[1;32m   5565\u001b[0m     \u001b[38;5;241m*\u001b[39m\u001b[38;5;241m*\u001b[39mkwargs: Any,\n\u001b[1;32m   5566\u001b[0m ) \u001b[38;5;241m-\u001b[39m\u001b[38;5;241m>\u001b[39m Iterator[Output]:\n\u001b[0;32m-> 5567\u001b[0m     \u001b[38;5;28;01myield from\u001b[39;00m \u001b[38;5;28mself\u001b[39m\u001b[38;5;241m.\u001b[39mbound\u001b[38;5;241m.\u001b[39mtransform(\n\u001b[1;32m   5568\u001b[0m         \u001b[38;5;28minput\u001b[39m,\n\u001b[1;32m   5569\u001b[0m         \u001b[38;5;28mself\u001b[39m\u001b[38;5;241m.\u001b[39m_merge_configs(config),\n\u001b[1;32m   5570\u001b[0m         \u001b[38;5;241m*\u001b[39m\u001b[38;5;241m*\u001b[39m{\u001b[38;5;241m*\u001b[39m\u001b[38;5;241m*\u001b[39m\u001b[38;5;28mself\u001b[39m\u001b[38;5;241m.\u001b[39mkwargs, \u001b[38;5;241m*\u001b[39m\u001b[38;5;241m*\u001b[39mkwargs},\n\u001b[1;32m   5571\u001b[0m     )\n",
      "File \u001b[0;32m/official/official_docs/PythonLearning/GenerativeAIWithLangchainByKrish/projects/env/lib/python3.11/site-packages/langchain_core/runnables/base.py:1432\u001b[0m, in \u001b[0;36mRunnable.transform\u001b[0;34m(self, input, config, **kwargs)\u001b[0m\n\u001b[1;32m   1429\u001b[0m             final \u001b[38;5;241m=\u001b[39m ichunk\n\u001b[1;32m   1431\u001b[0m \u001b[38;5;28;01mif\u001b[39;00m got_first_val:\n\u001b[0;32m-> 1432\u001b[0m     \u001b[38;5;28;01myield from\u001b[39;00m \u001b[38;5;28mself\u001b[39m\u001b[38;5;241m.\u001b[39mstream(final, config, \u001b[38;5;241m*\u001b[39m\u001b[38;5;241m*\u001b[39mkwargs)\n",
      "File \u001b[0;32m/official/official_docs/PythonLearning/GenerativeAIWithLangchainByKrish/projects/env/lib/python3.11/site-packages/langchain_core/language_models/chat_models.py:415\u001b[0m, in \u001b[0;36mBaseChatModel.stream\u001b[0;34m(self, input, config, stop, **kwargs)\u001b[0m\n\u001b[1;32m    412\u001b[0m     \u001b[38;5;28mself\u001b[39m\u001b[38;5;241m.\u001b[39mrate_limiter\u001b[38;5;241m.\u001b[39macquire(blocking\u001b[38;5;241m=\u001b[39m\u001b[38;5;28;01mTrue\u001b[39;00m)\n\u001b[1;32m    414\u001b[0m \u001b[38;5;28;01mtry\u001b[39;00m:\n\u001b[0;32m--> 415\u001b[0m \u001b[43m    \u001b[49m\u001b[38;5;28;43;01mfor\u001b[39;49;00m\u001b[43m \u001b[49m\u001b[43mchunk\u001b[49m\u001b[43m \u001b[49m\u001b[38;5;129;43;01min\u001b[39;49;00m\u001b[43m \u001b[49m\u001b[38;5;28;43mself\u001b[39;49m\u001b[38;5;241;43m.\u001b[39;49m\u001b[43m_stream\u001b[49m\u001b[43m(\u001b[49m\u001b[43mmessages\u001b[49m\u001b[43m,\u001b[49m\u001b[43m \u001b[49m\u001b[43mstop\u001b[49m\u001b[38;5;241;43m=\u001b[39;49m\u001b[43mstop\u001b[49m\u001b[43m,\u001b[49m\u001b[43m \u001b[49m\u001b[38;5;241;43m*\u001b[39;49m\u001b[38;5;241;43m*\u001b[39;49m\u001b[43mkwargs\u001b[49m\u001b[43m)\u001b[49m\u001b[43m:\u001b[49m\n\u001b[1;32m    416\u001b[0m \u001b[43m        \u001b[49m\u001b[38;5;28;43;01mif\u001b[39;49;00m\u001b[43m \u001b[49m\u001b[43mchunk\u001b[49m\u001b[38;5;241;43m.\u001b[39;49m\u001b[43mmessage\u001b[49m\u001b[38;5;241;43m.\u001b[39;49m\u001b[43mid\u001b[49m\u001b[43m \u001b[49m\u001b[38;5;129;43;01mis\u001b[39;49;00m\u001b[43m \u001b[49m\u001b[38;5;28;43;01mNone\u001b[39;49;00m\u001b[43m:\u001b[49m\n\u001b[1;32m    417\u001b[0m \u001b[43m            \u001b[49m\u001b[43mchunk\u001b[49m\u001b[38;5;241;43m.\u001b[39;49m\u001b[43mmessage\u001b[49m\u001b[38;5;241;43m.\u001b[39;49m\u001b[43mid\u001b[49m\u001b[43m \u001b[49m\u001b[38;5;241;43m=\u001b[39;49m\u001b[43m \u001b[49m\u001b[38;5;124;43mf\u001b[39;49m\u001b[38;5;124;43m\"\u001b[39;49m\u001b[38;5;124;43mrun-\u001b[39;49m\u001b[38;5;132;43;01m{\u001b[39;49;00m\u001b[43mrun_manager\u001b[49m\u001b[38;5;241;43m.\u001b[39;49m\u001b[43mrun_id\u001b[49m\u001b[38;5;132;43;01m}\u001b[39;49;00m\u001b[38;5;124;43m\"\u001b[39;49m\n",
      "File \u001b[0;32m/official/official_docs/PythonLearning/GenerativeAIWithLangchainByKrish/projects/env/lib/python3.11/site-packages/langchain_groq/chat_models.py:516\u001b[0m, in \u001b[0;36mChatGroq._stream\u001b[0;34m(self, messages, stop, run_manager, **kwargs)\u001b[0m\n\u001b[1;32m    513\u001b[0m params \u001b[38;5;241m=\u001b[39m {\u001b[38;5;241m*\u001b[39m\u001b[38;5;241m*\u001b[39mparams, \u001b[38;5;241m*\u001b[39m\u001b[38;5;241m*\u001b[39mkwargs, \u001b[38;5;124m\"\u001b[39m\u001b[38;5;124mstream\u001b[39m\u001b[38;5;124m\"\u001b[39m: \u001b[38;5;28;01mTrue\u001b[39;00m}\n\u001b[1;32m    515\u001b[0m default_chunk_class: Type[BaseMessageChunk] \u001b[38;5;241m=\u001b[39m AIMessageChunk\n\u001b[0;32m--> 516\u001b[0m \u001b[43m\u001b[49m\u001b[38;5;28;43;01mfor\u001b[39;49;00m\u001b[43m \u001b[49m\u001b[43mchunk\u001b[49m\u001b[43m \u001b[49m\u001b[38;5;129;43;01min\u001b[39;49;00m\u001b[43m \u001b[49m\u001b[38;5;28;43mself\u001b[39;49m\u001b[38;5;241;43m.\u001b[39;49m\u001b[43mclient\u001b[49m\u001b[38;5;241;43m.\u001b[39;49m\u001b[43mcreate\u001b[49m\u001b[43m(\u001b[49m\u001b[43mmessages\u001b[49m\u001b[38;5;241;43m=\u001b[39;49m\u001b[43mmessage_dicts\u001b[49m\u001b[43m,\u001b[49m\u001b[43m \u001b[49m\u001b[38;5;241;43m*\u001b[39;49m\u001b[38;5;241;43m*\u001b[39;49m\u001b[43mparams\u001b[49m\u001b[43m)\u001b[49m\u001b[43m:\u001b[49m\n\u001b[1;32m    517\u001b[0m \u001b[43m    \u001b[49m\u001b[38;5;28;43;01mif\u001b[39;49;00m\u001b[43m \u001b[49m\u001b[38;5;129;43;01mnot\u001b[39;49;00m\u001b[43m \u001b[49m\u001b[38;5;28;43misinstance\u001b[39;49m\u001b[43m(\u001b[49m\u001b[43mchunk\u001b[49m\u001b[43m,\u001b[49m\u001b[43m \u001b[49m\u001b[38;5;28;43mdict\u001b[39;49m\u001b[43m)\u001b[49m\u001b[43m:\u001b[49m\n\u001b[1;32m    518\u001b[0m \u001b[43m        \u001b[49m\u001b[43mchunk\u001b[49m\u001b[43m \u001b[49m\u001b[38;5;241;43m=\u001b[39;49m\u001b[43m \u001b[49m\u001b[43mchunk\u001b[49m\u001b[38;5;241;43m.\u001b[39;49m\u001b[43mmodel_dump\u001b[49m\u001b[43m(\u001b[49m\u001b[43m)\u001b[49m\n",
      "File \u001b[0;32m/official/official_docs/PythonLearning/GenerativeAIWithLangchainByKrish/projects/env/lib/python3.11/site-packages/groq/_streaming.py:46\u001b[0m, in \u001b[0;36mStream.__iter__\u001b[0;34m(self)\u001b[0m\n\u001b[1;32m     45\u001b[0m \u001b[38;5;28;01mdef\u001b[39;00m \u001b[38;5;21m__iter__\u001b[39m(\u001b[38;5;28mself\u001b[39m) \u001b[38;5;241m-\u001b[39m\u001b[38;5;241m>\u001b[39m Iterator[_T]:\n\u001b[0;32m---> 46\u001b[0m \u001b[43m    \u001b[49m\u001b[38;5;28;43;01mfor\u001b[39;49;00m\u001b[43m \u001b[49m\u001b[43mitem\u001b[49m\u001b[43m \u001b[49m\u001b[38;5;129;43;01min\u001b[39;49;00m\u001b[43m \u001b[49m\u001b[38;5;28;43mself\u001b[39;49m\u001b[38;5;241;43m.\u001b[39;49m\u001b[43m_iterator\u001b[49m\u001b[43m:\u001b[49m\n\u001b[1;32m     47\u001b[0m \u001b[43m        \u001b[49m\u001b[38;5;28;43;01myield\u001b[39;49;00m\u001b[43m \u001b[49m\u001b[43mitem\u001b[49m\n",
      "File \u001b[0;32m/official/official_docs/PythonLearning/GenerativeAIWithLangchainByKrish/projects/env/lib/python3.11/site-packages/groq/_streaming.py:91\u001b[0m, in \u001b[0;36mStream.__stream__\u001b[0;34m(self)\u001b[0m\n\u001b[1;32m     88\u001b[0m             \u001b[38;5;28;01mif\u001b[39;00m \u001b[38;5;129;01mnot\u001b[39;00m message \u001b[38;5;129;01mor\u001b[39;00m \u001b[38;5;129;01mnot\u001b[39;00m \u001b[38;5;28misinstance\u001b[39m(message, \u001b[38;5;28mstr\u001b[39m):\n\u001b[1;32m     89\u001b[0m                 message \u001b[38;5;241m=\u001b[39m \u001b[38;5;124m\"\u001b[39m\u001b[38;5;124mAn error occurred during streaming\u001b[39m\u001b[38;5;124m\"\u001b[39m\n\u001b[0;32m---> 91\u001b[0m             \u001b[38;5;28;01mraise\u001b[39;00m APIError(\n\u001b[1;32m     92\u001b[0m                 message\u001b[38;5;241m=\u001b[39mmessage,\n\u001b[1;32m     93\u001b[0m                 request\u001b[38;5;241m=\u001b[39m\u001b[38;5;28mself\u001b[39m\u001b[38;5;241m.\u001b[39mresponse\u001b[38;5;241m.\u001b[39mrequest,\n\u001b[1;32m     94\u001b[0m                 body\u001b[38;5;241m=\u001b[39mdata[\u001b[38;5;124m\"\u001b[39m\u001b[38;5;124merror\u001b[39m\u001b[38;5;124m\"\u001b[39m],\n\u001b[1;32m     95\u001b[0m             )\n\u001b[1;32m     97\u001b[0m         \u001b[38;5;28;01myield\u001b[39;00m process_data(data\u001b[38;5;241m=\u001b[39m{\u001b[38;5;124m\"\u001b[39m\u001b[38;5;124mdata\u001b[39m\u001b[38;5;124m\"\u001b[39m: data, \u001b[38;5;124m\"\u001b[39m\u001b[38;5;124mevent\u001b[39m\u001b[38;5;124m\"\u001b[39m: sse\u001b[38;5;241m.\u001b[39mevent}, cast_to\u001b[38;5;241m=\u001b[39mcast_to, response\u001b[38;5;241m=\u001b[39mresponse)\n\u001b[1;32m     99\u001b[0m \u001b[38;5;66;03m# Ensure the entire stream is consumed\u001b[39;00m\n",
      "\u001b[0;31mAPIError\u001b[0m: Failed to call a function. Please adjust your prompt. See 'failed_generation' for more details."
     ]
    }
   ],
   "source": [
    "agent_executor.invoke({\"input\":\"Find the sum of numbers of nifty and sensex down by. Article of the hindu business line at https://www.thehindubusinessline.com/markets/stock-market-live-updates-february-18-2025/article69229908.ece\"})"
   ]
  },
  {
   "cell_type": "code",
   "execution_count": null,
   "metadata": {},
   "outputs": [],
   "source": []
  },
  {
   "cell_type": "code",
   "execution_count": 26,
   "metadata": {},
   "outputs": [
    {
     "name": "stdout",
     "output_type": "stream",
     "text": [
      "\n",
      "\n",
      "\u001b[1m> Entering new AgentExecutor chain...\u001b[0m\n",
      "\u001b[32;1m\u001b[1;3mI can perform the following tasks:\n",
      "\n",
      "1. Add two numbers: I can use the 'add_numbers' function to return the sum of two numbers.\n",
      "2. Get the length of a word: I can use the 'get_word_length' function to return the length of a given text.\n",
      "3. Crawl an article from The Hindu Business Line website: I can use the 'thehindubusinessline_article_crawl' function to crawl an article from the specified website and return the article content.\n",
      "\n",
      "These are the tasks that I can perform using the given functions. If you need help with any of these tasks, feel free to ask!\u001b[0m\n",
      "\n",
      "\u001b[1m> Finished chain.\u001b[0m\n"
     ]
    },
    {
     "data": {
      "text/plain": [
       "{'input': 'Which tasks you can perform',\n",
       " 'output': \"I can perform the following tasks:\\n\\n1. Add two numbers: I can use the 'add_numbers' function to return the sum of two numbers.\\n2. Get the length of a word: I can use the 'get_word_length' function to return the length of a given text.\\n3. Crawl an article from The Hindu Business Line website: I can use the 'thehindubusinessline_article_crawl' function to crawl an article from the specified website and return the article content.\\n\\nThese are the tasks that I can perform using the given functions. If you need help with any of these tasks, feel free to ask!\"}"
      ]
     },
     "execution_count": 26,
     "metadata": {},
     "output_type": "execute_result"
    }
   ],
   "source": [
    "agent_executor.invoke({\"input\":\"Which tasks you can perform\"})"
   ]
  },
  {
   "cell_type": "markdown",
   "metadata": {},
   "source": [
    "## Advanced Agents(Tools calling Agents)"
   ]
  },
  {
   "cell_type": "markdown",
   "metadata": {},
   "source": [
    "### Creating tools\n",
    "LangChain allows you to define custom tools that your agents can interact with. You can create tools for searching news or executing Python code.\n",
    "\n",
    "The @tool decorator is used to create tools:\n",
    "\n",
    "- TavilySearchResults is a tool for searching news.\n",
    "- PythonREPL is a tool for executing Python code."
   ]
  },
  {
   "cell_type": "code",
   "execution_count": 106,
   "metadata": {},
   "outputs": [
    {
     "data": {
      "text/plain": [
       "True"
      ]
     },
     "execution_count": 106,
     "metadata": {},
     "output_type": "execute_result"
    }
   ],
   "source": [
    "from langchain.tools import tool\n",
    "from typing import Annotated,List, Dict\n",
    "from langchain_community.tools.tavily_search import TavilySearchResults\n",
    "from langchain_experimental.utilities import PythonREPL\n",
    "import os\n",
    "from dotenv import load_dotenv\n",
    "load_dotenv()"
   ]
  },
  {
   "cell_type": "code",
   "execution_count": 107,
   "metadata": {},
   "outputs": [
    {
     "name": "stdout",
     "output_type": "stream",
     "text": [
      "Tool name: search_news\n",
      "Tool description: Search news using Travily Search API\n",
      "Tool name: python_repl_tool\n",
      "Tool description: Use this tool to execute Python code. If you want to see the output of a value,\n",
      "    you should print it using print(...). This output is visible to the user.\n"
     ]
    }
   ],
   "source": [
    "# create tool for searching news\n",
    "@tool\n",
    "def search_news(query:str)-> List[Dict[str, str]]:\n",
    "    \"\"\" Search news using Travily Search API \"\"\"\n",
    "    news_tool = TavilySearchResults(\n",
    "        max_results=3,\n",
    "        include_answer=True,\n",
    "        include_raw_content=True,\n",
    "        include_images=True,\n",
    "        # search_depth=\"advanced\",\n",
    "        # include_domains = [],\n",
    "        # exclude_domains = [],\n",
    "    )\n",
    "    return news_tool.invoke(query, k=3)\n",
    "# creating tool for executing python code\n",
    "\n",
    "@tool\n",
    "def python_repl_tool(code:Annotated[str,\"Python code to execute to generate your chart\"]):\n",
    "    \"\"\"Use this tool to execute Python code. If you want to see the output of a value,\n",
    "    you should print it using print(...). This output is visible to the user.\"\"\"\n",
    "    result = \"\"\n",
    "    try:\n",
    "        result = PythonREPL().run(code)\n",
    "    except BaseException as e:\n",
    "        print(f\"Failed to execute. Error: {repr(e)}\")\n",
    "    finally:\n",
    "        return result\n",
    "tools = [search_news, python_repl_tool]\n",
    "print(f\"Tool name: {search_news.name}\")\n",
    "print(f\"Tool description: {search_news.description}\")\n",
    "print(f\"Tool name: {python_repl_tool.name}\")\n",
    "print(f\"Tool description: {python_repl_tool.description}\")"
   ]
  },
  {
   "cell_type": "code",
   "execution_count": 29,
   "metadata": {},
   "outputs": [
    {
     "data": {
      "text/plain": [
       "[{'url': 'https://techstartups.com/2025/01/01/top-15-ai-trends-for-2025-expert-predictions-you-need-to-know/',\n",
       "  'content': 'Top 15 AI Trends for 2025: Expert Predictions You Need to Know - Tech Startups Deepseek, a\\xa0free open-source AI model developed by a Chinese tech startup, exemplifies a growing trend in open-source AI, where accessible tools are pushing the boundaries of performance and affordability. This competition is as much about technological dominance as it is about shaping global AI policies and addressing challenges like cybersecurity, data privacy, and ethics. Workplace Productivity: AI-powered tools like scheduling assistants, email managers, and task prioritization systems will free professionals from mundane tasks. By 2025, self-learning systems will likely play a significant role in automating the development of more sophisticated AI models, reducing the need for human intervention in fine-tuning and training. AI in Cybersecurity'},\n",
       " {'url': 'https://builtin.com/articles/ai-predictions',\n",
       "  'content': 'What Can We Expect From AI in 2025? What Can We Expect From AI in 2025? AI companies must answer these concerns to earn and keep public trust in the benefits of this technology. Although we see strong market signals indicating that the generative AI bubble will most likely burst in 2025, many positive developments in this technological area are also on the way. With more experts in diverse fields being able to create ML tools tailored to their needs, AI and ML adoption in business can accelerate and we might finally see a growing ROI from adopting such solutions.'},\n",
       " {'url': 'https://northwest.education/insights/artificial-intelligence/artificial-intelligence-trends-you-master/',\n",
       "  'content': 'Investing in structured programs ensures that your team is well-prepared to use, manage, and optimize AI-driven solutions to best capitalize on artificial intelligence trends 2025. AI and ML: Leading Business Growth program by MIT Professional Education This comprehensive 21-week live virtual program, led by MIT faculty, offers hands-on learning opportunities to equip leaders with the skills to harness AI and ML for business growth. AI and ML: Leading Business Growth by MIT Professional Education and MIT Professional Education Technology Leadership Program (TLP) programs offer valuable insights and tools to help you lead with confidence and leverage AI to drive growth effectively. Learn how a general management program can help you gain strategic skills, drive business growth, and accelerate your executive success.'}]"
      ]
     },
     "execution_count": 29,
     "metadata": {},
     "output_type": "execute_result"
    }
   ],
   "source": [
    "search_news.invoke(\"Artificial Intellegence in 2025\")"
   ]
  },
  {
   "cell_type": "code",
   "execution_count": 108,
   "metadata": {},
   "outputs": [],
   "source": [
    "# Creating tools\n",
    "tools = [search_news, python_repl_tool]"
   ]
  },
  {
   "cell_type": "markdown",
   "metadata": {},
   "source": [
    "## Agent prompt\n",
    "- chat_history: This variable stores the conversation history if your agent supports multi-turn. (Otherwise, you can omit this.)\n",
    "- agent_scratchpad: This variable serves as temporary storage for intermediate variables.\n",
    "- input: This variable represents the user's input.\n"
   ]
  },
  {
   "cell_type": "code",
   "execution_count": 109,
   "metadata": {},
   "outputs": [],
   "source": [
    "from langchain_core.prompts import ChatPromptTemplate\n",
    "\n",
    "prompt = ChatPromptTemplate.from_messages(\n",
    "    [\n",
    "        (\n",
    "            \"system\",\n",
    "            \"You are a helpful assistant. \"\n",
    "            \"Make sure to use the `search_news` tool for searching keyword related news.\",\n",
    "        ),\n",
    "        (\"placeholder\", \"{chat_history}\"),\n",
    "        (\"human\", \"{input}\"),\n",
    "        (\"placeholder\", \"{agent_scratchpad}\"),\n",
    "    ]\n",
    ")"
   ]
  },
  {
   "cell_type": "code",
   "execution_count": 110,
   "metadata": {},
   "outputs": [],
   "source": [
    "# creating agents\n",
    "from langchain.agents import create_tool_calling_agent,AgentExecutor\n",
    "from langchain_groq import ChatGroq\n",
    "\n",
    "llm = ChatGroq(model=\"llama-3.3-70b-versatile\",temperature=0)\n",
    "\n",
    "agent = create_tool_calling_agent(llm,tools,prompt)\n",
    "\n",
    "\n"
   ]
  },
  {
   "cell_type": "markdown",
   "metadata": {},
   "source": [
    "## AgentExecutor\n",
    "The AgentExecutor is a class for managing an agent that uses tools.\n",
    "\n",
    "### Key properties\n",
    "\n",
    "- agent: the underlying agent responsible for creating plans and determining actions at each step of the execution loop.\n",
    "- tools: a list containing all the valid tools that the agent is authorized to use.\n",
    "- return_intermediate_steps: boolean flag determins whether to return the intermediate steps the agent took along with the final output.\n",
    "- max_iterations: a maximum number of steps the agent can take before the execution loop is terminated.\n",
    "- max_execution_time: the maximum amount of time the execution loop is allowed to run.\n",
    "- early_stopping_method: a defined method how to handle situations when the agent does not return an AgentFinish. (\"force\" or \"generate\")\n",
    "\"force\" : returns a string indicating that the execution loop was stopped due to reaching the time or iteration limit.\n",
    "\"generate\" : calls the agent's LLM chain once to generate a final answer based on the previous steps taken.\n",
    "- handle_parsing_errors : a specification how to handle parsing errors. (You can set True, False, or provide a custom error handling function.)\n",
    "- trim_intermediate_steps : method of trimming intermediate steps. (You can set -1 to keep all steps, or provide a custom trimming function.)\n",
    "### Key methods\n",
    "\n",
    "- invoke : Executes the agent.\n",
    "- stream : Stream the steps required to reach the final output.\n",
    "### Key features\n",
    "\n",
    "- Tool validation : Ensure that the tool is compatible with the agent.\n",
    "- Execution control : Set maximum interations and execution time limits to manage agent bahavior.\n",
    "- Error handling : Offers various processing options for output parsing errors.\n",
    "- Intermediate step management : Allows for trimming intermediate steps or returning options for debugging.\n",
    "- Asynchronous support : Supports asynchronous execution and streaming of results.\n",
    "### Optimization tips\n",
    "\n",
    "- Set appropriate values for max_iterations and max_execution_time to manage execution time.\n",
    "- Use trim_intermediate_steps to optimize memory usage.\n",
    "- For complex tasks, use the stream method to monitor step-by-step results."
   ]
  },
  {
   "cell_type": "code",
   "execution_count": 111,
   "metadata": {},
   "outputs": [
    {
     "name": "stdout",
     "output_type": "stream",
     "text": [
      "\n",
      "\n",
      "\u001b[1m> Entering new AgentExecutor chain...\u001b[0m\n",
      "\u001b[32;1m\u001b[1;3m\n",
      "Invoking: `search_news` with `{'query': 'Artificial Intelligence 2025'}`\n",
      "\n",
      "\n",
      "\u001b[0m\u001b[36;1m\u001b[1;3m[{'url': 'https://www.forbes.com/sites/craigsmith/2025/01/07/entering-the-artificial-general-intelligence-spectrum-in-2025/', 'content': 'In September 2024, Altman published The Intelligence Age, a manifesto arguing that AGI isn’t just a tool, it’s a new phase in human history. Since then, OpenAI has released increasingly powerful reasoning models – AI systems that not only answer questions from a base of knowledge encompassing much of the world’s written text but can think and solve complex problems. ARC-AGI is considered one of the toughest AI benchmarks because it tests conceptual reasoning and adaptive intelligence, areas traditionally dominated by humans. Its public definition remains “a highly autonomous system that outperforms humans at most economically valuable work.” But that endpoint has grown so blurry, Microsoft and OpenAI are reportedly linking AGI to the ability of an AI system to generate $100 billion in profits.'}, {'url': 'https://www.forbes.com/sites/bernardmarr/2024/09/24/the-10-biggest-ai-trends-of-2025-everyone-must-be-ready-for-today/', 'content': 'Rather than simply adding chatbots to everything, this will be the way smart businesses begin to generate real value from AI in the coming year. AI voice assistants (think Siri or Alexa) have been a part of our lives for many years now, but their conversational capabilities have traditionally been quite limited. Most AI tools we see in use today work on the basis that they carry out simple tasks, such as generating text or interpreting data in order to make predictions. Enabling algorithms to work at speeds hundreds of millions of times faster than is possible using standard computers won’t just make AI faster.'}, {'url': 'https://www.forbes.com/sites/robtoews/2024/12/22/10-ai-predictions-for-2025/', 'content': 'First introduced in a 2020 OpenAI paper, the basic concept behind scaling laws is straightforward: as the number of model parameters, the amount of training data, and the amount of compute increase when training an AI model, the model’s performance improves (technically, its test loss decreases) in a reliable and predictable way. That is, rather than massively scaling compute during training, new reasoning models like OpenAI’s o3 make it possible to massively scale compute during inference, unlocking new AI capabilities by enabling models to “think for longer.” It will make one thing clear: well before humanity faces an existential threat from all-powerful AI, we will need to come to terms with the more mundane reality that we now share our world with another form of intelligence that may at times be willful, unpredictable and deceptive—just like us.'}]\u001b[0m\u001b[32;1m\u001b[1;3mAccording to Forbes, in 2025, Artificial Intelligence (AI) is expected to continue advancing and becoming more integrated into our lives. Some of the trends and developments that are predicted to shape the AI landscape in 2025 include:\n",
      "\n",
      "1. The emergence of Artificial General Intelligence (AGI), which is considered a new phase in human history.\n",
      "2. The development of more powerful reasoning models that can think and solve complex problems.\n",
      "3. The increasing use of AI in various industries, such as healthcare, finance, and education.\n",
      "4. The growth of AI-powered voice assistants and their ability to generate real value for businesses.\n",
      "5. The advancement of scaling laws, which enable AI models to improve their performance in a reliable and predictable way.\n",
      "6. The development of new AI capabilities, such as the ability to \"think for longer\" and unlock new possibilities.\n",
      "\n",
      "Overall, 2025 is expected to be a significant year for AI, with many exciting developments and advancements on the horizon.\u001b[0m\n",
      "\n",
      "\u001b[1m> Finished chain.\u001b[0m\n",
      "Agent execution result:\n",
      "According to Forbes, in 2025, Artificial Intelligence (AI) is expected to continue advancing and becoming more integrated into our lives. Some of the trends and developments that are predicted to shape the AI landscape in 2025 include:\n",
      "\n",
      "1. The emergence of Artificial General Intelligence (AGI), which is considered a new phase in human history.\n",
      "2. The development of more powerful reasoning models that can think and solve complex problems.\n",
      "3. The increasing use of AI in various industries, such as healthcare, finance, and education.\n",
      "4. The growth of AI-powered voice assistants and their ability to generate real value for businesses.\n",
      "5. The advancement of scaling laws, which enable AI models to improve their performance in a reliable and predictable way.\n",
      "6. The development of new AI capabilities, such as the ability to \"think for longer\" and unlock new possibilities.\n",
      "\n",
      "Overall, 2025 is expected to be a significant year for AI, with many exciting developments and advancements on the horizon.\n"
     ]
    }
   ],
   "source": [
    "from langchain.agents import AgentExecutor\n",
    "agent_executor = AgentExecutor(\n",
    "    agent=agent,\n",
    "    tools= tools,\n",
    "    early_stopping_method=\"generate\",\n",
    "    max_iterations=10,\n",
    "    max_execution_time=10,\n",
    "    handle_parsing_errors=True,\n",
    "    verbose=True,\n",
    "    \n",
    ")\n",
    "# Run AgentExecutor\n",
    "result = agent_executor.invoke({\"input\": \"Search news about Artificial Intellegence in 2025.\"})\n",
    "\n",
    "print(\"Agent execution result:\")\n",
    "print(result[\"output\"])"
   ]
  },
  {
   "cell_type": "markdown",
   "metadata": {},
   "source": [
    "## Checking step-by-step results using Stream output"
   ]
  },
  {
   "cell_type": "markdown",
   "metadata": {},
   "source": [
    "Output\t- Description\\\n",
    "Action\tactions: Represents the AgentAction or its subclass.\\\n",
    "messages: Chat messages corresponding to the action call.\\\n",
    "Observation\tsteps: A record of the agent's work, including the current action and its observation.\\\n",
    "messages: Chat messages containing the results from function calls (i.e., observations).\\\n",
    "Final Answer\toutput: Represents AgentFinish signal.\\\n",
    "messages: Chat messages containing the final output."
   ]
  },
  {
   "cell_type": "code",
   "execution_count": 112,
   "metadata": {},
   "outputs": [],
   "source": [
    "# create agent executor\n",
    "agent_executor = AgentExecutor(\n",
    "    agent=agent,\n",
    "    tools=tools,\n",
    "    verbose=False,\n",
    "    handle_parsing_errors=True\n",
    "    )\n"
   ]
  },
  {
   "cell_type": "code",
   "execution_count": 36,
   "metadata": {},
   "outputs": [
    {
     "name": "stdout",
     "output_type": "stream",
     "text": [
      "{'actions': [ToolAgentAction(tool='search_news', tool_input={'query': 'AI Agent 2025 news'}, log=\"\\nInvoking: `search_news` with `{'query': 'AI Agent 2025 news'}`\\n\\n\\n\", message_log=[AIMessageChunk(content='', additional_kwargs={'tool_calls': [{'index': 0, 'id': 'call_dr76', 'function': {'arguments': '{\"query\": \"AI Agent 2025 news\"}', 'name': 'search_news'}, 'type': 'function'}]}, response_metadata={'finish_reason': 'tool_calls'}, id='run-a0281301-8c33-495f-b968-b9a5994b15f4', tool_calls=[{'name': 'search_news', 'args': {'query': 'AI Agent 2025 news'}, 'id': 'call_dr76', 'type': 'tool_call'}], usage_metadata={'input_tokens': 371, 'output_tokens': 19, 'total_tokens': 390}, tool_call_chunks=[{'name': 'search_news', 'args': '{\"query\": \"AI Agent 2025 news\"}', 'id': 'call_dr76', 'index': 0, 'type': 'tool_call_chunk'}])], tool_call_id='call_dr76')], 'messages': [AIMessageChunk(content='', additional_kwargs={'tool_calls': [{'index': 0, 'id': 'call_dr76', 'function': {'arguments': '{\"query\": \"AI Agent 2025 news\"}', 'name': 'search_news'}, 'type': 'function'}]}, response_metadata={'finish_reason': 'tool_calls'}, id='run-a0281301-8c33-495f-b968-b9a5994b15f4', tool_calls=[{'name': 'search_news', 'args': {'query': 'AI Agent 2025 news'}, 'id': 'call_dr76', 'type': 'tool_call'}], usage_metadata={'input_tokens': 371, 'output_tokens': 19, 'total_tokens': 390}, tool_call_chunks=[{'name': 'search_news', 'args': '{\"query\": \"AI Agent 2025 news\"}', 'id': 'call_dr76', 'index': 0, 'type': 'tool_call_chunk'}])]}\n",
      "++++++++++++++++++++++++++++++++++++++++++++++++++++++++++++++++++++++++++++++++++++++++++++++++++++++++++++++++++++++++++++++++++++++++++++++++++++++++++++++++++++++++++++++++++++++++++++++++++++++++++++++++++++++++++++++++++++++++++++++++++++++++++++++++++++++++++++++++++++++++++++++++++++++++++++++++++++++++++++++++++++++++++++++++++++++++++++++++++++++++++++++++++++++++++++++++++++++++++++++++\n",
      "{'steps': [AgentStep(action=ToolAgentAction(tool='search_news', tool_input={'query': 'AI Agent 2025 news'}, log=\"\\nInvoking: `search_news` with `{'query': 'AI Agent 2025 news'}`\\n\\n\\n\", message_log=[AIMessageChunk(content='', additional_kwargs={'tool_calls': [{'index': 0, 'id': 'call_dr76', 'function': {'arguments': '{\"query\": \"AI Agent 2025 news\"}', 'name': 'search_news'}, 'type': 'function'}]}, response_metadata={'finish_reason': 'tool_calls'}, id='run-a0281301-8c33-495f-b968-b9a5994b15f4', tool_calls=[{'name': 'search_news', 'args': {'query': 'AI Agent 2025 news'}, 'id': 'call_dr76', 'type': 'tool_call'}], usage_metadata={'input_tokens': 371, 'output_tokens': 19, 'total_tokens': 390}, tool_call_chunks=[{'name': 'search_news', 'args': '{\"query\": \"AI Agent 2025 news\"}', 'id': 'call_dr76', 'index': 0, 'type': 'tool_call_chunk'}])], tool_call_id='call_dr76'), observation=[{'url': 'https://hai.stanford.edu/news/predictions-ai-2025-collaborative-agents-ai-skepticism-and-new-risks', 'content': 'According to leading experts from Stanford Institute for Human-Centered AI, one major trend is the rise of collaborative AI systems where multiple specialized agents work together, with humans providing high-level guidance. I expect to see more focus on multimodal AI models in education, including in processing speech and images. AI Agents Work Together In 2025, we will see a significant shift from relying on individual AI models to using systems where multiple AI agents of diverse expertise work together. As an example, we recently introduced the\\xa0Virtual Lab, where a professor AI agent leads a team of AI scientist agents (e.g., AI chemist, AI biologist) to tackle challenging, open-ended research, with a human researcher providing high-level feedback. We will experience an emerging paradigm of research around how humans work together with AI agents.'}, {'url': 'https://medium.com/@sahin.samia/current-trends-in-ai-agents-use-cases-and-the-future-ahead-1026c4d753fd', 'content': 'Transform Industries: AI agents will revolutionize various sectors, including healthcare, finance, and manufacturing, by automating tasks and improving efficiency. 5. Exploring AI Agents: Types, Capabilities, and Real-World Applications, accessed January 11, 2025, https://www.automationanywhere.com/company/blog/automation-ai/exploring-ai-agents-types-capabilities-and-real-world-applications 6 Types of AI Agents: Exploring the Future of Intelligent Machines — Simform, accessed January 11, 2025, https://www.simform.com/blog/types-of-ai-agents/ What are AI Agents: Types, Benefits, Applications, and Examples — Signity Solutions, accessed January 11, 2025, https://www.signitysolutions.com/blog/ai-agents 36 Real-World Examples of AI Agents — Botpress, accessed January 11, 2025, https://botpress.com/blog/real-world-applications-of-ai-agents — RTInsights, accessed January 11, 2025, https://www.rtinsights.com/what-are-ai-agents-and-how-are-they-used-in-different-industries/ — The World Economic Forum, accessed January 11, 2025, https://www.weforum.org/stories/2024/12/ai-agents-risks-artificial-intelligence/ www.forbes.com, accessed January 11, 2025, https://www.forbes.com/councils/forbestechcouncil/2025/01/02/ai-agents-the-next-frontier-in-intelligent-automation/#:~:text=My%20View%20On%20The%20Future%20Of%20AI%20Agents&text=They%20will%20progress%20to%20the,levels%20of%20efficiency%20and%20innovation. AI agents can empower human potential while mitigating risks | World Economic Forum, accessed January 11, 2025, https://www.weforum.org/stories/2024/12/ai-agents-empower-human-potential-while-mitigating-risks/'}, {'url': 'https://www.techtarget.com/searchEnterpriseAI/feature/Next-year-will-be-the-year-of-AI-agents', 'content': 'Next year will be the year of AI agents | TechTarget This will make the AI agent more accurate in completing its task, Greene said. Other than the rise of single-task AI agents, 2025 may also be the year of building the infrastructure for AI agents, said Olivier Blanchard, an analyst with Futurum Group. \"2025 isn\\'t going to be the year when we see a fully developed agentic AI,\" he said. AI agents need an orchestration layer that works across different platforms and devices, Blanchard said. Because data is usually spread across different sources and processes, it might be challenging to give AI agents the data they need to perform the tasks they\\'re being asked to do, Greene said.'}])], 'messages': [FunctionMessage(content='[{\"url\": \"https://hai.stanford.edu/news/predictions-ai-2025-collaborative-agents-ai-skepticism-and-new-risks\", \"content\": \"According to leading experts from Stanford Institute for Human-Centered AI, one major trend is the rise of collaborative AI systems where multiple specialized agents work together, with humans providing high-level guidance. I expect to see more focus on multimodal AI models in education, including in processing speech and images. AI Agents Work Together In 2025, we will see a significant shift from relying on individual AI models to using systems where multiple AI agents of diverse expertise work together. As an example, we recently introduced the\\xa0Virtual Lab, where a professor AI agent leads a team of AI scientist agents (e.g., AI chemist, AI biologist) to tackle challenging, open-ended research, with a human researcher providing high-level feedback. We will experience an emerging paradigm of research around how humans work together with AI agents.\"}, {\"url\": \"https://medium.com/@sahin.samia/current-trends-in-ai-agents-use-cases-and-the-future-ahead-1026c4d753fd\", \"content\": \"Transform Industries: AI agents will revolutionize various sectors, including healthcare, finance, and manufacturing, by automating tasks and improving efficiency. 5. Exploring AI Agents: Types, Capabilities, and Real-World Applications, accessed January 11, 2025, https://www.automationanywhere.com/company/blog/automation-ai/exploring-ai-agents-types-capabilities-and-real-world-applications 6 Types of AI Agents: Exploring the Future of Intelligent Machines — Simform, accessed January 11, 2025, https://www.simform.com/blog/types-of-ai-agents/ What are AI Agents: Types, Benefits, Applications, and Examples — Signity Solutions, accessed January 11, 2025, https://www.signitysolutions.com/blog/ai-agents 36 Real-World Examples of AI Agents — Botpress, accessed January 11, 2025, https://botpress.com/blog/real-world-applications-of-ai-agents — RTInsights, accessed January 11, 2025, https://www.rtinsights.com/what-are-ai-agents-and-how-are-they-used-in-different-industries/ — The World Economic Forum, accessed January 11, 2025, https://www.weforum.org/stories/2024/12/ai-agents-risks-artificial-intelligence/ www.forbes.com, accessed January 11, 2025, https://www.forbes.com/councils/forbestechcouncil/2025/01/02/ai-agents-the-next-frontier-in-intelligent-automation/#:~:text=My%20View%20On%20The%20Future%20Of%20AI%20Agents&text=They%20will%20progress%20to%20the,levels%20of%20efficiency%20and%20innovation. AI agents can empower human potential while mitigating risks | World Economic Forum, accessed January 11, 2025, https://www.weforum.org/stories/2024/12/ai-agents-empower-human-potential-while-mitigating-risks/\"}, {\"url\": \"https://www.techtarget.com/searchEnterpriseAI/feature/Next-year-will-be-the-year-of-AI-agents\", \"content\": \"Next year will be the year of AI agents | TechTarget This will make the AI agent more accurate in completing its task, Greene said. Other than the rise of single-task AI agents, 2025 may also be the year of building the infrastructure for AI agents, said Olivier Blanchard, an analyst with Futurum Group. \\\\\"2025 isn\\'t going to be the year when we see a fully developed agentic AI,\\\\\" he said. AI agents need an orchestration layer that works across different platforms and devices, Blanchard said. Because data is usually spread across different sources and processes, it might be challenging to give AI agents the data they need to perform the tasks they\\'re being asked to do, Greene said.\"}]', additional_kwargs={}, response_metadata={}, name='search_news')]}\n",
      "++++++++++++++++++++++++++++++++++++++++++++++++++++++++++++++++++++++++++++++++++++++++++++++++++++++++++++++++++++++++++++++++++++++++++++++++++++++++++++++++++++++++++++++++++++++++++++++++++++++++++++++++++++++++++++++++++++++++++++++++++++++++++++++++++++++++++++++++++++++++++++++++++++++++++++++++++++++++++++++++++++++++++++++++++++++++++++++++++++++++++++++++++++++++++++++++++++++++++++++++\n",
      "{'output': 'According to leading experts from Stanford Institute for Human-Centered AI, one major trend is the rise of collaborative AI systems where multiple specialized agents work together, with humans providing high-level guidance. In 2025, we will see a significant shift from relying on individual AI models to using systems where multiple AI agents of diverse expertise work together. AI agents will revolutionize various sectors, including healthcare, finance, and manufacturing, by automating tasks and improving efficiency. They will progress to the next level of intelligent automation, where they can learn from humans, adapt to new situations, and make decisions autonomously, leading to higher levels of efficiency and innovation.', 'messages': [AIMessage(content='According to leading experts from Stanford Institute for Human-Centered AI, one major trend is the rise of collaborative AI systems where multiple specialized agents work together, with humans providing high-level guidance. In 2025, we will see a significant shift from relying on individual AI models to using systems where multiple AI agents of diverse expertise work together. AI agents will revolutionize various sectors, including healthcare, finance, and manufacturing, by automating tasks and improving efficiency. They will progress to the next level of intelligent automation, where they can learn from humans, adapt to new situations, and make decisions autonomously, leading to higher levels of efficiency and innovation.', additional_kwargs={}, response_metadata={})]}\n",
      "++++++++++++++++++++++++++++++++++++++++++++++++++++++++++++++++++++++++++++++++++++++++++++++++++++++++++++++++++++++++++++++++++++++++++++++++++++++++++++++++++++++++++++++++++++++++++++++++++++++++++++++++++++++++++++++++++++++++++++++++++++++++++++++++++++++++++++++++++++++++++++++++++++++++++++++++++++++++++++++++++++++++++++++++++++++++++++++++++++++++++++++++++++++++++++++++++++++++++++++++\n"
     ]
    }
   ],
   "source": [
    "result = agent_executor.stream({\"input\": \"Search news about AI Agent in 2025.\"})\n",
    "\n",
    "for step in result :\n",
    "    print(step)\n",
    "    print(\"++++++++++++++++++++\"*20)"
   ]
  },
  {
   "cell_type": "markdown",
   "metadata": {},
   "source": [
    "## Customizing intermediate step output using user-defined functions\n"
   ]
  },
  {
   "cell_type": "markdown",
   "metadata": {},
   "source": [
    "- tool_callback: This function handles the output generated by tool calls.\n",
    "- observation_callback: This function deals with the observation data output.\n",
    "- result_callback: This function allows you to handle the final answer output."
   ]
  },
  {
   "cell_type": "code",
   "execution_count": 113,
   "metadata": {},
   "outputs": [],
   "source": [
    "from typing import Dict, Any\n",
    "\n",
    "\n",
    "# Create AgentStreamParser class\n",
    "class AgentStreamParser:\n",
    "    def __init__(self):\n",
    "        pass\n",
    "\n",
    "    def tool_callback(self, tool: Dict[str, Any]) -> None:\n",
    "        print(\"\\n=== Tool Called ===\")\n",
    "        print(f\"Tool: {tool.get('tool')}\")\n",
    "        print(f\"Input: {tool.get('tool_input')}\")\n",
    "        print(\"==================\\n\")\n",
    "\n",
    "    def observation_callback(self, step: Dict[str, Any]) -> None:\n",
    "        print(\"\\n=== Observation ===\")\n",
    "        observation_data = step[\"steps\"][0].observation\n",
    "        print(f\"Observation: {observation_data}\")\n",
    "        print(\"===================\\n\")\n",
    "\n",
    "    def result_callback(self, result: str) -> None:\n",
    "        print(\"\\n=== Final Answer ===\")\n",
    "        print(result)\n",
    "        print(\"====================\\n\")\n",
    "\n",
    "    def process_agent_steps(self, step: Dict[str, Any]) -> None:\n",
    "        if \"actions\" in step:\n",
    "            for action in step[\"actions\"]:\n",
    "                self.tool_callback(\n",
    "                    {\"tool\": action.tool, \"tool_input\": action.tool_input}\n",
    "                )\n",
    "        elif \"output\" in step:\n",
    "            self.result_callback(step[\"output\"])\n",
    "        else:\n",
    "            self.observation_callback(step)\n",
    "\n",
    "\n",
    "# Create AgentStreamParser instance\n",
    "agent_stream_parser = AgentStreamParser()"
   ]
  },
  {
   "cell_type": "code",
   "execution_count": 114,
   "metadata": {},
   "outputs": [
    {
     "name": "stdout",
     "output_type": "stream",
     "text": [
      "\n",
      "=== Tool Called ===\n",
      "Tool: python_repl_tool\n",
      "Input: {'code': \"import matplotlib.pyplot as plt\\n\\ntotal_sales = 200\\nhousehold_items = total_sales * 0.235\\nelectronic_items = total_sales * 0.34\\nredimade_garment_sales = total_sales - household_items - electronic_items\\n\\nlabels = ['Household Items', 'Electronic Items', 'Redimade Garment Sales']\\nvalues = [household_items, electronic_items, redimade_garment_sales]\\n\\nplt.bar(labels, values)\\nplt.xlabel('Item Type')\\nplt.ylabel('Sales')\\nplt.title('Sales by Item Type')\\nplt.show()\"}\n",
      "==================\n",
      "\n"
     ]
    },
    {
     "data": {
      "image/png": "[encoded data removed]",
      "text/plain": [
       "<Figure size 640x480 with 1 Axes>"
      ]
     },
     "metadata": {},
     "output_type": "display_data"
    },
    {
     "name": "stdout",
     "output_type": "stream",
     "text": [
      "\n",
      "=== Observation ===\n",
      "Observation: \n",
      "===================\n",
      "\n",
      "\n",
      "=== Final Answer ===\n",
      "This code will generate a bar chart showing the sales of household items, electronic items, and redimade garment sales. The x-axis represents the item type, and the y-axis represents the sales. The title of the chart is 'Sales by Item Type'. \n",
      "\n",
      "Please note that you need to have matplotlib installed in your Python environment to run this code. If it's not installed, you can install it using pip: `pip install matplotlib`.\n",
      "====================\n",
      "\n"
     ]
    }
   ],
   "source": [
    "# Run in streaming mode\n",
    "result = agent_executor.stream({\"input\": \"Total sales is 200 out of which household items are 23.5% , electronic items are 34% and rest are for redimade grament sales.Generate a bar chart using matplotlib.\"})\n",
    "# result = agent_executor.stream({\"input\": \"Search news about AI Agent in 2025.\"})\n",
    "\n",
    "\n",
    "for step in result:\n",
    "    agent_stream_parser.process_agent_steps(step)"
   ]
  },
  {
   "cell_type": "markdown",
   "metadata": {},
   "source": [
    "## Communicating Agent with previous conversation history"
   ]
  },
  {
   "cell_type": "markdown",
   "metadata": {},
   "source": [
    "#### To remember past conversations, you can wrap the AgentExecutor with RunnableWithMessageHistory.\n",
    "\n",
    "#### For more details on RunnableWithMessageHistory, please refer langchain doc"
   ]
  },
  {
   "cell_type": "code",
   "execution_count": 116,
   "metadata": {},
   "outputs": [],
   "source": [
    "from typing import Dict, Any, Callable\n",
    "\n",
    "\n",
    "# 1. Define AgentCallbacks class\n",
    "class AgentCallbacks:\n",
    "    def __init__(\n",
    "        self,\n",
    "        tool_callback: Callable,\n",
    "        observation_callback: Callable,\n",
    "        result_callback: Callable,\n",
    "    ):\n",
    "        self.tool_callback = tool_callback\n",
    "        self.observation_callback = observation_callback\n",
    "        self.result_callback = result_callback\n",
    "\n",
    "\n",
    "# 2. Define AgentStreamParser class\n",
    "class AgentStreamParser:\n",
    "    def __init__(self, callbacks: AgentCallbacks):\n",
    "        self.callbacks = callbacks\n",
    "\n",
    "    def process_agent_steps(self, step: Dict[str, Any]) -> None:\n",
    "        if \"actions\" in step:\n",
    "            for action in step[\"actions\"]:\n",
    "                self.callbacks.tool_callback(\n",
    "                    {\"tool\": action.tool, \"tool_input\": action.tool_input}\n",
    "                )\n",
    "        elif \"output\" in step:\n",
    "            self.callbacks.result_callback(step[\"output\"])\n",
    "        else:\n",
    "            self.callbacks.observation_callback(step)\n",
    "\n",
    "\n",
    "# 3. Define callback functions\n",
    "def tool_callback(tool) -> None:\n",
    "    print(\"<<<<<<< Tool Called >>>>>>\")\n",
    "    print(f\"Tool: {tool.get('tool')}\")\n",
    "    print(f\"Input: {tool.get('tool_input')}\")\n",
    "    print(\"<<<<<<< Tool Called >>>>>>\")\n",
    "\n",
    "\n",
    "def observation_callback(step) -> None:\n",
    "    print(\"<<<<<<< Observation >>>>>>\")\n",
    "    observation_data = step[\"steps\"][0].observation\n",
    "    print(f\"Observation: {observation_data}\")\n",
    "    print(\"<<<<<<< Observation >>>>>>\")\n",
    "\n",
    "\n",
    "def result_callback(result: str) -> None:\n",
    "    print(\"<<<<<<< Final Answer >>>>>>\")\n",
    "    print(result)\n",
    "    print(\"<<<<<<< Final Answer >>>>>>\")\n",
    "\n",
    "\n",
    "# 4. Example usage\n",
    "# Wrap callback functions into AgentCallbacks instance\n",
    "agent_callbacks = AgentCallbacks(\n",
    "    tool_callback=tool_callback,\n",
    "    observation_callback=observation_callback,\n",
    "    result_callback=result_callback,\n",
    ")\n",
    "\n",
    "# Create AgentStreamParser instance\n",
    "agent_stream_parser = AgentStreamParser(agent_callbacks)"
   ]
  },
  {
   "cell_type": "code",
   "execution_count": 117,
   "metadata": {},
   "outputs": [],
   "source": [
    "from langchain_community.chat_message_histories import ChatMessageHistory\n",
    "from langchain_core.runnables.history import RunnableWithMessageHistory\n",
    "\n",
    "# create a dictionary to store message history\n",
    "store = {}\n",
    "\n",
    "# function to get session history by passing session_ids\n",
    "def get_session_history(session_id):\n",
    "    if not store.get(session_id):\n",
    "        store[session_id] = ChatMessageHistory()\n",
    "    return store.get(session_id)\n",
    "\n",
    "# create an agent with chat message history\n",
    "agent_with_chat_history = RunnableWithMessageHistory(\n",
    "    agent_executor,\n",
    "    get_session_history,\n",
    "    input_messages_key=\"input\",\n",
    "    history_messages_key=\"chat_history\"\n",
    ")\n",
    "\n",
    "\n"
   ]
  },
  {
   "cell_type": "code",
   "execution_count": 118,
   "metadata": {},
   "outputs": [
    {
     "name": "stdout",
     "output_type": "stream",
     "text": [
      "<<<<<<< Final Answer >>>>>>\n",
      "Hello Durgesh, it's nice to meet you. Is there something I can help you with or would you like to chat?\n",
      "<<<<<<< Final Answer >>>>>>\n"
     ]
    }
   ],
   "source": [
    "# request streaming output \n",
    "response = agent_with_chat_history.stream(\n",
    "    {\"input\":\"Hello my name is Durgesh\"},\n",
    "    config={\"configurable\": {\"session_id\": \"durgeshses1\"}},\n",
    ")\n",
    "for step in response :\n",
    "    agent_stream_parser.process_agent_steps(step)"
   ]
  },
  {
   "cell_type": "code",
   "execution_count": 88,
   "metadata": {},
   "outputs": [
    {
     "name": "stdout",
     "output_type": "stream",
     "text": [
      "<<<<<<< Final Answer >>>>>>\n",
      "Your name is Durgesh.\n",
      "<<<<<<< Final Answer >>>>>>\n"
     ]
    }
   ],
   "source": [
    "response = agent_with_chat_history.stream(\n",
    "    {\"input\":\"What is my name\"},\n",
    "    config={\"configurable\": {\"session_id\": \"durgeshses1\"}},\n",
    ")\n",
    "for step in response :\n",
    "    agent_stream_parser.process_agent_steps(step)"
   ]
  },
  {
   "cell_type": "code",
   "execution_count": 119,
   "metadata": {},
   "outputs": [
    {
     "name": "stdout",
     "output_type": "stream",
     "text": [
      "<<<<<<< Final Answer >>>>>>\n",
      "Hello Durgesh from Unicode Systems Pvt., Ltd. It's nice to have your contact information. How can I assist you today? Do you have any specific questions, need help with a problem, or would you like to discuss something related to your company?\n",
      "<<<<<<< Final Answer >>>>>>\n"
     ]
    }
   ],
   "source": [
    "response = agent_with_chat_history.stream(\n",
    "    {\"input\":\"My email address is durgesh@unicodesystems.info. The company name is Unicode Systems Pvt., Ltd\"},\n",
    "    config={\"configurable\": {\"session_id\": \"durgeshses1\"}},\n",
    ")\n",
    "for step in response :\n",
    "    agent_stream_parser.process_agent_steps(step)"
   ]
  },
  {
   "cell_type": "code",
   "execution_count": 122,
   "metadata": {},
   "outputs": [
    {
     "name": "stdout",
     "output_type": "stream",
     "text": [
      "<<<<<<< Tool Called >>>>>>\n",
      "Tool: search_news\n",
      "Input: {'query': 'latest news'}\n",
      "<<<<<<< Tool Called >>>>>>\n",
      "<<<<<<< Observation >>>>>>\n",
      "Observation: [{'url': 'https://apnews.com/', 'content': '(AP Photo/Evan Vucci)](https://dims.apnews.com/dims4/default/60660ba/2147483647/strip/true/crop/3776x2515+0+1/resize/599x399!/quality/90/?url=https%3A%2F%2Fassets.apnews.com%2F61%2F8f%2Faa758ad2a1ddd9d4f87c3808b237%2F1a05cc8f537e4b1d9ece992550ec30c5)](https://apnews.com/article/trump-biden-security-clearance-revoked-be82cd4f185f01404718fcc69e074fbf) [![Image 17: This image released by A24 shows Adrien Brody, left, and Felicity Jones in a scene from \"The Brutalist.\" (A24 via AP)](https://dims.apnews.com/dims4/default/b9c3529/2147483647/strip/true/crop/3000x2000+0+0/resize/567x378!/quality/90/?url=https%3A%2F%2Fassets.apnews.com%2F2d%2F9f%2F58f2e502e34e50808f3990ee499d%2Feada6dae654f4e479f25df4e1c955c7b)](https://apnews.com/article/where-to-watch-2025-top-movies-nominees-da4415ab55e4eb86ce5bdfafc8d76914) [![Image 67: Actress Karla Sofia Gascon interacts with fans at a red carpet event to promote the film \"Emilia Perez,\" in Mexico City, Wednesday, Jan. 15, 2025 (AP Photo/Eduardo Verdugo)](https://dims.apnews.com/dims4/default/d9aeb56/2147483647/strip/true/crop/6831x4550+0+2/resize/599x399!/quality/90/?url=https%3A%2F%2Fassets.apnews.com%2F34%2F90%2F8f50f1e56b23e234287f47c4a098%2F2bb719a07d244bff8b196cb52ae9b9dc)](https://apnews.com/article/emilia-perez-oscars-backlash-eb75830df1d413779daacc331cd2b8e6) (AP Photo/Gerald Herbert)](https://dims.apnews.com/dims4/default/05a2a27/2147483647/strip/true/crop/2572x1713+0+3/resize/599x399!/quality/90/?url=https%3A%2F%2Fassets.apnews.com%2F28%2F87%2Faa65304b0ca69a6c74295638ea9e%2F31a2f576a37941d9b200a400ca4ee193)](https://apnews.com/article/super-bowl-2025-chiefs-eagles-811d9ac7075af395805235efcf1f0b0b) (AP Photo/Charlie Riedel, File)](https://dims.apnews.com/dims4/default/25a5f4e/2147483647/strip/true/crop/4970x3311+0+1/resize/599x399!/quality/90/?url=https%3A%2F%2Fassets.apnews.com%2Fdf%2F7b%2Fb08bee6a26a2a727a536d1187978%2F842a2f653d3b46a698544898e1c36cb0)](https://apnews.com/article/climate-trump-congress-biden-clean-energy-8c12d955a8dde93347672cb5f16913e1) (AP Photo/Fernando Vergara, File)](https://dims.apnews.com/dims4/default/dfb9a02/2147483647/strip/true/crop/6421x4277+50+0/resize/599x399!/quality/90/?url=https%3A%2F%2Fassets.apnews.com%2F95%2F78%2F76065dbdd0b9f0c61e54580e7b32%2F09aba7f512d34dcaa5543d6c89750a1b)](https://apnews.com/article/trump-usaid-brazil-colombia-peru-amazon-venezuela-a0e9bb720165da269bf472b0f9cb50d4) [![Image 86: A school girl with an umbrella rides on her bicycle to school during a monsoon rain as clouds hover over the sky on the outskirts of Guwahati, India, June 20, 2024 (AP Photo/Anupam Nath, File)](https://dims.apnews.com/dims4/default/5c9fc8f/2147483647/strip/true/crop/7000x4663+0+2/resize/599x399!/quality/90/?url=https%3A%2F%2Fassets.apnews.com%2F9e%2F82%2F36e6e00041fd2845331cc83d6659%2F76df315c472942948279dff5411454cf)](https://apnews.com/article/climate-change-behavior-india-sustainability-efficiency-ec1700fb6eea9b730c63b4394b627623) (AP Photo/Kim Chandler)](https://dims.apnews.com/dims4/default/131b140/2147483647/strip/true/crop/2551x1699+0+1/resize/599x399!/quality/90/?url=https%3A%2F%2Fassets.apnews.com%2F70%2F58%2F4003e528500cc52b957697a015aa%2Fea8b660acaa244c0b8b63afc61014119)](https://apnews.com/article/transgender-rights-trump-defining-sex-1551c306c460b0c942f33b0d83178bad) (AP Photo/Alex Brandon)](https://dims.apnews.com/dims4/default/f9af174/2147483647/strip/true/crop/4463x2973+0+1/resize/599x399!/quality/90/?url=https%3A%2F%2Fassets.apnews.com%2Fdd%2F40%2Fee7bf03a9e5a674de3540c73a7ab%2Fc1072bede55a4d2db7b0c4cc1dce20b3)](https://apnews.com/article/immigration-troops-border-trump-eb2dbf0bc15397a195033583c15df943) (AP Photo/Reed Hoffmann, File)](https://dims.apnews.com/dims4/default/c2bb03a/2147483647/strip/true/crop/7167x4774+0+2/resize/599x399!/quality/90/?url=https%3A%2F%2Fassets.apnews.com%2Fa2%2Fef%2Fad84474d436df93a3a5db65c8210%2F562ed6caffae4a478e8dede4c19f5bdd)](https://apnews.com/article/chiefs-parade-super-bowl-5e3f9eb4308d14fbf63522eab234bfe8) (AP Photo/Andrew Medichini)](https://dims.apnews.com/dims4/default/e19ebde/2147483647/strip/true/crop/4142x2759+0+1/resize/599x399!/quality/90/?url=https%3A%2F%2Fassets.apnews.com%2F55%2F81%2Fa1c09e9048c2c75599170b376d09%2F68c00110bafe479aa4197bc908a76331)](https://apnews.com/article/prosecco-trump-tariffs-threat-exports-stockpile-a055c68a35f50677344445c0faaa5a5c) (AP Photo/Manuel Balce Ceneta)](https://dims.apnews.com/dims4/default/210e2a4/2147483647/strip/true/crop/4788x3189+0+1/resize/599x399!/quality/90/?url=https%3A%2F%2Fassets.apnews.com%2F53%2F04%2F2f2336329934e6a1b86830591205%2F7f9b3da86dab46a3b01c2e8dc778494b)](https://apnews.com/article/usaid-funding-trump-musk-misinformation-c544a5fa1fe788da10ec714f462883d1)'}, {'url': 'https://news.yahoo.com/', 'content': \"These St. Louis suburbs ranked as best places to live in the U.S. Five suburbs in the St. Louis region ranked within the top 50 places to live in the country, according to a new report. A chilling twist emerged Friday in the death of Adan Manzano, a 27-year-old TV reporter who traveled to cover the Super Bowl but mysteriously died in a hotel room. Notices will go out to employees losing their jobs starting at 5 a.m. local time Monday in most countries, including in the U.S., according to one of the posts, authored by Meta's Head of People Janelle Gale. More than 140,000 Toyota and Lexus vehicles are being recalled by Toyota, according to a press release from the company Thursday.\"}, {'url': 'https://www.cbsnews.com/', 'content': 'CBS News 24/7 #### Trump says U.S. will \"take over the Gaza Strip\" In a news conferrence with Israeli Prime Minister Benjamin Netanyahu, President Trump said the U.S. would \"take over the Gaza Strip\" and \"own it.\" * Feb 5 #### CBS Reports | America Unfiltered: The Voices Behind the Polls You\\'ve seen the CBS News polls that tell you what voters think about big ideas like democracy and the American Dream. Latest CBS News Videos More Latest CBS News Videos #### Latest CBS News Videos #### Blind 10-year-old on losing home to wildfires Tens of thousands of Los Angeles residents have been displaced after losing their homes to wildfires.'}]\n",
      "<<<<<<< Observation >>>>>>\n",
      "<<<<<<< Tool Called >>>>>>\n",
      "Tool: python_repl_tool\n",
      "Input: {'code': 'print(\"Dear Mr. Kuldeep, \")\\nprint(\"I hope this email finds you well. I am writing to share with you the latest news. \")\\nprint(\"According to AP News, there have been several recent developments, including the death of a TV reporter who traveled to cover the Super Bowl, a recall of over 140,000 Toyota and Lexus vehicles, and a statement from President Trump about taking over the Gaza Strip. \")\\nprint(\"Additionally, CBS News has reported on the displacement of tens of thousands of Los Angeles residents due to wildfires and the latest polls on democracy and the American Dream. \")\\nprint(\"I hope you find this information helpful. Please let me know if you have any questions or need further updates. \")\\nprint(\"Best regards, \")\\nprint(\"Durgesh \")\\nprint(\"durgesh@unicodesystems.info \")\\nprint(\"Unicode Systems Pvt., Ltd.\")'}\n",
      "<<<<<<< Tool Called >>>>>>\n",
      "<<<<<<< Observation >>>>>>\n",
      "Observation: Dear Mr. Kuldeep, \n",
      "I hope this email finds you well. I am writing to share with you the latest news. \n",
      "According to AP News, there have been several recent developments, including the death of a TV reporter who traveled to cover the Super Bowl, a recall of over 140,000 Toyota and Lexus vehicles, and a statement from President Trump about taking over the Gaza Strip. \n",
      "Additionally, CBS News has reported on the displacement of tens of thousands of Los Angeles residents due to wildfires and the latest polls on democracy and the American Dream. \n",
      "I hope you find this information helpful. Please let me know if you have any questions or need further updates. \n",
      "Best regards, \n",
      "Durgesh \n",
      "durgesh@unicodesystems.info \n",
      "Unicode Systems Pvt., Ltd.\n",
      "\n",
      "<<<<<<< Observation >>>>>>\n",
      "<<<<<<< Final Answer >>>>>>\n",
      "Dear Mr. Kuldeep, \n",
      "I hope this email finds you well. I am writing to share with you the latest news. \n",
      "According to AP News, there have been several recent developments, including the death of a TV reporter who traveled to cover the Super Bowl, a recall of over 140,000 Toyota and Lexus vehicles, and a statement from President Trump about taking over the Gaza Strip. \n",
      "Additionally, CBS News has reported on the displacement of tens of thousands of Los Angeles residents due to wildfires and the latest polls on democracy and the American Dream. \n",
      "I hope you find this information helpful. Please let me know if you have any questions or need further updates. \n",
      "Best regards, \n",
      "Durgesh \n",
      "durgesh@unicodesystems.info \n",
      "Unicode Systems Pvt., Ltd.\n",
      "<<<<<<< Final Answer >>>>>>\n"
     ]
    }
   ],
   "source": [
    "response = agent_with_chat_history.stream(\n",
    "    {\"input\": \"Search the latest news and write it as the body of the email. \"\n",
    "        \"The recipient is `Mr. Kuldeep` and the sender is my personal information.\"\n",
    "        \"Write in a polite tone, and include appropriate greetings and closings at the beginning and end of the email\"}\n",
    "    ,\n",
    "    config={\"configurable\": {\"session_id\": \"durgeshses1\"}},\n",
    ")\n",
    "for step in response :\n",
    "    # print(step)\n",
    "    agent_stream_parser.process_agent_steps(step)"
   ]
  },
  {
   "cell_type": "code",
   "execution_count": 121,
   "metadata": {},
   "outputs": [
    {
     "name": "stdout",
     "output_type": "stream",
     "text": [
      "{'output': 'Your email address is durgesh@unicodesystems.info.', 'messages': [AIMessage(content='Your email address is durgesh@unicodesystems.info.', additional_kwargs={}, response_metadata={})]}\n",
      "<<<<<<< Final Answer >>>>>>\n",
      "Your email address is durgesh@unicodesystems.info.\n",
      "<<<<<<< Final Answer >>>>>>\n"
     ]
    }
   ],
   "source": [
    "response = agent_with_chat_history.stream(\n",
    "    {\"input\": \"What is my email. \"}\n",
    "    ,\n",
    "    config={\"configurable\": {\"session_id\": \"durgeshses1\"}},\n",
    ")\n",
    "for step in response :\n",
    "    print(step)\n",
    "    agent_stream_parser.process_agent_steps(step)"
   ]
  }
 ],
 "metadata": {
  "kernelspec": {
   "display_name": "env",
   "language": "python",
   "name": "python3"
  },
  "language_info": {
   "codemirror_mode": {
    "name": "ipython",
    "version": 3
   },
   "file_extension": ".py",
   "mimetype": "text/x-python",
   "name": "python",
   "nbconvert_exporter": "python",
   "pygments_lexer": "ipython3",
   "version": "3.11.10"
  }
 },
 "nbformat": 4,
 "nbformat_minor": 2
}
