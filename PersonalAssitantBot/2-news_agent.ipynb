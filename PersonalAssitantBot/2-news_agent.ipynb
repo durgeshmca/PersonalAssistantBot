{
 "cells": [
  {
   "cell_type": "markdown",
   "metadata": {},
   "source": [
    "# News Agent"
   ]
  },
  {
   "cell_type": "code",
   "execution_count": 1,
   "metadata": {},
   "outputs": [
    {
     "data": {
      "text/plain": [
       "True"
      ]
     },
     "execution_count": 1,
     "metadata": {},
     "output_type": "execute_result"
    }
   ],
   "source": [
    "from dotenv import load_dotenv\n",
    "load_dotenv()"
   ]
  },
  {
   "cell_type": "code",
   "execution_count": 2,
   "metadata": {},
   "outputs": [],
   "source": [
    "from langchain_ollama import ChatOllama\n",
    "ollama = ChatOllama(model=\"llama3.2:1b\", temperature=0)    \n"
   ]
  },
  {
   "cell_type": "markdown",
   "metadata": {},
   "source": [
    "## Creating tools"
   ]
  },
  {
   "cell_type": "code",
   "execution_count": 3,
   "metadata": {},
   "outputs": [],
   "source": [
    "from typing import List, Dict, Optional\n",
    "from urllib.parse import quote\n",
    "import feedparser\n",
    "\n",
    "class GoogleNews:\n",
    "\n",
    "    def _fetch_news(self, url: str, k: int = 3) -> List[Dict[str, str]]:\n",
    "        news_data = feedparser.parse(url)\n",
    "        return [\n",
    "            {\"title\": entry.title, \"link\": entry.link}\n",
    "            for entry in news_data.entries[:k]\n",
    "        ]\n",
    "    \n",
    "    def _collect_news(self, news_list: List[Dict[str, str]]) -> List[Dict[str, str]]:\n",
    "        if not news_list:\n",
    "            print(\"There is no news for the keyword.\")\n",
    "            return []\n",
    "\n",
    "        result = []\n",
    "        for news in news_list:\n",
    "            result.append({\"url\": news[\"link\"], \"content\": news[\"title\"]})\n",
    "\n",
    "        return result\n",
    "\n",
    "    def search_by_keyword(\n",
    "            self, keyword: Optional[str] = None, k: int = 3\n",
    "        ) -> List[Dict[str, str]]:\n",
    "            \n",
    "            if keyword:\n",
    "                encoded_keyword = quote(keyword)\n",
    "                url = f\"https://news.google.com/rss/search?q={encoded_keyword}&hl=en&gl=US&ceid=US:en\"\n",
    "            else:\n",
    "                url = f\"https://news.google.com/rss?hl=en&gl=US&ceid=US:en\"\n",
    "\n",
    "            news_list = self._fetch_news(url, k)\n",
    "            return self._collect_news(news_list)"
   ]
  },
  {
   "cell_type": "code",
   "execution_count": 4,
   "metadata": {},
   "outputs": [
    {
     "name": "stdout",
     "output_type": "stream",
     "text": [
      "Tool Name: search_news\n",
      "Tool Description: Search Google News by input keyword\n"
     ]
    }
   ],
   "source": [
    "from langchain.tools import tool\n",
    "from typing import List, Dict\n",
    "\n",
    "@tool\n",
    "def search_news(query: str) -> List[Dict[str, str]]:\n",
    "    \"\"\"Search Google News by input keyword\"\"\"\n",
    "    news_tool = GoogleNews()\n",
    "    return news_tool.search_by_keyword(query, k=5)\n",
    "\n",
    "print(f\"Tool Name: {search_news.name}\")\n",
    "print(f\"Tool Description: {search_news.description}\")"
   ]
  },
  {
   "cell_type": "code",
   "execution_count": 5,
   "metadata": {},
   "outputs": [],
   "source": [
    "tools = [search_news]"
   ]
  },
  {
   "cell_type": "markdown",
   "metadata": {},
   "source": [
    "## Generating Prompts for Agents"
   ]
  },
  {
   "cell_type": "markdown",
   "metadata": {},
   "source": [
    "A prompt is text that describes the task the model will perform whose input is the tool name and its role.\n",
    "\n",
    "- chat_history: A variable that stores previous conversation history (can be omitted if multi-turn support is not required).\n",
    "- agent_scratchpad: A variable for temporary storage used by the agent.\n",
    "- input: The user's input."
   ]
  },
  {
   "cell_type": "code",
   "execution_count": 7,
   "metadata": {},
   "outputs": [],
   "source": [
    "from langchain.agents import create_tool_calling_agent\n",
    "from langchain_core.prompts import ChatPromptTemplate\n",
    "\n",
    "prompt = ChatPromptTemplate.from_messages(\n",
    "    [\n",
    "        (\"system\",\n",
    "         \"You are an helpfull assistant\"\n",
    "         \"Make sure to use `search_news` tool for searching the news using keywords\"),\n",
    "         (\"placeholder\",\"{chat_history}\"),\n",
    "         (\"human\",\"{input}\"),\n",
    "         (\"placeholder\",\"{agent_scratchpad}\")\n",
    "    ]\n",
    ")"
   ]
  },
  {
   "cell_type": "code",
   "execution_count": 10,
   "metadata": {},
   "outputs": [],
   "source": [
    "# create agent\n",
    "ollama_agent = create_tool_calling_agent(ollama,tools,prompt)"
   ]
  },
  {
   "cell_type": "code",
   "execution_count": 12,
   "metadata": {},
   "outputs": [
    {
     "name": "stdout",
     "output_type": "stream",
     "text": [
      "\n",
      "\n",
      "\u001b[1m> Entering new AgentExecutor chain...\u001b[0m\n",
      "\u001b[32;1m\u001b[1;3m\n",
      "Invoking: `search_news` with `{'query': 'Indian stock market news today'}`\n",
      "\n",
      "\n",
      "\u001b[0m\u001b[36;1m\u001b[1;3m[{'url': 'https://news.google.com/rss/articles/CBMi2AFBVV95cUxQdjlaNG1ycnktcHdCUm9KNGZNMzBSX3M5MTVtSlpzaFlDQmhnZE1Eam5rZkhjVExOQ2FocWhHd2dhOVAwRFZ3ek9JRGFOWHpCTmhCV3luUloxVUp2YmhOLTV5MmNrMWdOa2dWdUJISFgyWkFmMFFQb05YRDUya0x1TkFqV1M1ZzlPWUNIdnZDT3o0ZEVHRlRvczN4V2gwOTEyZEY0Mk8tQWViTzQ3UGNucHE1Sm94cHE2UF8zVExweGU0WTBhQzAtaWtiVFp2S3VoY1U1QnRTZ23SAd4BQVVfeXFMTWJfWnI0VS0zaVJCMzBOM0E5SWlyVEhzLXhONDB1amE1MEdkVnExWjlpREZVOXhiUDZPVjJBckx3MDI4cDI1QjJKVUFXVXdYQTZzbkJRV0FHS0lzUW9WOFV0R1AzUmhkRFpZLW5Pd2Qtb0FnLWdBcEJTZzhvZUUxYk9LMnFEZWh5YXlZM3lOMEJKR19fS205V0lMWC1la2tVampWUHhURENYbjZieHU5VlY5Q3dDak1KOW5obE5VM2ZiTXJiQXllNEt3enVxSEQ0MXNiT0pwOTlxdFhwVmpR?oc=5', 'content': 'Stock Market Highlights: Nifty forms green candle, buy-on-dips favored above 22,725. How to trade on Thursday - The Economic Times'}, {'url': 'https://news.google.com/rss/articles/CBMixgFBVV95cUxPeTRiWk5SMmZwbjFyUmI5Wk1kc2I1ZGlCRGpxYnJWZXJDdldjdmhVZFJVTnM1Tnd3cjBRTEo1Z2pQU1dyYktPZjlVYUtpRFlTVUZ2YUU5THd2YTJINVIyTEFrYXNmcHk0amlLSFVvT1pyekN6bGxvR2NBQzJnMlh3UFc3OWgxOFZFR0hBSmVnU1ZNcDIxdkpVZ215VDJISlRzNUFXMlFhMk1EOU9vd2tRX2NJYldISXpReWFqTFdod0luTXk4bWfSAcsBQVVfeXFMT244cjhMNWJEV3lqUVh1dlBTbzh3bkVNdHZhZGFEanpxS1phWnBWRkFxZXQ0S1p1TkNobFRpQVBwa1hDZVZtSW5EUXlCUk95Q2pNNGQ5R2JUT1FuSzg4OHRCcTdZV1VsdWNUMjhWdVg0MDVmWTNQV01sbXBBVTJuTzBqMkJjWmpjNDFmZ0daTzROazFyU2Fpc3l5R3RLRlQ5dUVLc0NzRVFYb25qUkZfSU0zRktkcklwaFZBeVdJZDZSNVFzS21xdl9pTjA?oc=5', 'content': 'Stock Market News Today Live Updates on February 19, 2025 : Vodafone Idea share price jumps 4% after strong rebuttal against GST payment | Stock Market News - Mint'}, {'url': 'https://news.google.com/rss/articles/CBMikgJBVV95cUxOUkZKM3JMUkJoV3N6MElhT1JuNHNLTmJjX083ZHlZakxoMjRzWmhPTzZ4aGFqUTRmWEtQa3REN3J3MjVnZXYtNEJFb0FsaVBaQ25wQnNtX3dKWml2ekhXREJqRmgxQUQyRkN0N0dvdlBlbUMtT3VTU1p3VVF3TFZ6d0ZtQm9Bb0JMUjFQZFptdUM0Mm1vS2s4RHY1eVJwa2p6eDhWWWE4NWtoVG5CWHFVU1cyeEdTTEJHb0d4X0x6aldiTDJ5ZWxjdUoxOHlHVlNsUkxOR2dsUlpYMmZMZm1qMnFxVURuT3RhTmh2OEJQWk43ZE43SnJDbEdCbEVRRllINnhyRVlaV0ZEbGRocndTSXZB0gGXAkFVX3lxTFBvaHdXX3JFR09xa0dYWk5CTTVjTlA0TGVxWnN6UjdxaTh1TUNVWTZrQnJqYmI0T3R3U0JKYXpLTW5wc2kxbU1kcFIwZ0V3RVliaWVHbVN5ejVMMW5ES0JRZVY1Y2VHYmY2ZjFvQXFqNy1lQWRWN0RkcUlhbTZ2VUZ4VnJKR3dkaGNZUU5nR05MOWczSlZnemE2aUdPelhwaDlQR0hBU2ZWZ1U2MHJ1SjNieVA3UU5aZG9sVnNnNzYzUDljbHI2QnlYSnQ5eVE3THBlb0VGT2d2M3VUZEc0b2VxS3hSNmY4VFllMjNrTzFqR0pkalU1X2M2Rmtvc09zWVowUWJHc2xuRXpnUWdJLXNqZ2lnbERXQQ?oc=5', 'content': 'Stock market today: BSE Sensex ends marginally lower; Nifty50 below 22,950 - The Times of India'}, {'url': 'https://news.google.com/rss/articles/CBMi9wFBVV95cUxNeDF6RzhMa3dwV3FwVjcxUzZnVS1FRkFxWktHUDZUSlRZR3NMMGlhTGFYUDBsdGpBODA2cXRVS2hxdEc5X0ExdmpNRHlvOGJtOG9qUkFZS3ZXXzZ6aVpQMndqME5wdWZjVzYwZ050anlNUkNLc0VTZGRxdlg5NHBtUUNGTExyemRCc2RocVNaaHg3Q0JQNW4taHZMeExVNnpQLUoyNHFNZXlMOHRlVktneXNfZzlrbjhKOGxtZWRYRm5xWjdoYklZVDU5WnIwQ285Tnl5R21lT1hTU1E3RHcxZXpNQWFiOE96NWpSVmMxOHBRX2RFdUxF0gH8AUFVX3lxTE9KbjFQdEE0eTdLa0s4am5SRVo0OFhPdGFNcWxIYjA1Vjh3Vkk5YUhieXNQOGkzLXhQVERrcWxWbFlOLThoVnhvd2lkUWtxSzZyV3pOMzNIYjdQbzFqT1FxRFRURmMxYmh3RjQxQVlxSDVpR1VsSWNOZ1Fwb2lSWV80MEhIUE1MNUxrdTFCX0ktRkdRN1JnR1VFcHMxd09pOFdGTzVLb0Q2Y0hYN2dhdUtGTkVOd1ZMcVFsNzFTX3AyZTZlZ1Roc0FncEktYnB2Zlo1VnF5SndvRDA2MlgzRkhFbG5Yb2ZVM3Qxc0dsUzIwLWNreFJsYVRFMkJfbg?oc=5', 'content': 'Stock Market Highlights: Sensex, Nifty end flat for 3rd day; Infy, TCS slip 2%; SmallCap rises 2% - Business Standard'}, {'url': 'https://news.google.com/rss/articles/CBMi7AFBVV95cUxPaTdLV0FBQzgwQnU3UTZ4b0NIbXBQX0hmQmxCa3lUNEZrMXY1Wmc0TWFQUVhqcGNhNmpRSXd5MWU5alJOdEEzNG1sZXU1YzVObHdDUGs4bER4Ylk5b1Vwa19BRDE2T2I2SXhlLXpiNEVtWWpiemhDeXd1SE5oNkxDYTRrYlgzRFF4OVpvdmNvZ3czaFBhSFJhN1k3bHZoQVo1UlhiZTJpVHBuc2xkWkh2NWs4ZWFGRUFfZUIzak0zbWRIOHl3ZzdsWHBjS09FdUw0LTRlYnVleEFxOFJkWGRfZThlSmN1VktxTU1SN9IB8gFBVV95cUxNVlZKaGd3cW1BWUY5elU1REtaZ0RQbWtVYlRoemJaTXpRUnlvUGE0YUx0V1czekEyU1lHSnRSQ0xyWWZXY2k2Wkl4cEtOcThETTR3MmdTcTFOaG04U01kSFFTdFVoSmUxTVExUDdSZjF3cm9INTd6QVc2Vi0tS3E3UmpaRXYtQXoxZmNNYVBkQ0N5VTJrNWwwMEgtWHJvQWZmTUhsbEU1cmxGMzdVNFlwSlVtVUN1SVFoUHZJbEs1bHBSWUxqQUR5NXBCMV9QYmg1ZzJZTzJkYjlBUkVGUHdFUjFIMEY4Ynh6X2o4RUl0anBYZw?oc=5', 'content': 'Closing Bell: Sensex, Nifty flat amid volatility; IT, pharma drag, metal, realty shine - Moneycontrol'}]\u001b[0m\u001b[32;1m\u001b[1;3mThe text appears to be a summary of stock market news and trends. It mentions various companies that have seen changes in their stock prices, including Infy, TCS, and small-cap stocks rising. However, it does not provide any specific information about the reasons behind these changes or what the future holds for the markets.\n",
      "\n",
      "If you're looking for more detailed analysis or insights into the stock market trends, I can try to help you find relevant resources or websites that may be able to provide more in-depth information.\u001b[0m\n",
      "\n",
      "\u001b[1m> Finished chain.\u001b[0m\n",
      "The text appears to be a summary of stock market news and trends. It mentions various companies that have seen changes in their stock prices, including Infy, TCS, and small-cap stocks rising. However, it does not provide any specific information about the reasons behind these changes or what the future holds for the markets.\n",
      "\n",
      "If you're looking for more detailed analysis or insights into the stock market trends, I can try to help you find relevant resources or websites that may be able to provide more in-depth information.\n"
     ]
    }
   ],
   "source": [
    "#  create Agent executor\n",
    "from langchain.agents import AgentExecutor\n",
    "\n",
    "agent_executor = AgentExecutor(\n",
    "    agent=ollama_agent,\n",
    "    tools = tools,\n",
    "    verbose=True,\n",
    "    handle_parsing_errors=True\n",
    ")\n",
    "result = agent_executor.invoke({\"input\":\"search news on Indian stocke market today\"})\n",
    "print(result['output'])"
   ]
  },
  {
   "cell_type": "code",
   "execution_count": 13,
   "metadata": {},
   "outputs": [
    {
     "name": "stdout",
     "output_type": "stream",
     "text": [
      "\n",
      "\n",
      "\u001b[1m> Entering new AgentExecutor chain...\u001b[0m\n",
      "\u001b[32;1m\u001b[1;3m\n",
      "Invoking: `search_news` with `{'query': 'latest AI investment news'}`\n",
      "\n",
      "\n",
      "\u001b[0m\u001b[36;1m\u001b[1;3m[{'url': 'https://news.google.com/rss/articles/CBMifkFVX3lxTE5GUXpWazJCelZMdE04MFlEeG1sNHFLWnhLcWJsWHYxQjRQeURNcnFod2dUUzM4TzYtVjEwVTNNRlZncXZ3U19PejRyZUtrNDhFU2ZJY2FrZlQyT2x6c0Nsci1vcjhpVnNQMUx6V204SXNzNkE0ZTNua2hvNGpydw?oc=5', 'content': \"AI Stocks Face 'Show Me' Moment As China's DeepSeek Roils Capital Spending Outlook - Investor's Business Daily\"}, {'url': 'https://news.google.com/rss/articles/CBMioAFBVV95cUxQMjRqcmFqa3FBaGxmdmZfQ0tPWFVFbnI0OThfeklwZ0FHOVZ4bG9fczhUUlBBbF82YXpfd0w4eVA3eXdqMndLTDNpYkV5THZkYVRmVXBJOFZjQlpfVmtJSWM0dUtQcWpnTVVZcFpZT3c4bW9GdHhwVndIZlhzRmRtTlQwY3AtQk1oMW5vMDUwOExORE1Ub040QXlVelhNak85?oc=5', 'content': 'Nvidia slashes stake in emerging rival as AI arms race heats up - TheStreet'}, {'url': 'https://news.google.com/rss/articles/CBMixgFBVV95cUxNTVZiaXNCY2JqdjJYTnZhZVF0R19hUUxOZjNNeE05dDdmOGQ5bUpKNGNMcVE4ZGFlTy1KY3lqSWVxcDhra1JRdmQzUDNBOG5RcHd4T0hBbk5ielRnVTZNNXFvZFNOS2RVeEpFX0xkZE4ySkMwR05BbUtBcTV6M0JMTjRRUk1NeHNzZUdxbmNPS2pjVE5HZkMtNFlYN1hPdXVRcTJvYlh5WTNvUUxWdHd2QzEtMy1rS2pzdy0taEZ5N09xVmZMUFHSAc4BQVVfeXFMT2FPY2xqOURpMjAtV29qQXE1Rmt2LXNhM0JyUTQxXzVTSTBOVWhudEdRWlg5OGt4WFpPaXlaNnFEZUpJbEJsa1E1b1NDazRtZExyUnc3UmNkTkV3UVRmUGtCSFR6MVp0TENrS1cxQXV0VldxTjVHZFZVc0tTWWRERk16Z2d1eG1VbVdKSzNweHAyOTgtSm1vc1NOSjc1VlZ3Y0RHWFloYS1yTnY3MFpLQTluQjNoOUU0MDhOZUNLT3NNS2xYN2IwUDg1NnlYbXc?oc=5', 'content': 'Microsoft (MSFT) Announces $2.8 Billion Investment in AI and Cloud Expansion in Poland - Insider Monkey'}, {'url': 'https://news.google.com/rss/articles/CBMirwFBVV95cUxPaVNoQ0JOYTJyQmFrM0twbjFuUFl2ZXdMWkFYT3RvUWlLZUxFOFNKYnQwT00yOVNXYWRtZU5kZ1U5NUE1MjZ1eTlNQmd0aG1jd1I2d1huZjdBeUlDLVc2TWFWa2V6VFNjRFVMUXozeTNCZ0JsSVRveE5Yb3lzR18tOTRQNVM3VUFIZEhPWjlOYmsyN2JUbEl6Q0VncllDeDBuMUFxU1RYT2plQUpQM0hV?oc=5', 'content': 'Meta Plans Major Investment Into AI-Powered Humanoid Robots - Bloomberg'}, {'url': 'https://news.google.com/rss/articles/CBMiqAFBVV95cUxOVkl4SVVJMzZOWE9kWnZncG1iY0dTaGs3Q0pGRWZQZDBleUx1ZXhuNG45TnZIVTloRXRIelNOMVJidmdJTjd3QWdoUTBqTFo0Q3d1N2RMUDJDTHM1SGEtTlkzYk9OcDJnbi1FaGJJcllsQnV2YlVZR2lEZFVJU1hNWFFOd01JN2NVdnJLcmhLOXNWZVVlQW5VLUlPdGZZZDZVWldma0JBUmQ?oc=5', 'content': 'EU to invest €50B to ‘supercharge’ innovation in artificial intelligence - Science Business'}]\u001b[0m\u001b[32;1m\u001b[1;3mHere are the latest AI investment news:\n",
      "\n",
      "* Nvidia slashes stake in emerging rival as AI arms race heats up\n",
      "* Microsoft (MSFT) Announces $2.8 Billion Investment in AI and Cloud Expansion in Poland\n",
      "* Meta Plans Major Investment Into AI-Powered Humanoid Robots\n",
      "* EU to invest €50B to ‘supercharge’ innovation in artificial intelligence\n",
      "\n",
      "These news articles suggest that the AI investment landscape is becoming increasingly competitive, with companies like Nvidia and Microsoft making significant investments in AI research and development. Additionally, there are concerns about the potential risks of AI arms racing, as seen in the article on Nvidia's decision to slash its stake in an emerging rival.\u001b[0m\n",
      "\n",
      "\u001b[1m> Finished chain.\u001b[0m\n",
      "Here are the latest AI investment news:\n",
      "\n",
      "* Nvidia slashes stake in emerging rival as AI arms race heats up\n",
      "* Microsoft (MSFT) Announces $2.8 Billion Investment in AI and Cloud Expansion in Poland\n",
      "* Meta Plans Major Investment Into AI-Powered Humanoid Robots\n",
      "* EU to invest €50B to ‘supercharge’ innovation in artificial intelligence\n",
      "\n",
      "These news articles suggest that the AI investment landscape is becoming increasingly competitive, with companies like Nvidia and Microsoft making significant investments in AI research and development. Additionally, there are concerns about the potential risks of AI arms racing, as seen in the article on Nvidia's decision to slash its stake in an emerging rival.\n"
     ]
    }
   ],
   "source": [
    "result = agent_executor.invoke({\"input\":\"sSearch the latest AI Investment news\"})\n",
    "print(result['output'])"
   ]
  },
  {
   "cell_type": "code",
   "execution_count": 14,
   "metadata": {},
   "outputs": [
    {
     "name": "stdout",
     "output_type": "stream",
     "text": [
      "\n",
      "\n",
      "\u001b[1m> Entering new AgentExecutor chain...\u001b[0m\n",
      "\u001b[32;1m\u001b[1;3m\n",
      "Invoking: `search_news` with `{'query': 'ranvir allahabadiya'}`\n",
      "\n",
      "\n",
      "\u001b[0m\u001b[36;1m\u001b[1;3m[{'url': 'https://news.google.com/rss/articles/CBMi7gFBVV95cUxNSXN0WGZqOHhpY0lyU2xSbTdUYWhFOXF2RGVaa2hKdGZfcXBscEdJR2ZYU0t2MUtPeVNKUm05MnpKLW9qTVlhTDU5WU1VMWo4WE1pR2hmWlpzSTVRelZrdXpOU2hLUUhqaUVQLUdHU3ZuTGFDX1NYSTlHbEJtZ0xDVk5Ya1pDNG91elJJbDVsZC15YjZfT05qdDM3SHp4QkRjNGFwV0NPbm80QmdCVjMxZ2Q5ZWxPdjBXUkwteDk3b1dwdnFlWmpYY0tObV96Z2t3cDI1OGM5Sm1EV0swaXA5eGg1MnRZVEhoX1BaTW130gHzAUFVX3lxTE13UXVPYmZjZkdlc1g2clo4WVEweXpxUndGU01nWHhaN3g4SG5vb2twdHl6UWNNc2VwNnhHempfcUg5b2c1bXAydDV0R0pPbnBPZnE1UzNkMGpqcEJTRmZ3SmFZUXBoYlZic0E0SDh0ajZCckpaR0wyY2g2Q3g5bXIzS19FWXV0SEhkUWxKMzJrOXlCcTZxSzQwekRtbmxGSnd6dVpNOWN1SWxYQUdRSkdWZnA3bzZ3eXVSamNyLWE0YTdjQ2NxT0hXd1VUVUlCRTVTZnJUREs1WFRmQWVmRERyTmU0bXVqMm9EOFdkY3pQN0JRbw?oc=5', 'content': \"Ranveer Allahbadia's BeerBiceps YouTube channel and all videos deleted after being hacked - The Economic Times\"}, {'url': 'https://news.google.com/rss/articles/CBMi4wFBVV95cUxOQTJFbzRZVEswQm5aWnJ0WGhnM2dNTE9oUDBHZ3RjeHo4eWNsQmtzTnRKQnJFRXBPT3o3dzNYczEyTFBWeEpoXzhoMUpHb0FoY0ZwSy1ybml1ZF9WWGhtV05PUjU5RmVmUHJCYWp4aVl5SVhrSkFwMkJPVnFEV2F3cElLNnNFQ25ZQzZQTWQ1YTlYVHBYekJURGN6cW45OXJ6UEN6MnNtYjlRM25IdVA0LTRmcmV2UV85dlZYejZlaHhQYm0ydEhGZU10MGNpYk9CVml4TzFoSDFNWTNKcEdTbE5hZ9IB4wFBVV95cUxOQTJFbzRZVEswQm5aWnJ0WGhnM2dNTE9oUDBHZ3RjeHo4eWNsQmtzTnRKQnJFRXBPT3o3dzNYczEyTFBWeEpoXzhoMUpHb0FoY0ZwSy1ybml1ZF9WWGhtV05PUjU5RmVmUHJCYWp4aVl5SVhrSkFwMkJPVnFEV2F3cElLNnNFQ25ZQzZQTWQ1YTlYVHBYekJURGN6cW45OXJ6UEN6MnNtYjlRM25IdVA0LTRmcmV2UV85dlZYejZlaHhQYm0ydEhGZU10MGNpYk9CVml4TzFoSDFNWTNKcEdTbE5hZw?oc=5', 'content': \"Educational qualification of India's top 9 social media influencers - The Times of India\"}, {'url': 'https://news.google.com/rss/articles/CBMi2wFBVV95cUxNbG1vRlJUYjFfYVZXWHk3LUM1d3VmaUY3UnBfcXBPVjlIRFlzU1VkWW0zUDRGZDQ4Q0pTMVdEYUVkZUFab1NUamw1VnhMbTh5b3RseFdIZElLNmhEY3pIaER6Sm13dm5SZTh2SURvOXN3T2xtc0ZSNDgxUjRSWDVWMk5va3JTTkIyMG9ocEZ5bVZNR1M4YnRmU2QzZEFnZXdIWmFrSUxqUnQ5RGVyQ1hZM0o5S2ZaSUFQdFNpU3JKUm1NUHltS3p1eUd3bWk5S3lUb1NOYjRoeUtSTUU?oc=5', 'content': \"'People Will Say You Are From BJP': Social Media Influencer Ranveer Allahabadia's Candid Chat With PM Modi - Jagran English\"}]\u001b[0m\u001b[32;1m\u001b[1;3mHere's a post for Instagram:\n",
      "\n",
      "\"Breaking News! Ranvir Allahabadiya, the popular social media influencer, has had his YouTube channel and all videos deleted after being hacked. The incident has left many in the industry shocked and saddened. As a responsible assistant, I want to remind everyone to be cautious of their online presence and take necessary precautions to protect it. #RanvirAllahabadiya #SocialMediaInfluencer #CyberSecurity\"\n",
      "\n",
      "Please note that the post is just an announcement and does not contain any specific information about Ranvir Allahabadiya's personal life or opinions. It is meant to raise awareness about online safety and security.\u001b[0m\n",
      "\n",
      "\u001b[1m> Finished chain.\u001b[0m\n",
      "Here's a post for Instagram:\n",
      "\n",
      "\"Breaking News! Ranvir Allahabadiya, the popular social media influencer, has had his YouTube channel and all videos deleted after being hacked. The incident has left many in the industry shocked and saddened. As a responsible assistant, I want to remind everyone to be cautious of their online presence and take necessary precautions to protect it. #RanvirAllahabadiya #SocialMediaInfluencer #CyberSecurity\"\n",
      "\n",
      "Please note that the post is just an announcement and does not contain any specific information about Ranvir Allahabadiya's personal life or opinions. It is meant to raise awareness about online safety and security.\n"
     ]
    }
   ],
   "source": [
    "result = agent_executor.invoke({\"input\":\"Search news about ranvir allahabadiya and create a post for instagram\"})\n",
    "print(result['output'])"
   ]
  },
  {
   "cell_type": "code",
   "execution_count": null,
   "metadata": {},
   "outputs": [],
   "source": []
  }
 ],
 "metadata": {
  "kernelspec": {
   "display_name": "env",
   "language": "python",
   "name": "python3"
  },
  "language_info": {
   "codemirror_mode": {
    "name": "ipython",
    "version": 3
   },
   "file_extension": ".py",
   "mimetype": "text/x-python",
   "name": "python",
   "nbconvert_exporter": "python",
   "pygments_lexer": "ipython3",
   "version": "3.11.10"
  }
 },
 "nbformat": 4,
 "nbformat_minor": 2
}
